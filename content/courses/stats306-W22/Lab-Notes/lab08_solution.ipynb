{
  "nbformat": 4,
  "nbformat_minor": 0,
  "metadata": {
    "colab": {
      "name": "lab08_solution.ipynb",
      "provenance": [],
      "collapsed_sections": []
    },
    "kernelspec": {
      "name": "ir",
      "display_name": "R"
    },
    "language_info": {
      "name": "R"
    }
  },
  "cells": [
    {
      "cell_type": "markdown",
      "source": [
        "## Lab 8 (March 21):\n",
        "### Strings\n",
        "\n",
        "Course page: https://ambujtewari.github.io/stats306-winter2022/\n",
        "\n",
        "Lab page: https://bosafoagyare.netlify.app/courses/stats306-w22/\n",
        " <br> <br>\n",
        "Special thanks to **Ryan Duncan**, whose material has been very helpful in preparing this lab\n",
        "\n",
        "  Today, we are going to look at:   \n",
        " - [Strings]()\n",
        " - [Regular Expressions]()\n",
        "\n",
        " \n",
        "\n",
        "\n",
        "\n",
        "\n"
      ],
      "metadata": {
        "id": "DXlu917uyMvI"
      }
    },
    {
      "cell_type": "markdown",
      "source": [
        "<br><br>\n",
        "> ## Let's start by loading our packages. It is always encouraged to load all packages atop your codes."
      ],
      "metadata": {
        "id": "PhhdFMeZzrib"
      }
    },
    {
      "cell_type": "code",
      "execution_count": 70,
      "metadata": {
        "id": "o1q2Qi3-T6xw"
      },
      "outputs": [],
      "source": [
        "library(tidyverse)       \n",
        "options(repr.plot.width=10, repr.plot.height=8)    ## Set the dimension of all plots "
      ]
    },
    {
      "cell_type": "markdown",
      "source": [
        "---"
      ],
      "metadata": {
        "id": "32el_eWq2529"
      }
    },
    {
      "cell_type": "markdown",
      "source": [
        "<br> <br>\n"
      ],
      "metadata": {
        "id": "wMM8Nkx0TQpc"
      }
    },
    {
      "cell_type": "markdown",
      "source": [
        "## **(1) Regular Expressions**\n",
        "Regular expressions (regex) are a way to describe patterns in text and are used to search for and match certain patterns in strings. For instance, say that you want to find and extract all the email addresses in a document automatically. How might we do that?\n",
        "\n",
        "Let us look at some tools that we will employ in finding patterns in strings:\n",
        "<br><br><br><br>\n",
        "### **(1.1) Special characters**\n",
        "- `. \\ | ( ) [ ] ^ $ { } * + ?`\n",
        "- Note that `\\t` and `\\n` match the tab and newline characters.\n",
        "- If you want the \"literal\" versions of any of the reserved characters, you will need to escape them with a backslash `\\`, e.g. `[\\.\\\\\\|]`\n",
        "\n",
        "\n",
        "<br> \n",
        "### **(1.2) Character classes**\n",
        "- `.` matches anything (wildcard)\n",
        "- `[aeiou]` matches a single character in the set provided\n",
        "- `[^aeiou]` matches a single character **NOT** in the set\n",
        "- `[a-e]` matches a range, equivalent to `[abcde]`\n",
        "\n",
        "<br> \n",
        "### **(1.3) Shorthand**\n",
        "- `\\w` matches a \"word\" character, equivalent to `[a-zA-Z0-9_]`, i.e alphanumeric plus underscore characters.\n",
        "- `\\s` matches any whitespace, including tabs and newlines\n",
        "- `\\d` matches digits, equivalent to `[0-9]`\n",
        "- `\\W`, `\\S`, and `\\D` match the opposite of the lower-case versions\n",
        "\n",
        "\n",
        "<br> \n",
        "### **(1.4) Grouping**\n",
        "- `()` are used to group patterns together. This can be used with any of the below operators. This can also be used to extract portions of a regex out individually, which we will later learn.\n",
        "- `\\1`, `\\2`, etc. refers to the first, second, etc. group in the match.\n",
        "\n",
        "**[NB:]** Groping is very important! A good time to use grouping is:\n",
        "- for repetition (of same match)\n",
        "- for providing alternatives\n",
        "We will explore more in the examples below\n",
        "\n",
        "<br> \n",
        "### **(1.5) Operators**\n",
        "- `|` is the OR operator and allows matches of either side\n",
        "- `{}` describes how many times the preceeding character of group must occur:\n",
        "    + `{m}` must occur exactly `m` times\n",
        "    + `{m,n}` must occur between `m` and `n` times, inclusive\n",
        "    + `{m,}` Must occur at least `m` times\n",
        "- `*` means the preceeding character can appear zero or more times, equivalent to `{0,}`\n",
        "- `+` means the preceeding character must appear one or more times, equivalent to `{1,}`\n",
        "- `?` means the preceeding character can appear zero or one time, equivalent to `{0,1}`\n",
        "\n",
        "**- Challenge**: What do the following mean?  \n",
        "1. `abc*` :\n",
        "2. `abc+` :       \n",
        "3. `abc?` :       \n",
        "4. `abc{2}` : \n",
        "5. `abc{2,}` :\n",
        "6. `abc{2,5}` :   \n",
        "7. `a(bc)*` :\n",
        "8. `a(bc){2,5}` : \n",
        "9. `a(b|c)` :\n",
        "\n",
        "<br> \n",
        "### **(1.6) Anchors**\n",
        "- `^` matches the start of a string (or line)\n",
        "- `$` matches the end of a string (or line)\n",
        "- `\\b` matches a word \"boundary\"\n",
        "- `\\B` matches not word boundary\n",
        "\n",
        "**- Challenge**: What do the following mean?  \n",
        "1. `^The`  :\n",
        "2.  `end$` :\n",
        "3. `^The end$` : \n",
        "4. `pond`:\n"
      ],
      "metadata": {
        "id": "bZEB6QTq9IXB"
      }
    },
    {
      "cell_type": "markdown",
      "source": [
        "## **(2) Strings**"
      ],
      "metadata": {
        "id": "DJGH-AI3cDFO"
      }
    },
    {
      "cell_type": "code",
      "source": [
        "string1 = \"Michigan: BIG 10 Champion!!\"\n",
        "string1"
      ],
      "metadata": {
        "id": "kaDzAjQidbJU",
        "outputId": "8a05ce22-86a7-4522-f5f1-aaabe9a03a93",
        "colab": {
          "base_uri": "https://localhost:8080/",
          "height": 34
        }
      },
      "execution_count": 71,
      "outputs": [
        {
          "output_type": "display_data",
          "data": {
            "text/html": [
              "'Michigan: BIG 10 Champion!!'"
            ],
            "text/markdown": "'Michigan: BIG 10 Champion!!'",
            "text/latex": "'Michigan: BIG 10 Champion!!'",
            "text/plain": [
              "[1] \"Michigan: BIG 10 Champion!!\""
            ]
          },
          "metadata": {}
        }
      ]
    },
    {
      "cell_type": "code",
      "source": [
        "## Some states of the US \n",
        "our_state = \"Michigan\"\n",
        "north_east_states = c(\"Connecticut\", \"Maine\", \"Massachusetts\", \"Vermont\", \"New Hampshire\", \"Rhode Island\")\n",
        "lakemich_states = c(\"Wisconsin\", \"Illinois\", \"Michigan\", \"Indiana\")"
      ],
      "metadata": {
        "id": "uzmmJgewfZKO"
      },
      "execution_count": 72,
      "outputs": []
    },
    {
      "cell_type": "code",
      "source": [
        "## Find our state (Michigan)\n",
        "our_state %in% north_east_states\n",
        "our_state %in% lakemich_states"
      ],
      "metadata": {
        "id": "XZPBzxbafkKB",
        "outputId": "f3859b20-7a35-486c-ddff-989aa0c06722",
        "colab": {
          "base_uri": "https://localhost:8080/",
          "height": 52
        }
      },
      "execution_count": 73,
      "outputs": [
        {
          "output_type": "display_data",
          "data": {
            "text/html": [
              "FALSE"
            ],
            "text/markdown": "FALSE",
            "text/latex": "FALSE",
            "text/plain": [
              "[1] FALSE"
            ]
          },
          "metadata": {}
        },
        {
          "output_type": "display_data",
          "data": {
            "text/html": [
              "TRUE"
            ],
            "text/markdown": "TRUE",
            "text/latex": "TRUE",
            "text/plain": [
              "[1] TRUE"
            ]
          },
          "metadata": {}
        }
      ]
    },
    {
      "cell_type": "code",
      "source": [
        "north_east_states %in% our_state"
      ],
      "metadata": {
        "id": "8ibzW7C9NLUr",
        "outputId": "8831659c-2ca5-4e4d-982b-1b3bd0ad7355",
        "colab": {
          "base_uri": "https://localhost:8080/",
          "height": 34
        }
      },
      "execution_count": 74,
      "outputs": [
        {
          "output_type": "display_data",
          "data": {
            "text/html": [
              "<style>\n",
              ".list-inline {list-style: none; margin:0; padding: 0}\n",
              ".list-inline>li {display: inline-block}\n",
              ".list-inline>li:not(:last-child)::after {content: \"\\00b7\"; padding: 0 .5ex}\n",
              "</style>\n",
              "<ol class=list-inline><li>FALSE</li><li>FALSE</li><li>FALSE</li><li>FALSE</li><li>FALSE</li><li>FALSE</li></ol>\n"
            ],
            "text/markdown": "1. FALSE\n2. FALSE\n3. FALSE\n4. FALSE\n5. FALSE\n6. FALSE\n\n\n",
            "text/latex": "\\begin{enumerate*}\n\\item FALSE\n\\item FALSE\n\\item FALSE\n\\item FALSE\n\\item FALSE\n\\item FALSE\n\\end{enumerate*}\n",
            "text/plain": [
              "[1] FALSE FALSE FALSE FALSE FALSE FALSE"
            ]
          },
          "metadata": {}
        }
      ]
    },
    {
      "cell_type": "markdown",
      "source": [
        "**String versus vector of strings**"
      ],
      "metadata": {
        "id": "YUO5UEjdgA_A"
      }
    },
    {
      "cell_type": "code",
      "source": [
        "## String vs vector of strings\n",
        "string2 <- \"umich\"\n",
        "str_vec <- c(\"berkeley\", \"harvard\", \"umich\", \"washington\", \"madison\", \"stanford\")"
      ],
      "metadata": {
        "id": "vVaPVybJf6mc"
      },
      "execution_count": 75,
      "outputs": []
    },
    {
      "cell_type": "code",
      "source": [
        "\n"
      ],
      "metadata": {
        "id": "okFjW5xlDP9W"
      },
      "execution_count": 76,
      "outputs": []
    },
    {
      "cell_type": "markdown",
      "source": [
        "### **(2.1) Some important string functions**\n",
        "All functions in `stringr` start with `str_` and take a vector of strings as the first argument\n",
        "- `str_detect(<STRING>, pattern)`: tells you if there’s any match to the pattern. Returns `TRUE/FALSE`\n",
        "- `str_extract(<STRING>, pattern)`: extracts the text of the match. Think of it as extracting what was detected. This returns the first\n",
        "pattern match found in each string, as a vector.\n",
        "- `str_extract_all(<STRING>, pattern)`: returns **EVERY** pattern\n",
        "match\n",
        "- `str_subset(<STRING>, pattern)`: extracts the words containing the match (in a vector)\n",
        "- `str_count(<STRING>, pattern)`: counts the number of patterns\n",
        "- `str_length(<STRING>)`: computes the number of characters in a string\n",
        "- `str_replace(<STRING>, pattern, replacement)` replaces the matches with new text"
      ],
      "metadata": {
        "id": "_N0ckHUShNzT"
      }
    },
    {
      "cell_type": "markdown",
      "source": [
        "### **(2.2) Detect, Extract and Subset**\n",
        "It is very important to know the diffreneces between `str_extract`, `str_extract_all` and `str_subset`. Let's look at the examples below:\n",
        "\n",
        "What do you think is happening?"
      ],
      "metadata": {
        "id": "7H7QatJgleN9"
      }
    },
    {
      "cell_type": "code",
      "source": [
        "x <- c(\"why\", \"video\", \"cross\", \"extra\", \"deal\", \"authority\")\n",
        "\n",
        "## Detect\n",
        "str_detect(x, \"[aeiou]\")"
      ],
      "metadata": {
        "colab": {
          "base_uri": "https://localhost:8080/",
          "height": 34
        },
        "id": "i4W3nXN1hYhq",
        "outputId": "4a67b920-3932-4142-d98b-62d736808930"
      },
      "execution_count": 77,
      "outputs": [
        {
          "output_type": "display_data",
          "data": {
            "text/html": [
              "<style>\n",
              ".list-inline {list-style: none; margin:0; padding: 0}\n",
              ".list-inline>li {display: inline-block}\n",
              ".list-inline>li:not(:last-child)::after {content: \"\\00b7\"; padding: 0 .5ex}\n",
              "</style>\n",
              "<ol class=list-inline><li>FALSE</li><li>TRUE</li><li>TRUE</li><li>TRUE</li><li>TRUE</li><li>TRUE</li></ol>\n"
            ],
            "text/markdown": "1. FALSE\n2. TRUE\n3. TRUE\n4. TRUE\n5. TRUE\n6. TRUE\n\n\n",
            "text/latex": "\\begin{enumerate*}\n\\item FALSE\n\\item TRUE\n\\item TRUE\n\\item TRUE\n\\item TRUE\n\\item TRUE\n\\end{enumerate*}\n",
            "text/plain": [
              "[1] FALSE  TRUE  TRUE  TRUE  TRUE  TRUE"
            ]
          },
          "metadata": {}
        }
      ]
    },
    {
      "cell_type": "code",
      "source": [
        "## Extract\n",
        "str_extract(x, \"[aeiou]\")"
      ],
      "metadata": {
        "id": "SjV6MwJomtHK",
        "outputId": "f3a7e812-917c-4efe-ea9e-741e438e9410",
        "colab": {
          "base_uri": "https://localhost:8080/",
          "height": 34
        }
      },
      "execution_count": 78,
      "outputs": [
        {
          "output_type": "display_data",
          "data": {
            "text/html": [
              "<style>\n",
              ".list-inline {list-style: none; margin:0; padding: 0}\n",
              ".list-inline>li {display: inline-block}\n",
              ".list-inline>li:not(:last-child)::after {content: \"\\00b7\"; padding: 0 .5ex}\n",
              "</style>\n",
              "<ol class=list-inline><li>NA</li><li>'i'</li><li>'o'</li><li>'e'</li><li>'e'</li><li>'a'</li></ol>\n"
            ],
            "text/markdown": "1. NA\n2. 'i'\n3. 'o'\n4. 'e'\n5. 'e'\n6. 'a'\n\n\n",
            "text/latex": "\\begin{enumerate*}\n\\item NA\n\\item 'i'\n\\item 'o'\n\\item 'e'\n\\item 'e'\n\\item 'a'\n\\end{enumerate*}\n",
            "text/plain": [
              "[1] NA  \"i\" \"o\" \"e\" \"e\" \"a\""
            ]
          },
          "metadata": {}
        }
      ]
    },
    {
      "cell_type": "code",
      "source": [
        "## Extract all\n",
        "str_extract_all(x, \"[aeiou]\")\n"
      ],
      "metadata": {
        "id": "2zSacIdImzTy",
        "outputId": "d2935a6b-3671-44bb-92f9-14edc9e51835",
        "colab": {
          "base_uri": "https://localhost:8080/",
          "height": 149
        }
      },
      "execution_count": 79,
      "outputs": [
        {
          "output_type": "display_data",
          "data": {
            "text/html": [
              "<ol>\n",
              "\t<li></li>\n",
              "\t<li><style>\n",
              ".list-inline {list-style: none; margin:0; padding: 0}\n",
              ".list-inline>li {display: inline-block}\n",
              ".list-inline>li:not(:last-child)::after {content: \"\\00b7\"; padding: 0 .5ex}\n",
              "</style>\n",
              "<ol class=list-inline><li>'i'</li><li>'e'</li><li>'o'</li></ol>\n",
              "</li>\n",
              "\t<li>'o'</li>\n",
              "\t<li><style>\n",
              ".list-inline {list-style: none; margin:0; padding: 0}\n",
              ".list-inline>li {display: inline-block}\n",
              ".list-inline>li:not(:last-child)::after {content: \"\\00b7\"; padding: 0 .5ex}\n",
              "</style>\n",
              "<ol class=list-inline><li>'e'</li><li>'a'</li></ol>\n",
              "</li>\n",
              "\t<li><style>\n",
              ".list-inline {list-style: none; margin:0; padding: 0}\n",
              ".list-inline>li {display: inline-block}\n",
              ".list-inline>li:not(:last-child)::after {content: \"\\00b7\"; padding: 0 .5ex}\n",
              "</style>\n",
              "<ol class=list-inline><li>'e'</li><li>'a'</li></ol>\n",
              "</li>\n",
              "\t<li><style>\n",
              ".list-inline {list-style: none; margin:0; padding: 0}\n",
              ".list-inline>li {display: inline-block}\n",
              ".list-inline>li:not(:last-child)::after {content: \"\\00b7\"; padding: 0 .5ex}\n",
              "</style>\n",
              "<ol class=list-inline><li>'a'</li><li>'u'</li><li>'o'</li><li>'i'</li></ol>\n",
              "</li>\n",
              "</ol>\n"
            ],
            "text/markdown": "1. \n2. 1. 'i'\n2. 'e'\n3. 'o'\n\n\n\n3. 'o'\n4. 1. 'e'\n2. 'a'\n\n\n\n5. 1. 'e'\n2. 'a'\n\n\n\n6. 1. 'a'\n2. 'u'\n3. 'o'\n4. 'i'\n\n\n\n\n\n",
            "text/latex": "\\begin{enumerate}\n\\item \n\\item \\begin{enumerate*}\n\\item 'i'\n\\item 'e'\n\\item 'o'\n\\end{enumerate*}\n\n\\item 'o'\n\\item \\begin{enumerate*}\n\\item 'e'\n\\item 'a'\n\\end{enumerate*}\n\n\\item \\begin{enumerate*}\n\\item 'e'\n\\item 'a'\n\\end{enumerate*}\n\n\\item \\begin{enumerate*}\n\\item 'a'\n\\item 'u'\n\\item 'o'\n\\item 'i'\n\\end{enumerate*}\n\n\\end{enumerate}\n",
            "text/plain": [
              "[[1]]\n",
              "character(0)\n",
              "\n",
              "[[2]]\n",
              "[1] \"i\" \"e\" \"o\"\n",
              "\n",
              "[[3]]\n",
              "[1] \"o\"\n",
              "\n",
              "[[4]]\n",
              "[1] \"e\" \"a\"\n",
              "\n",
              "[[5]]\n",
              "[1] \"e\" \"a\"\n",
              "\n",
              "[[6]]\n",
              "[1] \"a\" \"u\" \"o\" \"i\"\n"
            ]
          },
          "metadata": {}
        }
      ]
    },
    {
      "cell_type": "code",
      "source": [
        "## Subset\n",
        "str_subset(x, \"[aeiou]\")"
      ],
      "metadata": {
        "id": "vx-dHB4zm3O1",
        "outputId": "331a3e66-8228-451f-98e4-21c166359502",
        "colab": {
          "base_uri": "https://localhost:8080/",
          "height": 34
        }
      },
      "execution_count": 80,
      "outputs": [
        {
          "output_type": "display_data",
          "data": {
            "text/html": [
              "<style>\n",
              ".list-inline {list-style: none; margin:0; padding: 0}\n",
              ".list-inline>li {display: inline-block}\n",
              ".list-inline>li:not(:last-child)::after {content: \"\\00b7\"; padding: 0 .5ex}\n",
              "</style>\n",
              "<ol class=list-inline><li>'video'</li><li>'cross'</li><li>'extra'</li><li>'deal'</li><li>'authority'</li></ol>\n"
            ],
            "text/markdown": "1. 'video'\n2. 'cross'\n3. 'extra'\n4. 'deal'\n5. 'authority'\n\n\n",
            "text/latex": "\\begin{enumerate*}\n\\item 'video'\n\\item 'cross'\n\\item 'extra'\n\\item 'deal'\n\\item 'authority'\n\\end{enumerate*}\n",
            "text/plain": [
              "[1] \"video\"     \"cross\"     \"extra\"     \"deal\"      \"authority\""
            ]
          },
          "metadata": {}
        }
      ]
    },
    {
      "cell_type": "markdown",
      "source": [
        "## **(3) Applications**"
      ],
      "metadata": {
        "id": "dZlzfLiUm8Wg"
      }
    },
    {
      "cell_type": "code",
      "source": [
        "## Our string (\"NOT VECTOR\") to use\n",
        "\n",
        "\n",
        "baseball = \"According to Baseball Reference’s wins above average, The Red Sox had the best \n",
        "outfield in baseball— one-tenth of a win ahead of the Milwaukee Brewers, 11.5 to 11.4. And \n",
        "that’s despite, I’d argue, the two best position players in the NL this year (Christian \n",
        "Yelich and Lorenzo Cain) being Brewers outfielders. More importantly, the distance from \n",
        "Boston and Milwaukee to the third-place Yankees is about five wins. Two-thirds of the Los \n",
        "Angeles Angels’ outfield is Mike Trout (the best player in baseball) and Justin Upton (a \n",
        "four-time All-Star who hit 30 home runs and posted a 122 OPS+ and .348 wOba this year), \n",
        "and in order to get to 11.5 WAA, the Angels’ outfield would have had to replace right \n",
        "fielder Kole Calhoun with one of the three best outfielders in baseball this year by WAA.\"\n",
        "\n"
      ],
      "metadata": {
        "id": "37RizyaonNkG"
      },
      "execution_count": 81,
      "outputs": []
    },
    {
      "cell_type": "markdown",
      "source": [
        "**(i) Write a regex that captures all capitalized words**"
      ],
      "metadata": {
        "id": "tRBC5VKDnciP"
      }
    },
    {
      "cell_type": "code",
      "source": [
        "## Your code here\n",
        "str_extract_all(baseball, \"\\\\b[A-Z][a-z]+\")"
      ],
      "metadata": {
        "id": "wyyDaG_JnkgH",
        "outputId": "6f6dfd8e-5867-4a18-bc54-b8ea62e98fd1",
        "colab": {
          "base_uri": "https://localhost:8080/",
          "height": 80
        }
      },
      "execution_count": 82,
      "outputs": [
        {
          "output_type": "display_data",
          "data": {
            "text/html": [
              "<ol>\n",
              "\t<li><style>\n",
              ".list-inline {list-style: none; margin:0; padding: 0}\n",
              ".list-inline>li {display: inline-block}\n",
              ".list-inline>li:not(:last-child)::after {content: \"\\00b7\"; padding: 0 .5ex}\n",
              "</style>\n",
              "<ol class=list-inline><li>'According'</li><li>'Baseball'</li><li>'Reference'</li><li>'The'</li><li>'Red'</li><li>'Sox'</li><li>'Milwaukee'</li><li>'Brewers'</li><li>'And'</li><li>'Christian'</li><li>'Yelich'</li><li>'Lorenzo'</li><li>'Cain'</li><li>'Brewers'</li><li>'More'</li><li>'Boston'</li><li>'Milwaukee'</li><li>'Yankees'</li><li>'Two'</li><li>'Los'</li><li>'Angeles'</li><li>'Angels'</li><li>'Mike'</li><li>'Trout'</li><li>'Justin'</li><li>'Upton'</li><li>'All'</li><li>'Star'</li><li>'Angels'</li><li>'Kole'</li><li>'Calhoun'</li></ol>\n",
              "</li>\n",
              "</ol>\n"
            ],
            "text/markdown": "1. 1. 'According'\n2. 'Baseball'\n3. 'Reference'\n4. 'The'\n5. 'Red'\n6. 'Sox'\n7. 'Milwaukee'\n8. 'Brewers'\n9. 'And'\n10. 'Christian'\n11. 'Yelich'\n12. 'Lorenzo'\n13. 'Cain'\n14. 'Brewers'\n15. 'More'\n16. 'Boston'\n17. 'Milwaukee'\n18. 'Yankees'\n19. 'Two'\n20. 'Los'\n21. 'Angeles'\n22. 'Angels'\n23. 'Mike'\n24. 'Trout'\n25. 'Justin'\n26. 'Upton'\n27. 'All'\n28. 'Star'\n29. 'Angels'\n30. 'Kole'\n31. 'Calhoun'\n\n\n\n\n\n",
            "text/latex": "\\begin{enumerate}\n\\item \\begin{enumerate*}\n\\item 'According'\n\\item 'Baseball'\n\\item 'Reference'\n\\item 'The'\n\\item 'Red'\n\\item 'Sox'\n\\item 'Milwaukee'\n\\item 'Brewers'\n\\item 'And'\n\\item 'Christian'\n\\item 'Yelich'\n\\item 'Lorenzo'\n\\item 'Cain'\n\\item 'Brewers'\n\\item 'More'\n\\item 'Boston'\n\\item 'Milwaukee'\n\\item 'Yankees'\n\\item 'Two'\n\\item 'Los'\n\\item 'Angeles'\n\\item 'Angels'\n\\item 'Mike'\n\\item 'Trout'\n\\item 'Justin'\n\\item 'Upton'\n\\item 'All'\n\\item 'Star'\n\\item 'Angels'\n\\item 'Kole'\n\\item 'Calhoun'\n\\end{enumerate*}\n\n\\end{enumerate}\n",
            "text/plain": [
              "[[1]]\n",
              " [1] \"According\" \"Baseball\"  \"Reference\" \"The\"       \"Red\"       \"Sox\"      \n",
              " [7] \"Milwaukee\" \"Brewers\"   \"And\"       \"Christian\" \"Yelich\"    \"Lorenzo\"  \n",
              "[13] \"Cain\"      \"Brewers\"   \"More\"      \"Boston\"    \"Milwaukee\" \"Yankees\"  \n",
              "[19] \"Two\"       \"Los\"       \"Angeles\"   \"Angels\"    \"Mike\"      \"Trout\"    \n",
              "[25] \"Justin\"    \"Upton\"     \"All\"       \"Star\"      \"Angels\"    \"Kole\"     \n",
              "[31] \"Calhoun\"  \n"
            ]
          },
          "metadata": {}
        }
      ]
    },
    {
      "cell_type": "markdown",
      "source": [
        "**(ii) Write a regex that captures all hyphenated words**"
      ],
      "metadata": {
        "id": "Vg8lezkepXNE"
      }
    },
    {
      "cell_type": "code",
      "source": [
        "## Your code here\n",
        "str_extract_all(baseball, \"\\\\w+-\\\\w+\")\n",
        "## OR\n",
        "str_extract_all(baseball, \"[A-Za-z]+-[A-Za-z]+\")"
      ],
      "metadata": {
        "id": "4pzvOzbTpMSh",
        "outputId": "ff756a95-4b4e-409b-aca8-f948a5e858ca",
        "colab": {
          "base_uri": "https://localhost:8080/",
          "height": 94
        }
      },
      "execution_count": 83,
      "outputs": [
        {
          "output_type": "display_data",
          "data": {
            "text/html": [
              "<ol>\n",
              "\t<li><style>\n",
              ".list-inline {list-style: none; margin:0; padding: 0}\n",
              ".list-inline>li {display: inline-block}\n",
              ".list-inline>li:not(:last-child)::after {content: \"\\00b7\"; padding: 0 .5ex}\n",
              "</style>\n",
              "<ol class=list-inline><li>'one-tenth'</li><li>'third-place'</li><li>'Two-thirds'</li><li>'four-time'</li><li>'All-Star'</li></ol>\n",
              "</li>\n",
              "</ol>\n"
            ],
            "text/markdown": "1. 1. 'one-tenth'\n2. 'third-place'\n3. 'Two-thirds'\n4. 'four-time'\n5. 'All-Star'\n\n\n\n\n\n",
            "text/latex": "\\begin{enumerate}\n\\item \\begin{enumerate*}\n\\item 'one-tenth'\n\\item 'third-place'\n\\item 'Two-thirds'\n\\item 'four-time'\n\\item 'All-Star'\n\\end{enumerate*}\n\n\\end{enumerate}\n",
            "text/plain": [
              "[[1]]\n",
              "[1] \"one-tenth\"   \"third-place\" \"Two-thirds\"  \"four-time\"   \"All-Star\"   \n"
            ]
          },
          "metadata": {}
        },
        {
          "output_type": "display_data",
          "data": {
            "text/html": [
              "<ol>\n",
              "\t<li><style>\n",
              ".list-inline {list-style: none; margin:0; padding: 0}\n",
              ".list-inline>li {display: inline-block}\n",
              ".list-inline>li:not(:last-child)::after {content: \"\\00b7\"; padding: 0 .5ex}\n",
              "</style>\n",
              "<ol class=list-inline><li>'one-tenth'</li><li>'third-place'</li><li>'Two-thirds'</li><li>'four-time'</li><li>'All-Star'</li></ol>\n",
              "</li>\n",
              "</ol>\n"
            ],
            "text/markdown": "1. 1. 'one-tenth'\n2. 'third-place'\n3. 'Two-thirds'\n4. 'four-time'\n5. 'All-Star'\n\n\n\n\n\n",
            "text/latex": "\\begin{enumerate}\n\\item \\begin{enumerate*}\n\\item 'one-tenth'\n\\item 'third-place'\n\\item 'Two-thirds'\n\\item 'four-time'\n\\item 'All-Star'\n\\end{enumerate*}\n\n\\end{enumerate}\n",
            "text/plain": [
              "[[1]]\n",
              "[1] \"one-tenth\"   \"third-place\" \"Two-thirds\"  \"four-time\"   \"All-Star\"   \n"
            ]
          },
          "metadata": {}
        }
      ]
    },
    {
      "cell_type": "markdown",
      "source": [
        "**(iii) Write a regex that captures all words with two consecutive vowels**"
      ],
      "metadata": {
        "id": "NubAne3Vqk1r"
      }
    },
    {
      "cell_type": "code",
      "source": [
        "## Your code here\n",
        "str_extract_all(baseball, \"\\\\w*[aeiou]{2}\\\\w*\")\n",
        "## OR\n",
        "str_extract_all(baseball, \"[A-Za-z]*[aeiou]{2}[A-Za-z]*\")"
      ],
      "metadata": {
        "id": "d744tAcJqpE4",
        "outputId": "9b48e11a-c3b3-485d-f6d5-18484ea767c9",
        "colab": {
          "base_uri": "https://localhost:8080/",
          "height": 128
        }
      },
      "execution_count": 84,
      "outputs": [
        {
          "output_type": "display_data",
          "data": {
            "text/html": [
              "<ol>\n",
              "\t<li><style>\n",
              ".list-inline {list-style: none; margin:0; padding: 0}\n",
              ".list-inline>li {display: inline-block}\n",
              ".list-inline>li:not(:last-child)::after {content: \"\\00b7\"; padding: 0 .5ex}\n",
              "</style>\n",
              "<ol class=list-inline><li>'outfield'</li><li>'ahead'</li><li>'Milwaukee'</li><li>'argue'</li><li>'position'</li><li>'year'</li><li>'Christian'</li><li>'Cain'</li><li>'being'</li><li>'outfielders'</li><li>'Milwaukee'</li><li>'Yankees'</li><li>'about'</li><li>'outfield'</li><li>'Trout'</li><li>'four'</li><li>'year'</li><li>'outfield'</li><li>'would'</li><li>'fielder'</li><li>'Calhoun'</li><li>'three'</li><li>'outfielders'</li><li>'year'</li></ol>\n",
              "</li>\n",
              "</ol>\n"
            ],
            "text/markdown": "1. 1. 'outfield'\n2. 'ahead'\n3. 'Milwaukee'\n4. 'argue'\n5. 'position'\n6. 'year'\n7. 'Christian'\n8. 'Cain'\n9. 'being'\n10. 'outfielders'\n11. 'Milwaukee'\n12. 'Yankees'\n13. 'about'\n14. 'outfield'\n15. 'Trout'\n16. 'four'\n17. 'year'\n18. 'outfield'\n19. 'would'\n20. 'fielder'\n21. 'Calhoun'\n22. 'three'\n23. 'outfielders'\n24. 'year'\n\n\n\n\n\n",
            "text/latex": "\\begin{enumerate}\n\\item \\begin{enumerate*}\n\\item 'outfield'\n\\item 'ahead'\n\\item 'Milwaukee'\n\\item 'argue'\n\\item 'position'\n\\item 'year'\n\\item 'Christian'\n\\item 'Cain'\n\\item 'being'\n\\item 'outfielders'\n\\item 'Milwaukee'\n\\item 'Yankees'\n\\item 'about'\n\\item 'outfield'\n\\item 'Trout'\n\\item 'four'\n\\item 'year'\n\\item 'outfield'\n\\item 'would'\n\\item 'fielder'\n\\item 'Calhoun'\n\\item 'three'\n\\item 'outfielders'\n\\item 'year'\n\\end{enumerate*}\n\n\\end{enumerate}\n",
            "text/plain": [
              "[[1]]\n",
              " [1] \"outfield\"    \"ahead\"       \"Milwaukee\"   \"argue\"       \"position\"   \n",
              " [6] \"year\"        \"Christian\"   \"Cain\"        \"being\"       \"outfielders\"\n",
              "[11] \"Milwaukee\"   \"Yankees\"     \"about\"       \"outfield\"    \"Trout\"      \n",
              "[16] \"four\"        \"year\"        \"outfield\"    \"would\"       \"fielder\"    \n",
              "[21] \"Calhoun\"     \"three\"       \"outfielders\" \"year\"       \n"
            ]
          },
          "metadata": {}
        },
        {
          "output_type": "display_data",
          "data": {
            "text/html": [
              "<ol>\n",
              "\t<li><style>\n",
              ".list-inline {list-style: none; margin:0; padding: 0}\n",
              ".list-inline>li {display: inline-block}\n",
              ".list-inline>li:not(:last-child)::after {content: \"\\00b7\"; padding: 0 .5ex}\n",
              "</style>\n",
              "<ol class=list-inline><li>'outfield'</li><li>'ahead'</li><li>'Milwaukee'</li><li>'argue'</li><li>'position'</li><li>'year'</li><li>'Christian'</li><li>'Cain'</li><li>'being'</li><li>'outfielders'</li><li>'Milwaukee'</li><li>'Yankees'</li><li>'about'</li><li>'outfield'</li><li>'Trout'</li><li>'four'</li><li>'year'</li><li>'outfield'</li><li>'would'</li><li>'fielder'</li><li>'Calhoun'</li><li>'three'</li><li>'outfielders'</li><li>'year'</li></ol>\n",
              "</li>\n",
              "</ol>\n"
            ],
            "text/markdown": "1. 1. 'outfield'\n2. 'ahead'\n3. 'Milwaukee'\n4. 'argue'\n5. 'position'\n6. 'year'\n7. 'Christian'\n8. 'Cain'\n9. 'being'\n10. 'outfielders'\n11. 'Milwaukee'\n12. 'Yankees'\n13. 'about'\n14. 'outfield'\n15. 'Trout'\n16. 'four'\n17. 'year'\n18. 'outfield'\n19. 'would'\n20. 'fielder'\n21. 'Calhoun'\n22. 'three'\n23. 'outfielders'\n24. 'year'\n\n\n\n\n\n",
            "text/latex": "\\begin{enumerate}\n\\item \\begin{enumerate*}\n\\item 'outfield'\n\\item 'ahead'\n\\item 'Milwaukee'\n\\item 'argue'\n\\item 'position'\n\\item 'year'\n\\item 'Christian'\n\\item 'Cain'\n\\item 'being'\n\\item 'outfielders'\n\\item 'Milwaukee'\n\\item 'Yankees'\n\\item 'about'\n\\item 'outfield'\n\\item 'Trout'\n\\item 'four'\n\\item 'year'\n\\item 'outfield'\n\\item 'would'\n\\item 'fielder'\n\\item 'Calhoun'\n\\item 'three'\n\\item 'outfielders'\n\\item 'year'\n\\end{enumerate*}\n\n\\end{enumerate}\n",
            "text/plain": [
              "[[1]]\n",
              " [1] \"outfield\"    \"ahead\"       \"Milwaukee\"   \"argue\"       \"position\"   \n",
              " [6] \"year\"        \"Christian\"   \"Cain\"        \"being\"       \"outfielders\"\n",
              "[11] \"Milwaukee\"   \"Yankees\"     \"about\"       \"outfield\"    \"Trout\"      \n",
              "[16] \"four\"        \"year\"        \"outfield\"    \"would\"       \"fielder\"    \n",
              "[21] \"Calhoun\"     \"three\"       \"outfielders\" \"year\"       \n"
            ]
          },
          "metadata": {}
        }
      ]
    },
    {
      "cell_type": "markdown",
      "source": [
        "**(iv) Write a regex that captures all words with a repeated letter**\n"
      ],
      "metadata": {
        "id": "EAV592ZNrbUV"
      }
    },
    {
      "cell_type": "code",
      "source": [
        "## Your code here\n",
        "str_extract_all(baseball, \"\\\\w*([a-zA-Z])\\\\1\\\\w*\")"
      ],
      "metadata": {
        "id": "8s4LL6R5rfcY",
        "outputId": "03d1c25c-b522-4901-92b8-a0bfd549d6dd",
        "colab": {
          "base_uri": "https://localhost:8080/",
          "height": 62
        }
      },
      "execution_count": 85,
      "outputs": [
        {
          "output_type": "display_data",
          "data": {
            "text/html": [
              "<ol>\n",
              "\t<li><style>\n",
              ".list-inline {list-style: none; margin:0; padding: 0}\n",
              ".list-inline>li {display: inline-block}\n",
              ".list-inline>li:not(:last-child)::after {content: \"\\00b7\"; padding: 0 .5ex}\n",
              "</style>\n",
              "<ol class=list-inline><li>'According'</li><li>'Baseball'</li><li>'baseball'</li><li>'Milwaukee'</li><li>'Milwaukee'</li><li>'Yankees'</li><li>'baseball'</li><li>'All'</li><li>'WAA'</li><li>'three'</li><li>'baseball'</li><li>'WAA'</li></ol>\n",
              "</li>\n",
              "</ol>\n"
            ],
            "text/markdown": "1. 1. 'According'\n2. 'Baseball'\n3. 'baseball'\n4. 'Milwaukee'\n5. 'Milwaukee'\n6. 'Yankees'\n7. 'baseball'\n8. 'All'\n9. 'WAA'\n10. 'three'\n11. 'baseball'\n12. 'WAA'\n\n\n\n\n\n",
            "text/latex": "\\begin{enumerate}\n\\item \\begin{enumerate*}\n\\item 'According'\n\\item 'Baseball'\n\\item 'baseball'\n\\item 'Milwaukee'\n\\item 'Milwaukee'\n\\item 'Yankees'\n\\item 'baseball'\n\\item 'All'\n\\item 'WAA'\n\\item 'three'\n\\item 'baseball'\n\\item 'WAA'\n\\end{enumerate*}\n\n\\end{enumerate}\n",
            "text/plain": [
              "[[1]]\n",
              " [1] \"According\" \"Baseball\"  \"baseball\"  \"Milwaukee\" \"Milwaukee\" \"Yankees\"  \n",
              " [7] \"baseball\"  \"All\"       \"WAA\"       \"three\"     \"baseball\"  \"WAA\"      \n"
            ]
          },
          "metadata": {}
        }
      ]
    },
    {
      "cell_type": "markdown",
      "source": [
        "**(v) Write a regex that captures all the numbers**"
      ],
      "metadata": {
        "id": "MHoyKV4rr_Vb"
      }
    },
    {
      "cell_type": "code",
      "source": [
        "## Your code here"
      ],
      "metadata": {
        "id": "s2H02kqdsEKT"
      },
      "execution_count": 86,
      "outputs": []
    },
    {
      "cell_type": "markdown",
      "source": [
        "**(vi) Write a regex that matches `this` and `the` but not `third`**"
      ],
      "metadata": {
        "id": "9TkQNViMsqRJ"
      }
    },
    {
      "cell_type": "code",
      "source": [
        "## Your code here\n",
        "str_extract_all(baseball, \"th(e|is)\")\n",
        "str_extract_all(baseball, \"(t|T)h(e|is)\") ## alternatively"
      ],
      "metadata": {
        "id": "2LMzj3KUsv7n",
        "outputId": "ca4b0a4a-8ea0-449f-c1ef-9e3f9f0aef0f",
        "colab": {
          "base_uri": "https://localhost:8080/",
          "height": 94
        }
      },
      "execution_count": 87,
      "outputs": [
        {
          "output_type": "display_data",
          "data": {
            "text/html": [
              "<ol>\n",
              "\t<li><style>\n",
              ".list-inline {list-style: none; margin:0; padding: 0}\n",
              ".list-inline>li {display: inline-block}\n",
              ".list-inline>li:not(:last-child)::after {content: \"\\00b7\"; padding: 0 .5ex}\n",
              "</style>\n",
              "<ol class=list-inline><li>'the'</li><li>'the'</li><li>'the'</li><li>'the'</li><li>'this'</li><li>'the'</li><li>'the'</li><li>'the'</li><li>'the'</li><li>'this'</li><li>'the'</li><li>'the'</li><li>'this'</li></ol>\n",
              "</li>\n",
              "</ol>\n"
            ],
            "text/markdown": "1. 1. 'the'\n2. 'the'\n3. 'the'\n4. 'the'\n5. 'this'\n6. 'the'\n7. 'the'\n8. 'the'\n9. 'the'\n10. 'this'\n11. 'the'\n12. 'the'\n13. 'this'\n\n\n\n\n\n",
            "text/latex": "\\begin{enumerate}\n\\item \\begin{enumerate*}\n\\item 'the'\n\\item 'the'\n\\item 'the'\n\\item 'the'\n\\item 'this'\n\\item 'the'\n\\item 'the'\n\\item 'the'\n\\item 'the'\n\\item 'this'\n\\item 'the'\n\\item 'the'\n\\item 'this'\n\\end{enumerate*}\n\n\\end{enumerate}\n",
            "text/plain": [
              "[[1]]\n",
              " [1] \"the\"  \"the\"  \"the\"  \"the\"  \"this\" \"the\"  \"the\"  \"the\"  \"the\"  \"this\"\n",
              "[11] \"the\"  \"the\"  \"this\"\n"
            ]
          },
          "metadata": {}
        },
        {
          "output_type": "display_data",
          "data": {
            "text/html": [
              "<ol>\n",
              "\t<li><style>\n",
              ".list-inline {list-style: none; margin:0; padding: 0}\n",
              ".list-inline>li {display: inline-block}\n",
              ".list-inline>li:not(:last-child)::after {content: \"\\00b7\"; padding: 0 .5ex}\n",
              "</style>\n",
              "<ol class=list-inline><li>'The'</li><li>'the'</li><li>'the'</li><li>'the'</li><li>'the'</li><li>'this'</li><li>'the'</li><li>'the'</li><li>'the'</li><li>'the'</li><li>'this'</li><li>'the'</li><li>'the'</li><li>'this'</li></ol>\n",
              "</li>\n",
              "</ol>\n"
            ],
            "text/markdown": "1. 1. 'The'\n2. 'the'\n3. 'the'\n4. 'the'\n5. 'the'\n6. 'this'\n7. 'the'\n8. 'the'\n9. 'the'\n10. 'the'\n11. 'this'\n12. 'the'\n13. 'the'\n14. 'this'\n\n\n\n\n\n",
            "text/latex": "\\begin{enumerate}\n\\item \\begin{enumerate*}\n\\item 'The'\n\\item 'the'\n\\item 'the'\n\\item 'the'\n\\item 'the'\n\\item 'this'\n\\item 'the'\n\\item 'the'\n\\item 'the'\n\\item 'the'\n\\item 'this'\n\\item 'the'\n\\item 'the'\n\\item 'this'\n\\end{enumerate*}\n\n\\end{enumerate}\n",
            "text/plain": [
              "[[1]]\n",
              " [1] \"The\"  \"the\"  \"the\"  \"the\"  \"the\"  \"this\" \"the\"  \"the\"  \"the\"  \"the\" \n",
              "[11] \"this\" \"the\"  \"the\"  \"this\"\n"
            ]
          },
          "metadata": {}
        }
      ]
    },
    {
      "cell_type": "markdown",
      "source": [
        "<br>  \n",
        "**[NB]:** Note that any time you want to use a backslash `\\` in a regex pattern in R, you'll need to use a double backslash `\\\\` instead. This is because R has its own layer of string processing that also uses backslashes to escape reserved characters. So you need to tell R to use a literal backslash so that it passes a backslash to the regex function\n"
      ],
      "metadata": {
        "id": "kRSzx2qgtO-O"
      }
    },
    {
      "cell_type": "code",
      "source": [
        "## EXAMPLE\n",
        "naive = \"a.c\"\n",
        "dot = \"a\\\\.c\"\n",
        "\n",
        "cat(naive)\n",
        "str_detect(c(\"abc\", \"a.c\", \"bef\"), naive) # matches anything a-blank-c because . is a wildcard\n",
        "\n",
        "cat(dot)\n",
        "str_detect(c(\"abc\", \"a.c\", \"bef\"), dot)"
      ],
      "metadata": {
        "colab": {
          "base_uri": "https://localhost:8080/",
          "height": 88
        },
        "id": "dgdIUULhtd9d",
        "outputId": "85b1a322-79f9-4346-b036-f6da1805e3c3"
      },
      "execution_count": 88,
      "outputs": [
        {
          "output_type": "stream",
          "name": "stdout",
          "text": [
            "a.c"
          ]
        },
        {
          "output_type": "display_data",
          "data": {
            "text/html": [
              "<style>\n",
              ".list-inline {list-style: none; margin:0; padding: 0}\n",
              ".list-inline>li {display: inline-block}\n",
              ".list-inline>li:not(:last-child)::after {content: \"\\00b7\"; padding: 0 .5ex}\n",
              "</style>\n",
              "<ol class=list-inline><li>TRUE</li><li>TRUE</li><li>FALSE</li></ol>\n"
            ],
            "text/markdown": "1. TRUE\n2. TRUE\n3. FALSE\n\n\n",
            "text/latex": "\\begin{enumerate*}\n\\item TRUE\n\\item TRUE\n\\item FALSE\n\\end{enumerate*}\n",
            "text/plain": [
              "[1]  TRUE  TRUE FALSE"
            ]
          },
          "metadata": {}
        },
        {
          "output_type": "stream",
          "name": "stdout",
          "text": [
            "a\\.c"
          ]
        },
        {
          "output_type": "display_data",
          "data": {
            "text/html": [
              "<style>\n",
              ".list-inline {list-style: none; margin:0; padding: 0}\n",
              ".list-inline>li {display: inline-block}\n",
              ".list-inline>li:not(:last-child)::after {content: \"\\00b7\"; padding: 0 .5ex}\n",
              "</style>\n",
              "<ol class=list-inline><li>FALSE</li><li>TRUE</li><li>FALSE</li></ol>\n"
            ],
            "text/markdown": "1. FALSE\n2. TRUE\n3. FALSE\n\n\n",
            "text/latex": "\\begin{enumerate*}\n\\item FALSE\n\\item TRUE\n\\item FALSE\n\\end{enumerate*}\n",
            "text/plain": [
              "[1] FALSE  TRUE FALSE"
            ]
          },
          "metadata": {}
        }
      ]
    },
    {
      "cell_type": "markdown",
      "source": [
        "<br><br>\n",
        "# **Exercise**\n",
        "Complete the following task using the `stringr::words` dataset:\n",
        "\n",
        "\n"
      ],
      "metadata": {
        "id": "JGywDAA4aMWZ"
      }
    },
    {
      "cell_type": "markdown",
      "source": [
        "**(1) Start with `y`**"
      ],
      "metadata": {
        "id": "OKZ-ipStuNwH"
      }
    },
    {
      "cell_type": "code",
      "source": [
        "## Your code here\n",
        "str_subset(words, \"^y\")\n",
        "# OR \n",
        "str_subset(words, \"^y\\\\w*\") "
      ],
      "metadata": {
        "id": "u_nMbuXjuMnr",
        "colab": {
          "base_uri": "https://localhost:8080/",
          "height": 52
        },
        "outputId": "f6ae6dff-0606-4e7a-8653-ae3aef4c8a70"
      },
      "execution_count": 89,
      "outputs": [
        {
          "output_type": "display_data",
          "data": {
            "text/html": [
              "<style>\n",
              ".list-inline {list-style: none; margin:0; padding: 0}\n",
              ".list-inline>li {display: inline-block}\n",
              ".list-inline>li:not(:last-child)::after {content: \"\\00b7\"; padding: 0 .5ex}\n",
              "</style>\n",
              "<ol class=list-inline><li>'year'</li><li>'yes'</li><li>'yesterday'</li><li>'yet'</li><li>'you'</li><li>'young'</li></ol>\n"
            ],
            "text/markdown": "1. 'year'\n2. 'yes'\n3. 'yesterday'\n4. 'yet'\n5. 'you'\n6. 'young'\n\n\n",
            "text/latex": "\\begin{enumerate*}\n\\item 'year'\n\\item 'yes'\n\\item 'yesterday'\n\\item 'yet'\n\\item 'you'\n\\item 'young'\n\\end{enumerate*}\n",
            "text/plain": [
              "[1] \"year\"      \"yes\"       \"yesterday\" \"yet\"       \"you\"       \"young\"    "
            ]
          },
          "metadata": {}
        },
        {
          "output_type": "display_data",
          "data": {
            "text/html": [
              "<style>\n",
              ".list-inline {list-style: none; margin:0; padding: 0}\n",
              ".list-inline>li {display: inline-block}\n",
              ".list-inline>li:not(:last-child)::after {content: \"\\00b7\"; padding: 0 .5ex}\n",
              "</style>\n",
              "<ol class=list-inline><li>'year'</li><li>'yes'</li><li>'yesterday'</li><li>'yet'</li><li>'you'</li><li>'young'</li></ol>\n"
            ],
            "text/markdown": "1. 'year'\n2. 'yes'\n3. 'yesterday'\n4. 'yet'\n5. 'you'\n6. 'young'\n\n\n",
            "text/latex": "\\begin{enumerate*}\n\\item 'year'\n\\item 'yes'\n\\item 'yesterday'\n\\item 'yet'\n\\item 'you'\n\\item 'young'\n\\end{enumerate*}\n",
            "text/plain": [
              "[1] \"year\"      \"yes\"       \"yesterday\" \"yet\"       \"you\"       \"young\"    "
            ]
          },
          "metadata": {}
        }
      ]
    },
    {
      "cell_type": "markdown",
      "source": [
        "**(2) End with `x`** "
      ],
      "metadata": {
        "id": "3qRqDw89ucbT"
      }
    },
    {
      "cell_type": "code",
      "source": [
        "## Your code here\n",
        "str_subset(words, \"x$\")\n",
        "# OR\n",
        "str_subset(words, \"\\\\w*x$\")"
      ],
      "metadata": {
        "id": "tgm_3GuBmsOh",
        "colab": {
          "base_uri": "https://localhost:8080/",
          "height": 52
        },
        "outputId": "d27a7e8a-8e4a-4ddb-d8d5-2178885b4522"
      },
      "execution_count": 90,
      "outputs": [
        {
          "output_type": "display_data",
          "data": {
            "text/html": [
              "<style>\n",
              ".list-inline {list-style: none; margin:0; padding: 0}\n",
              ".list-inline>li {display: inline-block}\n",
              ".list-inline>li:not(:last-child)::after {content: \"\\00b7\"; padding: 0 .5ex}\n",
              "</style>\n",
              "<ol class=list-inline><li>'box'</li><li>'sex'</li><li>'six'</li><li>'tax'</li></ol>\n"
            ],
            "text/markdown": "1. 'box'\n2. 'sex'\n3. 'six'\n4. 'tax'\n\n\n",
            "text/latex": "\\begin{enumerate*}\n\\item 'box'\n\\item 'sex'\n\\item 'six'\n\\item 'tax'\n\\end{enumerate*}\n",
            "text/plain": [
              "[1] \"box\" \"sex\" \"six\" \"tax\""
            ]
          },
          "metadata": {}
        },
        {
          "output_type": "display_data",
          "data": {
            "text/html": [
              "<style>\n",
              ".list-inline {list-style: none; margin:0; padding: 0}\n",
              ".list-inline>li {display: inline-block}\n",
              ".list-inline>li:not(:last-child)::after {content: \"\\00b7\"; padding: 0 .5ex}\n",
              "</style>\n",
              "<ol class=list-inline><li>'box'</li><li>'sex'</li><li>'six'</li><li>'tax'</li></ol>\n"
            ],
            "text/markdown": "1. 'box'\n2. 'sex'\n3. 'six'\n4. 'tax'\n\n\n",
            "text/latex": "\\begin{enumerate*}\n\\item 'box'\n\\item 'sex'\n\\item 'six'\n\\item 'tax'\n\\end{enumerate*}\n",
            "text/plain": [
              "[1] \"box\" \"sex\" \"six\" \"tax\""
            ]
          },
          "metadata": {}
        }
      ]
    },
    {
      "cell_type": "markdown",
      "source": [
        "**(3) End with `ed`, but not with `eed`**"
      ],
      "metadata": {
        "id": "2PcA6KnRuk78"
      }
    },
    {
      "cell_type": "code",
      "source": [
        "## Your code here\n",
        "str_subset(words, \"[^e](ed)$\")\n",
        "# OR\n",
        "str_subset(words, \"\\\\w*[^e](ed)$\")"
      ],
      "metadata": {
        "id": "J1zJ4nTTm6JN",
        "colab": {
          "base_uri": "https://localhost:8080/",
          "height": 52
        },
        "outputId": "3b0788a8-3cc7-4cee-bed4-9a1e69a8f6d6"
      },
      "execution_count": 91,
      "outputs": [
        {
          "output_type": "display_data",
          "data": {
            "text/html": [
              "<style>\n",
              ".list-inline {list-style: none; margin:0; padding: 0}\n",
              ".list-inline>li {display: inline-block}\n",
              ".list-inline>li:not(:last-child)::after {content: \"\\00b7\"; padding: 0 .5ex}\n",
              "</style>\n",
              "<ol class=list-inline><li>'bed'</li><li>'hundred'</li><li>'red'</li></ol>\n"
            ],
            "text/markdown": "1. 'bed'\n2. 'hundred'\n3. 'red'\n\n\n",
            "text/latex": "\\begin{enumerate*}\n\\item 'bed'\n\\item 'hundred'\n\\item 'red'\n\\end{enumerate*}\n",
            "text/plain": [
              "[1] \"bed\"     \"hundred\" \"red\"    "
            ]
          },
          "metadata": {}
        },
        {
          "output_type": "display_data",
          "data": {
            "text/html": [
              "<style>\n",
              ".list-inline {list-style: none; margin:0; padding: 0}\n",
              ".list-inline>li {display: inline-block}\n",
              ".list-inline>li:not(:last-child)::after {content: \"\\00b7\"; padding: 0 .5ex}\n",
              "</style>\n",
              "<ol class=list-inline><li>'bed'</li><li>'hundred'</li><li>'red'</li></ol>\n"
            ],
            "text/markdown": "1. 'bed'\n2. 'hundred'\n3. 'red'\n\n\n",
            "text/latex": "\\begin{enumerate*}\n\\item 'bed'\n\\item 'hundred'\n\\item 'red'\n\\end{enumerate*}\n",
            "text/plain": [
              "[1] \"bed\"     \"hundred\" \"red\"    "
            ]
          },
          "metadata": {}
        }
      ]
    },
    {
      "cell_type": "markdown",
      "source": [
        "**(4)  End with `ing` or `ise`**"
      ],
      "metadata": {
        "id": "eap-i-tzwaY7"
      }
    },
    {
      "cell_type": "code",
      "source": [
        "## Your code here\n",
        "str_subset(words, \"(ing|ise)$\")\n",
        "# OR\n",
        "str_subset(words, \"\\\\w*(ing|ise)$\")"
      ],
      "metadata": {
        "id": "lp0yU7InwfXp",
        "colab": {
          "base_uri": "https://localhost:8080/",
          "height": 52
        },
        "outputId": "239e4e90-10a0-40bf-c9d7-9f1fa68919e8"
      },
      "execution_count": 92,
      "outputs": [
        {
          "output_type": "display_data",
          "data": {
            "text/html": [
              "<style>\n",
              ".list-inline {list-style: none; margin:0; padding: 0}\n",
              ".list-inline>li {display: inline-block}\n",
              ".list-inline>li:not(:last-child)::after {content: \"\\00b7\"; padding: 0 .5ex}\n",
              "</style>\n",
              "<ol class=list-inline><li>'advertise'</li><li>'bring'</li><li>'during'</li><li>'evening'</li><li>'exercise'</li><li>'king'</li><li>'meaning'</li><li>'morning'</li><li>'otherwise'</li><li>'practise'</li><li>'raise'</li><li>'realise'</li><li>'ring'</li><li>'rise'</li><li>'sing'</li><li>'surprise'</li><li>'thing'</li></ol>\n"
            ],
            "text/markdown": "1. 'advertise'\n2. 'bring'\n3. 'during'\n4. 'evening'\n5. 'exercise'\n6. 'king'\n7. 'meaning'\n8. 'morning'\n9. 'otherwise'\n10. 'practise'\n11. 'raise'\n12. 'realise'\n13. 'ring'\n14. 'rise'\n15. 'sing'\n16. 'surprise'\n17. 'thing'\n\n\n",
            "text/latex": "\\begin{enumerate*}\n\\item 'advertise'\n\\item 'bring'\n\\item 'during'\n\\item 'evening'\n\\item 'exercise'\n\\item 'king'\n\\item 'meaning'\n\\item 'morning'\n\\item 'otherwise'\n\\item 'practise'\n\\item 'raise'\n\\item 'realise'\n\\item 'ring'\n\\item 'rise'\n\\item 'sing'\n\\item 'surprise'\n\\item 'thing'\n\\end{enumerate*}\n",
            "text/plain": [
              " [1] \"advertise\" \"bring\"     \"during\"    \"evening\"   \"exercise\"  \"king\"     \n",
              " [7] \"meaning\"   \"morning\"   \"otherwise\" \"practise\"  \"raise\"     \"realise\"  \n",
              "[13] \"ring\"      \"rise\"      \"sing\"      \"surprise\"  \"thing\"    "
            ]
          },
          "metadata": {}
        },
        {
          "output_type": "display_data",
          "data": {
            "text/html": [
              "<style>\n",
              ".list-inline {list-style: none; margin:0; padding: 0}\n",
              ".list-inline>li {display: inline-block}\n",
              ".list-inline>li:not(:last-child)::after {content: \"\\00b7\"; padding: 0 .5ex}\n",
              "</style>\n",
              "<ol class=list-inline><li>'advertise'</li><li>'bring'</li><li>'during'</li><li>'evening'</li><li>'exercise'</li><li>'king'</li><li>'meaning'</li><li>'morning'</li><li>'otherwise'</li><li>'practise'</li><li>'raise'</li><li>'realise'</li><li>'ring'</li><li>'rise'</li><li>'sing'</li><li>'surprise'</li><li>'thing'</li></ol>\n"
            ],
            "text/markdown": "1. 'advertise'\n2. 'bring'\n3. 'during'\n4. 'evening'\n5. 'exercise'\n6. 'king'\n7. 'meaning'\n8. 'morning'\n9. 'otherwise'\n10. 'practise'\n11. 'raise'\n12. 'realise'\n13. 'ring'\n14. 'rise'\n15. 'sing'\n16. 'surprise'\n17. 'thing'\n\n\n",
            "text/latex": "\\begin{enumerate*}\n\\item 'advertise'\n\\item 'bring'\n\\item 'during'\n\\item 'evening'\n\\item 'exercise'\n\\item 'king'\n\\item 'meaning'\n\\item 'morning'\n\\item 'otherwise'\n\\item 'practise'\n\\item 'raise'\n\\item 'realise'\n\\item 'ring'\n\\item 'rise'\n\\item 'sing'\n\\item 'surprise'\n\\item 'thing'\n\\end{enumerate*}\n",
            "text/plain": [
              " [1] \"advertise\" \"bring\"     \"during\"    \"evening\"   \"exercise\"  \"king\"     \n",
              " [7] \"meaning\"   \"morning\"   \"otherwise\" \"practise\"  \"raise\"     \"realise\"  \n",
              "[13] \"ring\"      \"rise\"      \"sing\"      \"surprise\"  \"thing\"    "
            ]
          },
          "metadata": {}
        }
      ]
    },
    {
      "cell_type": "markdown",
      "source": [
        "**(5) End with the same two-letter sequence they start with (e.g. `church`)**"
      ],
      "metadata": {
        "id": "pNWnDEjswh9-"
      }
    },
    {
      "cell_type": "code",
      "source": [
        "## Your code here\n",
        "\n",
        "## IDEA: \n",
        "\n",
        "## choose two letters from the alphanumeric list: \\\\w{2}\n",
        "## since the must start, use the start anchor: ^\\\\w{2}\n",
        "## since we want same selected charactors to end, it is wise to group them so we can repeat with the group id: ^(\\\\w{2})\n",
        "## Now, one or more alphanumeric characters can exist in-between: ^(\\\\w{2})\\\\w*\n",
        "## Finally, we want same selected charactors to repeat at the end. We reference with the grouping id and use $ to signify it ends:\n",
        "\n",
        "str_subset(words, \"^(\\\\w{2})\\\\w*\\\\1$\")"
      ],
      "metadata": {
        "id": "YSyROt_Mw28d",
        "colab": {
          "base_uri": "https://localhost:8080/",
          "height": 34
        },
        "outputId": "a974c75c-e546-4094-c169-a8153dabb9f8"
      },
      "execution_count": 93,
      "outputs": [
        {
          "output_type": "display_data",
          "data": {
            "text/html": [
              "<style>\n",
              ".list-inline {list-style: none; margin:0; padding: 0}\n",
              ".list-inline>li {display: inline-block}\n",
              ".list-inline>li:not(:last-child)::after {content: \"\\00b7\"; padding: 0 .5ex}\n",
              "</style>\n",
              "<ol class=list-inline><li>'church'</li><li>'decide'</li><li>'photograph'</li><li>'require'</li><li>'sense'</li></ol>\n"
            ],
            "text/markdown": "1. 'church'\n2. 'decide'\n3. 'photograph'\n4. 'require'\n5. 'sense'\n\n\n",
            "text/latex": "\\begin{enumerate*}\n\\item 'church'\n\\item 'decide'\n\\item 'photograph'\n\\item 'require'\n\\item 'sense'\n\\end{enumerate*}\n",
            "text/plain": [
              "[1] \"church\"     \"decide\"     \"photograph\" \"require\"    \"sense\"     "
            ]
          },
          "metadata": {}
        }
      ]
    },
    {
      "cell_type": "markdown",
      "source": [
        "**(6) A 5-letter pallindrome (e.g. `refer`)**"
      ],
      "metadata": {
        "id": "38uI4uC1xM3c"
      }
    },
    {
      "cell_type": "code",
      "source": [
        "## Your code here\n",
        "\n",
        "## IDEA:\n",
        "\n",
        "## Recall that whenever we want a word to repeat, we group it i.e () so we can reference it in future with it's group id\n",
        "## Also not that we want pallindromic 5-letter words\n",
        "## Charater 1 starts and I need this to end so I group it: ^(\\\\w)\n",
        "## Charater 2 continues and I need this to be the 4th letter so I group it: ^(\\\\w)(\\\\w)\n",
        "## Charater 3 goes next. I don't group this: ^(\\\\w)(\\\\w)\\\\w\n",
        "## Charater 4 should be a repetition of the character from the second group: ^(\\\\w)(\\\\w)\\\\w\\\\2\n",
        "## Character 5 should be a repetition of the character from the first group. This must also end the word: \\\\w)(\\\\w)\\\\w\\\\2\\\\1$\n",
        "\n",
        "str_subset(words, \"^(\\\\w)(\\\\w)\\\\w\\\\2\\\\1$\")"
      ],
      "metadata": {
        "id": "vloKcFBYxZJk",
        "colab": {
          "base_uri": "https://localhost:8080/",
          "height": 34
        },
        "outputId": "3116cbe9-cdc8-4cdb-cb4f-03a818d96d07"
      },
      "execution_count": 94,
      "outputs": [
        {
          "output_type": "display_data",
          "data": {
            "text/html": [
              "<style>\n",
              ".list-inline {list-style: none; margin:0; padding: 0}\n",
              ".list-inline>li {display: inline-block}\n",
              ".list-inline>li:not(:last-child)::after {content: \"\\00b7\"; padding: 0 .5ex}\n",
              "</style>\n",
              "<ol class=list-inline><li>'level'</li><li>'refer'</li></ol>\n"
            ],
            "text/markdown": "1. 'level'\n2. 'refer'\n\n\n",
            "text/latex": "\\begin{enumerate*}\n\\item 'level'\n\\item 'refer'\n\\end{enumerate*}\n",
            "text/plain": [
              "[1] \"level\" \"refer\""
            ]
          },
          "metadata": {}
        }
      ]
    },
    {
      "cell_type": "markdown",
      "source": [
        "**(7) Match the date string below:**"
      ],
      "metadata": {
        "id": "451dg3D2x3lL"
      }
    },
    {
      "cell_type": "code",
      "source": [
        "dates = c('2012-05-13', '2014-12-31', '1991-06-14', '1991/06/14',\n",
        "          '200a-05-13',  # invalid year\n",
        "          '2014-15-20',  # invalid month\n",
        "          '2014-00-20',  # invalid month\n",
        "          '2016-04-35',  # invalid day\n",
        "          '2014-12-00',  # invalid day\n",
        "          '2013/03-25')  # non-matching separators"
      ],
      "metadata": {
        "id": "oHB0A5Xdx-iM"
      },
      "execution_count": 95,
      "outputs": []
    },
    {
      "cell_type": "code",
      "source": [
        "## Your code here\n",
        "str_subset(dates, \"\\\\d{4}(-|/)(0[1-9]|1[0-2])\\\\1(0[1-9]|[12][0-9]|3[0-1])\")\n",
        "\n",
        "#OR\n",
        "\n",
        "str_subset(dates, \"\\\\d{4}([-/])(0[1-9]|1[0-2])\\\\1(0[1-9]|[12][0-9]|3[0-1])\")"
      ],
      "metadata": {
        "id": "lp8yx4QsyGpp",
        "colab": {
          "base_uri": "https://localhost:8080/",
          "height": 52
        },
        "outputId": "384678e7-cf07-4967-a228-3c581752b43a"
      },
      "execution_count": 96,
      "outputs": [
        {
          "output_type": "display_data",
          "data": {
            "text/html": [
              "<style>\n",
              ".list-inline {list-style: none; margin:0; padding: 0}\n",
              ".list-inline>li {display: inline-block}\n",
              ".list-inline>li:not(:last-child)::after {content: \"\\00b7\"; padding: 0 .5ex}\n",
              "</style>\n",
              "<ol class=list-inline><li>'2012-05-13'</li><li>'2014-12-31'</li><li>'1991-06-14'</li><li>'1991/06/14'</li></ol>\n"
            ],
            "text/markdown": "1. '2012-05-13'\n2. '2014-12-31'\n3. '1991-06-14'\n4. '1991/06/14'\n\n\n",
            "text/latex": "\\begin{enumerate*}\n\\item '2012-05-13'\n\\item '2014-12-31'\n\\item '1991-06-14'\n\\item '1991/06/14'\n\\end{enumerate*}\n",
            "text/plain": [
              "[1] \"2012-05-13\" \"2014-12-31\" \"1991-06-14\" \"1991/06/14\""
            ]
          },
          "metadata": {}
        },
        {
          "output_type": "display_data",
          "data": {
            "text/html": [
              "<style>\n",
              ".list-inline {list-style: none; margin:0; padding: 0}\n",
              ".list-inline>li {display: inline-block}\n",
              ".list-inline>li:not(:last-child)::after {content: \"\\00b7\"; padding: 0 .5ex}\n",
              "</style>\n",
              "<ol class=list-inline><li>'2012-05-13'</li><li>'2014-12-31'</li><li>'1991-06-14'</li><li>'1991/06/14'</li></ol>\n"
            ],
            "text/markdown": "1. '2012-05-13'\n2. '2014-12-31'\n3. '1991-06-14'\n4. '1991/06/14'\n\n\n",
            "text/latex": "\\begin{enumerate*}\n\\item '2012-05-13'\n\\item '2014-12-31'\n\\item '1991-06-14'\n\\item '1991/06/14'\n\\end{enumerate*}\n",
            "text/plain": [
              "[1] \"2012-05-13\" \"2014-12-31\" \"1991-06-14\" \"1991/06/14\""
            ]
          },
          "metadata": {}
        }
      ]
    }
  ]
}