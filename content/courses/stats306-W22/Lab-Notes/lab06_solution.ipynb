{
  "nbformat": 4,
  "nbformat_minor": 0,
  "metadata": {
    "colab": {
      "name": "lab06_solution.ipynb",
      "provenance": [],
      "collapsed_sections": []
    },
    "kernelspec": {
      "name": "ir",
      "display_name": "R"
    },
    "language_info": {
      "name": "R"
    }
  },
  "cells": [
    {
      "cell_type": "markdown",
      "source": [
        "## Lab 6 (February 14):\n",
        "### Tibbles and Data Importation\n",
        "\n",
        "Course page: https://ambujtewari.github.io/stats306-winter2022/\n",
        "\n",
        "Lab page: https://bosafoagyare.netlify.app/courses/stats306-w22/\n",
        " <br> <br>\n",
        "\n",
        "  Today, we are going to look at:   \n",
        " - [Tibbles]()\n",
        " - [Data Importation]()\n",
        "\n",
        " \n",
        "\n",
        "\n",
        "\n",
        "\n"
      ],
      "metadata": {
        "id": "DXlu917uyMvI"
      }
    },
    {
      "cell_type": "markdown",
      "source": [
        "<br><br>\n",
        "> ## Let's start by loading our packages. It is always encouraged to load all packages atop your codes."
      ],
      "metadata": {
        "id": "PhhdFMeZzrib"
      }
    },
    {
      "cell_type": "code",
      "execution_count": null,
      "metadata": {
        "colab": {
          "base_uri": "https://localhost:8080/"
        },
        "id": "o1q2Qi3-T6xw",
        "outputId": "67d2c5b0-d424-41f2-e4df-5c3917799a26"
      },
      "outputs": [
        {
          "output_type": "stream",
          "name": "stderr",
          "text": [
            "Installing package into ‘/usr/local/lib/R/site-library’\n",
            "(as ‘lib’ is unspecified)\n",
            "\n"
          ]
        }
      ],
      "source": [
        "install.packages(\"gapminder\")                      ## Use the install.packages(\"<PACKAGE NAME>\") command to install packages in R\n",
        "library(gapminder)                                 ## To load a package (already installed) use the library(<PACKAGE NAME>) command\n",
        "library(tidyverse)\n",
        "      \n",
        "options(repr.plot.width=10, repr.plot.height=8)    ## Set the dimension of all plots "
      ]
    },
    {
      "cell_type": "markdown",
      "source": [
        "---"
      ],
      "metadata": {
        "id": "32el_eWq2529"
      }
    },
    {
      "cell_type": "markdown",
      "source": [
        "<br> <br>\n"
      ],
      "metadata": {
        "id": "wMM8Nkx0TQpc"
      }
    },
    {
      "cell_type": "markdown",
      "source": [
        "**Introduction:**   \n",
        "\n",
        "As data scientists, we need data for our analyses. Data could be created on the fly or imported from a file either locally or remotely. We will look at how to create data on the fly (using Tibbles) as well as importing them from files (Data Importation).   \n",
        "\n",
        "<br>   \n",
        "# 1. Tibbles\n",
        "We can create our own data using `tibble()` or `data.frame()`. These two produce similar but  slightly different objects whose difference would be explored later. Popular functions for tibbles include:\n",
        "- `tibble()` - Use to contrct data by **columns**.\n",
        "- `tribble()` - Use to contrct data by **rows**.\n",
        "- `as_tibble()` - used to convert a dataset into a tibble.\n",
        "- `is_tibble()` - a logical function to test whether a dataset is a tibble.\n",
        "\n"
      ],
      "metadata": {
        "id": "NQcBexxU1wK7"
      }
    },
    {
      "cell_type": "markdown",
      "source": [
        "\n",
        "\n",
        "## **(1) Creating datasets**\n",
        "\n",
        "## Example 1.1"
      ],
      "metadata": {
        "id": "bZEB6QTq9IXB"
      }
    },
    {
      "cell_type": "code",
      "source": [
        "## (1) Using tibble()\n",
        "tdf <- tibble(\n",
        "  name   = c('Nikita', 'Simons', 'Pockets', 'Eres'),    \n",
        "  age    = c(10, 7, 5, 6),\n",
        "  weight = c(24, 16, 12, 18),                          \n",
        "  class  = c('dog', 'cat', 'cat', 'dog')\n",
        ")\n",
        "\n",
        "\n",
        "## (2) Using tribble() \n",
        "## enters data by row. \n",
        "tr_df <- tribble(\n",
        "  ~name, ~age, ~weight, ~class,\n",
        "  # -----|-----|------ |-----    just to signify that this is a the header (column names)                   \n",
        "  \"Nikita\", 10, 24, \"dog\",\n",
        "  \"Simons\", 7, 16, \"cat\",\n",
        "  \"Pockets\", 5, 12, \"cat\",\n",
        "  \"Eres\", 6, 18, \"dog\"\n",
        ")\n",
        "\n",
        "\n",
        "## (3) Using data.frame()\n",
        "df <- data.frame(\n",
        "  name   = c('Nikita', 'Simons', 'Pockets', 'Eres'),    \n",
        "  age    = c(10, 7, 5, 6),\n",
        "  weight = c(24, 16, 12, 18),                          \n",
        "  class  = c('dog', 'cat', 'cat', 'dog')\n",
        ")"
      ],
      "metadata": {
        "id": "NjEMkZlnAAfe"
      },
      "execution_count": null,
      "outputs": []
    },
    {
      "cell_type": "code",
      "source": [
        "tdf"
      ],
      "metadata": {
        "id": "plRGEdtzHWVm",
        "outputId": "7f16a5b3-921e-4637-df53-e914e827eac8",
        "colab": {
          "base_uri": "https://localhost:8080/",
          "height": 224
        }
      },
      "execution_count": null,
      "outputs": [
        {
          "output_type": "display_data",
          "data": {
            "text/plain": [
              "  name    age weight class\n",
              "1 Nikita  10  24     dog  \n",
              "2 Simons   7  16     cat  \n",
              "3 Pockets  5  12     cat  \n",
              "4 Eres     6  18     dog  "
            ],
            "text/latex": "A tibble: 4 × 4\n\\begin{tabular}{llll}\n name & age & weight & class\\\\\n <chr> & <dbl> & <dbl> & <chr>\\\\\n\\hline\n\t Nikita  & 10 & 24 & dog\\\\\n\t Simons  &  7 & 16 & cat\\\\\n\t Pockets &  5 & 12 & cat\\\\\n\t Eres    &  6 & 18 & dog\\\\\n\\end{tabular}\n",
            "text/markdown": "\nA tibble: 4 × 4\n\n| name &lt;chr&gt; | age &lt;dbl&gt; | weight &lt;dbl&gt; | class &lt;chr&gt; |\n|---|---|---|---|\n| Nikita  | 10 | 24 | dog |\n| Simons  |  7 | 16 | cat |\n| Pockets |  5 | 12 | cat |\n| Eres    |  6 | 18 | dog |\n\n",
            "text/html": [
              "<table class=\"dataframe\">\n",
              "<caption>A tibble: 4 × 4</caption>\n",
              "<thead>\n",
              "\t<tr><th scope=col>name</th><th scope=col>age</th><th scope=col>weight</th><th scope=col>class</th></tr>\n",
              "\t<tr><th scope=col>&lt;chr&gt;</th><th scope=col>&lt;dbl&gt;</th><th scope=col>&lt;dbl&gt;</th><th scope=col>&lt;chr&gt;</th></tr>\n",
              "</thead>\n",
              "<tbody>\n",
              "\t<tr><td>Nikita </td><td>10</td><td>24</td><td>dog</td></tr>\n",
              "\t<tr><td>Simons </td><td> 7</td><td>16</td><td>cat</td></tr>\n",
              "\t<tr><td>Pockets</td><td> 5</td><td>12</td><td>cat</td></tr>\n",
              "\t<tr><td>Eres   </td><td> 6</td><td>18</td><td>dog</td></tr>\n",
              "</tbody>\n",
              "</table>\n"
            ]
          },
          "metadata": {}
        }
      ]
    },
    {
      "cell_type": "code",
      "source": [
        "## inspect the data\n",
        "tdf\n",
        "tr_df\n",
        "df \n"
      ],
      "metadata": {
        "id": "okFjW5xlDP9W",
        "outputId": "13ca3f80-b83c-486c-b0c2-43ed2fb9fb66",
        "colab": {
          "base_uri": "https://localhost:8080/",
          "height": 637
        }
      },
      "execution_count": null,
      "outputs": [
        {
          "output_type": "display_data",
          "data": {
            "text/plain": [
              "  name    age weight class\n",
              "1 Nikita  10  24     dog  \n",
              "2 Simons   7  16     cat  \n",
              "3 Pockets  5  12     cat  \n",
              "4 Eres     6  18     dog  "
            ],
            "text/latex": "A tibble: 4 × 4\n\\begin{tabular}{llll}\n name & age & weight & class\\\\\n <chr> & <dbl> & <dbl> & <chr>\\\\\n\\hline\n\t Nikita  & 10 & 24 & dog\\\\\n\t Simons  &  7 & 16 & cat\\\\\n\t Pockets &  5 & 12 & cat\\\\\n\t Eres    &  6 & 18 & dog\\\\\n\\end{tabular}\n",
            "text/markdown": "\nA tibble: 4 × 4\n\n| name &lt;chr&gt; | age &lt;dbl&gt; | weight &lt;dbl&gt; | class &lt;chr&gt; |\n|---|---|---|---|\n| Nikita  | 10 | 24 | dog |\n| Simons  |  7 | 16 | cat |\n| Pockets |  5 | 12 | cat |\n| Eres    |  6 | 18 | dog |\n\n",
            "text/html": [
              "<table class=\"dataframe\">\n",
              "<caption>A tibble: 4 × 4</caption>\n",
              "<thead>\n",
              "\t<tr><th scope=col>name</th><th scope=col>age</th><th scope=col>weight</th><th scope=col>class</th></tr>\n",
              "\t<tr><th scope=col>&lt;chr&gt;</th><th scope=col>&lt;dbl&gt;</th><th scope=col>&lt;dbl&gt;</th><th scope=col>&lt;chr&gt;</th></tr>\n",
              "</thead>\n",
              "<tbody>\n",
              "\t<tr><td>Nikita </td><td>10</td><td>24</td><td>dog</td></tr>\n",
              "\t<tr><td>Simons </td><td> 7</td><td>16</td><td>cat</td></tr>\n",
              "\t<tr><td>Pockets</td><td> 5</td><td>12</td><td>cat</td></tr>\n",
              "\t<tr><td>Eres   </td><td> 6</td><td>18</td><td>dog</td></tr>\n",
              "</tbody>\n",
              "</table>\n"
            ]
          },
          "metadata": {}
        },
        {
          "output_type": "display_data",
          "data": {
            "text/plain": [
              "  name    age weight class\n",
              "1 Nikita  10  24     dog  \n",
              "2 Simons   7  16     cat  \n",
              "3 Pockets  5  12     cat  \n",
              "4 Eres     6  18     dog  "
            ],
            "text/latex": "A tibble: 4 × 4\n\\begin{tabular}{llll}\n name & age & weight & class\\\\\n <chr> & <dbl> & <dbl> & <chr>\\\\\n\\hline\n\t Nikita  & 10 & 24 & dog\\\\\n\t Simons  &  7 & 16 & cat\\\\\n\t Pockets &  5 & 12 & cat\\\\\n\t Eres    &  6 & 18 & dog\\\\\n\\end{tabular}\n",
            "text/markdown": "\nA tibble: 4 × 4\n\n| name &lt;chr&gt; | age &lt;dbl&gt; | weight &lt;dbl&gt; | class &lt;chr&gt; |\n|---|---|---|---|\n| Nikita  | 10 | 24 | dog |\n| Simons  |  7 | 16 | cat |\n| Pockets |  5 | 12 | cat |\n| Eres    |  6 | 18 | dog |\n\n",
            "text/html": [
              "<table class=\"dataframe\">\n",
              "<caption>A tibble: 4 × 4</caption>\n",
              "<thead>\n",
              "\t<tr><th scope=col>name</th><th scope=col>age</th><th scope=col>weight</th><th scope=col>class</th></tr>\n",
              "\t<tr><th scope=col>&lt;chr&gt;</th><th scope=col>&lt;dbl&gt;</th><th scope=col>&lt;dbl&gt;</th><th scope=col>&lt;chr&gt;</th></tr>\n",
              "</thead>\n",
              "<tbody>\n",
              "\t<tr><td>Nikita </td><td>10</td><td>24</td><td>dog</td></tr>\n",
              "\t<tr><td>Simons </td><td> 7</td><td>16</td><td>cat</td></tr>\n",
              "\t<tr><td>Pockets</td><td> 5</td><td>12</td><td>cat</td></tr>\n",
              "\t<tr><td>Eres   </td><td> 6</td><td>18</td><td>dog</td></tr>\n",
              "</tbody>\n",
              "</table>\n"
            ]
          },
          "metadata": {}
        },
        {
          "output_type": "display_data",
          "data": {
            "text/plain": [
              "  name    age weight class\n",
              "1 Nikita  10  24     dog  \n",
              "2 Simons   7  16     cat  \n",
              "3 Pockets  5  12     cat  \n",
              "4 Eres     6  18     dog  "
            ],
            "text/latex": "A data.frame: 4 × 4\n\\begin{tabular}{llll}\n name & age & weight & class\\\\\n <chr> & <dbl> & <dbl> & <chr>\\\\\n\\hline\n\t Nikita  & 10 & 24 & dog\\\\\n\t Simons  &  7 & 16 & cat\\\\\n\t Pockets &  5 & 12 & cat\\\\\n\t Eres    &  6 & 18 & dog\\\\\n\\end{tabular}\n",
            "text/markdown": "\nA data.frame: 4 × 4\n\n| name &lt;chr&gt; | age &lt;dbl&gt; | weight &lt;dbl&gt; | class &lt;chr&gt; |\n|---|---|---|---|\n| Nikita  | 10 | 24 | dog |\n| Simons  |  7 | 16 | cat |\n| Pockets |  5 | 12 | cat |\n| Eres    |  6 | 18 | dog |\n\n",
            "text/html": [
              "<table class=\"dataframe\">\n",
              "<caption>A data.frame: 4 × 4</caption>\n",
              "<thead>\n",
              "\t<tr><th scope=col>name</th><th scope=col>age</th><th scope=col>weight</th><th scope=col>class</th></tr>\n",
              "\t<tr><th scope=col>&lt;chr&gt;</th><th scope=col>&lt;dbl&gt;</th><th scope=col>&lt;dbl&gt;</th><th scope=col>&lt;chr&gt;</th></tr>\n",
              "</thead>\n",
              "<tbody>\n",
              "\t<tr><td>Nikita </td><td>10</td><td>24</td><td>dog</td></tr>\n",
              "\t<tr><td>Simons </td><td> 7</td><td>16</td><td>cat</td></tr>\n",
              "\t<tr><td>Pockets</td><td> 5</td><td>12</td><td>cat</td></tr>\n",
              "\t<tr><td>Eres   </td><td> 6</td><td>18</td><td>dog</td></tr>\n",
              "</tbody>\n",
              "</table>\n"
            ]
          },
          "metadata": {}
        }
      ]
    },
    {
      "cell_type": "markdown",
      "source": [
        "## **(2) Differences between Tibble and Dataframe**\n",
        "Tibbles are different than dataframes in that:\n",
        "\n",
        "## Example 1.2"
      ],
      "metadata": {
        "id": "JtHMXjFtFI2g"
      }
    },
    {
      "cell_type": "markdown",
      "source": [
        "#### **(i) Tibbles <u>**print**</u> data with its column types (i.e interger, character etc)**"
      ],
      "metadata": {
        "id": "lm_0ghNYKVCs"
      }
    },
    {
      "cell_type": "code",
      "source": [
        "## print the tibble data\n",
        "tdf %>% print()\n",
        "\n",
        "## print the dataframe\n",
        "df %>% print()"
      ],
      "metadata": {
        "id": "i6mBmI7CKoi2",
        "outputId": "832bb43a-5fcd-4d1d-8be5-4849358dd40c",
        "colab": {
          "base_uri": "https://localhost:8080/"
        }
      },
      "execution_count": null,
      "outputs": [
        {
          "output_type": "stream",
          "name": "stdout",
          "text": [
            "\u001b[90m# A tibble: 4 × 4\u001b[39m\n",
            "  name      age weight class\n",
            "  \u001b[3m\u001b[90m<chr>\u001b[39m\u001b[23m   \u001b[3m\u001b[90m<dbl>\u001b[39m\u001b[23m  \u001b[3m\u001b[90m<dbl>\u001b[39m\u001b[23m \u001b[3m\u001b[90m<chr>\u001b[39m\u001b[23m\n",
            "\u001b[90m1\u001b[39m Nikita     10     24 dog  \n",
            "\u001b[90m2\u001b[39m Simons      7     16 cat  \n",
            "\u001b[90m3\u001b[39m Pockets     5     12 cat  \n",
            "\u001b[90m4\u001b[39m Eres        6     18 dog  \n",
            "     name age weight class\n",
            "1  Nikita  10     24   dog\n",
            "2  Simons   7     16   cat\n",
            "3 Pockets   5     12   cat\n",
            "4    Eres   6     18   dog\n"
          ]
        }
      ]
    },
    {
      "cell_type": "markdown",
      "source": [
        "\n",
        "**(ii) Tibbles <u>**print**</u> only the first 10 rows and all columns that fit the screen. This default feature can be overriden with `options(tibble.print_max = n, tibble.print_min = m)`** "
      ],
      "metadata": {
        "id": "T9itEDJpL7y0"
      }
    },
    {
      "cell_type": "code",
      "source": [
        "## tibble\n",
        "tibble(x = 1:1000, y = sample(x = c(\"True\", \"False\"), size = 1000, replace = TRUE)) %>% print()"
      ],
      "metadata": {
        "id": "7JMupmW6MuEj",
        "outputId": "ab7c642f-dcf3-4a70-fc7a-4bfdc649f06b",
        "colab": {
          "base_uri": "https://localhost:8080/"
        }
      },
      "execution_count": null,
      "outputs": [
        {
          "output_type": "stream",
          "name": "stdout",
          "text": [
            "\u001b[90m# A tibble: 1,000 × 2\u001b[39m\n",
            "       x y    \n",
            "   \u001b[3m\u001b[90m<int>\u001b[39m\u001b[23m \u001b[3m\u001b[90m<chr>\u001b[39m\u001b[23m\n",
            "\u001b[90m 1\u001b[39m     1 False\n",
            "\u001b[90m 2\u001b[39m     2 False\n",
            "\u001b[90m 3\u001b[39m     3 False\n",
            "\u001b[90m 4\u001b[39m     4 False\n",
            "\u001b[90m 5\u001b[39m     5 True \n",
            "\u001b[90m 6\u001b[39m     6 False\n",
            "\u001b[90m 7\u001b[39m     7 False\n",
            "\u001b[90m 8\u001b[39m     8 False\n",
            "\u001b[90m 9\u001b[39m     9 True \n",
            "\u001b[90m10\u001b[39m    10 False\n",
            "\u001b[90m# … with 990 more rows\u001b[39m\n"
          ]
        }
      ]
    },
    {
      "cell_type": "code",
      "source": [
        "## Overiding the defaults\n",
        "options(tibble.print_min = 20)"
      ],
      "metadata": {
        "id": "zoGEdAtfNvsY"
      },
      "execution_count": null,
      "outputs": []
    },
    {
      "cell_type": "code",
      "source": [
        "## dataframe\n",
        "data.frame(x = 1:1000, y = sample(x = c(\"True\", \"False\"), size = 1000, replace = TRUE)) %>% print()"
      ],
      "metadata": {
        "id": "rUgqFoN8NTxH",
        "outputId": "f2daff6d-ab73-4c81-cce8-97f4b51d9cee",
        "colab": {
          "base_uri": "https://localhost:8080/"
        }
      },
      "execution_count": null,
      "outputs": [
        {
          "output_type": "stream",
          "name": "stdout",
          "text": [
            "        x     y\n",
            "1       1 False\n",
            "2       2 False\n",
            "3       3 False\n",
            "4       4  True\n",
            "5       5 False\n",
            "6       6  True\n",
            "7       7 False\n",
            "8       8  True\n",
            "9       9 False\n",
            "10     10  True\n",
            "11     11  True\n",
            "12     12 False\n",
            "13     13  True\n",
            "14     14 False\n",
            "15     15  True\n",
            "16     16  True\n",
            "17     17 False\n",
            "18     18 False\n",
            "19     19  True\n",
            "20     20  True\n",
            "21     21  True\n",
            "22     22 False\n",
            "23     23 False\n",
            "24     24 False\n",
            "25     25 False\n",
            "26     26  True\n",
            "27     27  True\n",
            "28     28  True\n",
            "29     29  True\n",
            "30     30  True\n",
            "31     31 False\n",
            "32     32 False\n",
            "33     33  True\n",
            "34     34  True\n",
            "35     35 False\n",
            "36     36 False\n",
            "37     37  True\n",
            "38     38  True\n",
            "39     39 False\n",
            "40     40 False\n",
            "41     41 False\n",
            "42     42  True\n",
            "43     43 False\n",
            "44     44 False\n",
            "45     45  True\n",
            "46     46 False\n",
            "47     47  True\n",
            "48     48 False\n",
            "49     49  True\n",
            "50     50  True\n",
            "51     51 False\n",
            "52     52 False\n",
            "53     53 False\n",
            "54     54  True\n",
            "55     55 False\n",
            "56     56 False\n",
            "57     57  True\n",
            "58     58 False\n",
            "59     59  True\n",
            "60     60 False\n",
            "61     61 False\n",
            "62     62 False\n",
            "63     63 False\n",
            "64     64 False\n",
            "65     65  True\n",
            "66     66  True\n",
            "67     67  True\n",
            "68     68 False\n",
            "69     69 False\n",
            "70     70 False\n",
            "71     71 False\n",
            "72     72  True\n",
            "73     73  True\n",
            "74     74  True\n",
            "75     75  True\n",
            "76     76 False\n",
            "77     77 False\n",
            "78     78  True\n",
            "79     79  True\n",
            "80     80  True\n",
            "81     81  True\n",
            "82     82 False\n",
            "83     83  True\n",
            "84     84  True\n",
            "85     85  True\n",
            "86     86 False\n",
            "87     87  True\n",
            "88     88 False\n",
            "89     89  True\n",
            "90     90 False\n",
            "91     91 False\n",
            "92     92  True\n",
            "93     93  True\n",
            "94     94  True\n",
            "95     95 False\n",
            "96     96 False\n",
            "97     97 False\n",
            "98     98  True\n",
            "99     99 False\n",
            "100   100  True\n",
            "101   101 False\n",
            "102   102 False\n",
            "103   103  True\n",
            "104   104 False\n",
            "105   105  True\n",
            "106   106  True\n",
            "107   107  True\n",
            "108   108  True\n",
            "109   109 False\n",
            "110   110  True\n",
            "111   111 False\n",
            "112   112  True\n",
            "113   113 False\n",
            "114   114  True\n",
            "115   115  True\n",
            "116   116  True\n",
            "117   117 False\n",
            "118   118 False\n",
            "119   119  True\n",
            "120   120  True\n",
            "121   121  True\n",
            "122   122  True\n",
            "123   123  True\n",
            "124   124 False\n",
            "125   125 False\n",
            "126   126 False\n",
            "127   127  True\n",
            "128   128  True\n",
            "129   129  True\n",
            "130   130 False\n",
            "131   131 False\n",
            "132   132  True\n",
            "133   133  True\n",
            "134   134 False\n",
            "135   135  True\n",
            "136   136  True\n",
            "137   137 False\n",
            "138   138 False\n",
            "139   139 False\n",
            "140   140 False\n",
            "141   141 False\n",
            "142   142  True\n",
            "143   143  True\n",
            "144   144  True\n",
            "145   145  True\n",
            "146   146 False\n",
            "147   147 False\n",
            "148   148  True\n",
            "149   149  True\n",
            "150   150 False\n",
            "151   151  True\n",
            "152   152 False\n",
            "153   153  True\n",
            "154   154  True\n",
            "155   155  True\n",
            "156   156  True\n",
            "157   157  True\n",
            "158   158  True\n",
            "159   159 False\n",
            "160   160 False\n",
            "161   161  True\n",
            "162   162 False\n",
            "163   163 False\n",
            "164   164 False\n",
            "165   165 False\n",
            "166   166  True\n",
            "167   167 False\n",
            "168   168 False\n",
            "169   169  True\n",
            "170   170 False\n",
            "171   171  True\n",
            "172   172  True\n",
            "173   173  True\n",
            "174   174  True\n",
            "175   175  True\n",
            "176   176 False\n",
            "177   177  True\n",
            "178   178 False\n",
            "179   179  True\n",
            "180   180 False\n",
            "181   181  True\n",
            "182   182  True\n",
            "183   183 False\n",
            "184   184 False\n",
            "185   185 False\n",
            "186   186 False\n",
            "187   187  True\n",
            "188   188  True\n",
            "189   189 False\n",
            "190   190 False\n",
            "191   191  True\n",
            "192   192  True\n",
            "193   193 False\n",
            "194   194  True\n",
            "195   195 False\n",
            "196   196 False\n",
            "197   197 False\n",
            "198   198  True\n",
            "199   199 False\n",
            "200   200  True\n",
            "201   201  True\n",
            "202   202  True\n",
            "203   203 False\n",
            "204   204 False\n",
            "205   205 False\n",
            "206   206 False\n",
            "207   207 False\n",
            "208   208 False\n",
            "209   209 False\n",
            "210   210 False\n",
            "211   211 False\n",
            "212   212 False\n",
            "213   213  True\n",
            "214   214 False\n",
            "215   215  True\n",
            "216   216 False\n",
            "217   217  True\n",
            "218   218  True\n",
            "219   219  True\n",
            "220   220  True\n",
            "221   221 False\n",
            "222   222 False\n",
            "223   223 False\n",
            "224   224 False\n",
            "225   225 False\n",
            "226   226  True\n",
            "227   227  True\n",
            "228   228 False\n",
            "229   229 False\n",
            "230   230 False\n",
            "231   231 False\n",
            "232   232  True\n",
            "233   233 False\n",
            "234   234 False\n",
            "235   235  True\n",
            "236   236  True\n",
            "237   237 False\n",
            "238   238 False\n",
            "239   239 False\n",
            "240   240  True\n",
            "241   241  True\n",
            "242   242  True\n",
            "243   243 False\n",
            "244   244  True\n",
            "245   245 False\n",
            "246   246  True\n",
            "247   247  True\n",
            "248   248  True\n",
            "249   249 False\n",
            "250   250 False\n",
            "251   251  True\n",
            "252   252 False\n",
            "253   253 False\n",
            "254   254 False\n",
            "255   255  True\n",
            "256   256 False\n",
            "257   257  True\n",
            "258   258  True\n",
            "259   259  True\n",
            "260   260  True\n",
            "261   261  True\n",
            "262   262  True\n",
            "263   263 False\n",
            "264   264 False\n",
            "265   265 False\n",
            "266   266  True\n",
            "267   267  True\n",
            "268   268  True\n",
            "269   269 False\n",
            "270   270 False\n",
            "271   271  True\n",
            "272   272 False\n",
            "273   273 False\n",
            "274   274 False\n",
            "275   275  True\n",
            "276   276  True\n",
            "277   277 False\n",
            "278   278  True\n",
            "279   279 False\n",
            "280   280 False\n",
            "281   281  True\n",
            "282   282 False\n",
            "283   283 False\n",
            "284   284 False\n",
            "285   285  True\n",
            "286   286 False\n",
            "287   287  True\n",
            "288   288 False\n",
            "289   289  True\n",
            "290   290  True\n",
            "291   291  True\n",
            "292   292  True\n",
            "293   293  True\n",
            "294   294 False\n",
            "295   295 False\n",
            "296   296  True\n",
            "297   297 False\n",
            "298   298  True\n",
            "299   299  True\n",
            "300   300  True\n",
            "301   301 False\n",
            "302   302  True\n",
            "303   303  True\n",
            "304   304  True\n",
            "305   305  True\n",
            "306   306 False\n",
            "307   307 False\n",
            "308   308  True\n",
            "309   309  True\n",
            "310   310 False\n",
            "311   311 False\n",
            "312   312  True\n",
            "313   313 False\n",
            "314   314 False\n",
            "315   315  True\n",
            "316   316  True\n",
            "317   317  True\n",
            "318   318  True\n",
            "319   319 False\n",
            "320   320  True\n",
            "321   321  True\n",
            "322   322  True\n",
            "323   323  True\n",
            "324   324 False\n",
            "325   325 False\n",
            "326   326  True\n",
            "327   327  True\n",
            "328   328  True\n",
            "329   329  True\n",
            "330   330 False\n",
            "331   331  True\n",
            "332   332  True\n",
            "333   333 False\n",
            "334   334 False\n",
            "335   335 False\n",
            "336   336 False\n",
            "337   337 False\n",
            "338   338 False\n",
            "339   339 False\n",
            "340   340  True\n",
            "341   341 False\n",
            "342   342  True\n",
            "343   343  True\n",
            "344   344  True\n",
            "345   345  True\n",
            "346   346  True\n",
            "347   347 False\n",
            "348   348 False\n",
            "349   349 False\n",
            "350   350  True\n",
            "351   351 False\n",
            "352   352 False\n",
            "353   353 False\n",
            "354   354  True\n",
            "355   355 False\n",
            "356   356 False\n",
            "357   357 False\n",
            "358   358 False\n",
            "359   359  True\n",
            "360   360  True\n",
            "361   361 False\n",
            "362   362 False\n",
            "363   363 False\n",
            "364   364 False\n",
            "365   365 False\n",
            "366   366 False\n",
            "367   367 False\n",
            "368   368 False\n",
            "369   369  True\n",
            "370   370 False\n",
            "371   371  True\n",
            "372   372  True\n",
            "373   373 False\n",
            "374   374  True\n",
            "375   375 False\n",
            "376   376 False\n",
            "377   377  True\n",
            "378   378 False\n",
            "379   379  True\n",
            "380   380 False\n",
            "381   381  True\n",
            "382   382  True\n",
            "383   383  True\n",
            "384   384  True\n",
            "385   385 False\n",
            "386   386 False\n",
            "387   387 False\n",
            "388   388  True\n",
            "389   389 False\n",
            "390   390 False\n",
            "391   391 False\n",
            "392   392 False\n",
            "393   393  True\n",
            "394   394  True\n",
            "395   395 False\n",
            "396   396 False\n",
            "397   397 False\n",
            "398   398 False\n",
            "399   399  True\n",
            "400   400  True\n",
            "401   401 False\n",
            "402   402  True\n",
            "403   403 False\n",
            "404   404  True\n",
            "405   405 False\n",
            "406   406 False\n",
            "407   407  True\n",
            "408   408  True\n",
            "409   409  True\n",
            "410   410 False\n",
            "411   411  True\n",
            "412   412  True\n",
            "413   413 False\n",
            "414   414  True\n",
            "415   415  True\n",
            "416   416 False\n",
            "417   417 False\n",
            "418   418 False\n",
            "419   419 False\n",
            "420   420  True\n",
            "421   421  True\n",
            "422   422  True\n",
            "423   423  True\n",
            "424   424 False\n",
            "425   425  True\n",
            "426   426 False\n",
            "427   427 False\n",
            "428   428 False\n",
            "429   429 False\n",
            "430   430 False\n",
            "431   431  True\n",
            "432   432  True\n",
            "433   433 False\n",
            "434   434  True\n",
            "435   435  True\n",
            "436   436  True\n",
            "437   437 False\n",
            "438   438 False\n",
            "439   439 False\n",
            "440   440  True\n",
            "441   441 False\n",
            "442   442 False\n",
            "443   443 False\n",
            "444   444 False\n",
            "445   445 False\n",
            "446   446 False\n",
            "447   447  True\n",
            "448   448 False\n",
            "449   449 False\n",
            "450   450 False\n",
            "451   451 False\n",
            "452   452 False\n",
            "453   453 False\n",
            "454   454 False\n",
            "455   455  True\n",
            "456   456 False\n",
            "457   457 False\n",
            "458   458 False\n",
            "459   459  True\n",
            "460   460  True\n",
            "461   461  True\n",
            "462   462  True\n",
            "463   463  True\n",
            "464   464 False\n",
            "465   465 False\n",
            "466   466 False\n",
            "467   467  True\n",
            "468   468  True\n",
            "469   469  True\n",
            "470   470 False\n",
            "471   471 False\n",
            "472   472  True\n",
            "473   473  True\n",
            "474   474  True\n",
            "475   475  True\n",
            "476   476 False\n",
            "477   477  True\n",
            "478   478 False\n",
            "479   479  True\n",
            "480   480 False\n",
            "481   481  True\n",
            "482   482 False\n",
            "483   483  True\n",
            "484   484  True\n",
            "485   485  True\n",
            "486   486  True\n",
            "487   487 False\n",
            "488   488 False\n",
            "489   489 False\n",
            "490   490 False\n",
            "491   491  True\n",
            "492   492  True\n",
            "493   493  True\n",
            "494   494  True\n",
            "495   495  True\n",
            "496   496 False\n",
            "497   497  True\n",
            "498   498 False\n",
            "499   499  True\n",
            "500   500 False\n",
            "501   501  True\n",
            "502   502 False\n",
            "503   503 False\n",
            "504   504  True\n",
            "505   505  True\n",
            "506   506 False\n",
            "507   507  True\n",
            "508   508  True\n",
            "509   509 False\n",
            "510   510  True\n",
            "511   511 False\n",
            "512   512 False\n",
            "513   513 False\n",
            "514   514 False\n",
            "515   515 False\n",
            "516   516  True\n",
            "517   517  True\n",
            "518   518  True\n",
            "519   519  True\n",
            "520   520  True\n",
            "521   521  True\n",
            "522   522 False\n",
            "523   523  True\n",
            "524   524  True\n",
            "525   525 False\n",
            "526   526  True\n",
            "527   527 False\n",
            "528   528 False\n",
            "529   529 False\n",
            "530   530 False\n",
            "531   531  True\n",
            "532   532  True\n",
            "533   533  True\n",
            "534   534  True\n",
            "535   535  True\n",
            "536   536  True\n",
            "537   537 False\n",
            "538   538 False\n",
            "539   539 False\n",
            "540   540 False\n",
            "541   541  True\n",
            "542   542  True\n",
            "543   543 False\n",
            "544   544  True\n",
            "545   545  True\n",
            "546   546 False\n",
            "547   547 False\n",
            "548   548 False\n",
            "549   549  True\n",
            "550   550  True\n",
            "551   551 False\n",
            "552   552 False\n",
            "553   553 False\n",
            "554   554  True\n",
            "555   555  True\n",
            "556   556  True\n",
            "557   557  True\n",
            "558   558 False\n",
            "559   559 False\n",
            "560   560 False\n",
            "561   561  True\n",
            "562   562  True\n",
            "563   563  True\n",
            "564   564 False\n",
            "565   565 False\n",
            "566   566 False\n",
            "567   567 False\n",
            "568   568 False\n",
            "569   569  True\n",
            "570   570 False\n",
            "571   571 False\n",
            "572   572 False\n",
            "573   573 False\n",
            "574   574 False\n",
            "575   575  True\n",
            "576   576 False\n",
            "577   577  True\n",
            "578   578  True\n",
            "579   579 False\n",
            "580   580  True\n",
            "581   581 False\n",
            "582   582 False\n",
            "583   583  True\n",
            "584   584 False\n",
            "585   585 False\n",
            "586   586 False\n",
            "587   587  True\n",
            "588   588 False\n",
            "589   589  True\n",
            "590   590  True\n",
            "591   591 False\n",
            "592   592 False\n",
            "593   593  True\n",
            "594   594  True\n",
            "595   595  True\n",
            "596   596  True\n",
            "597   597 False\n",
            "598   598  True\n",
            "599   599 False\n",
            "600   600 False\n",
            "601   601  True\n",
            "602   602  True\n",
            "603   603  True\n",
            "604   604  True\n",
            "605   605  True\n",
            "606   606 False\n",
            "607   607 False\n",
            "608   608 False\n",
            "609   609  True\n",
            "610   610 False\n",
            "611   611  True\n",
            "612   612 False\n",
            "613   613  True\n",
            "614   614  True\n",
            "615   615  True\n",
            "616   616  True\n",
            "617   617  True\n",
            "618   618  True\n",
            "619   619 False\n",
            "620   620 False\n",
            "621   621  True\n",
            "622   622 False\n",
            "623   623  True\n",
            "624   624 False\n",
            "625   625 False\n",
            "626   626  True\n",
            "627   627  True\n",
            "628   628 False\n",
            "629   629  True\n",
            "630   630 False\n",
            "631   631 False\n",
            "632   632 False\n",
            "633   633 False\n",
            "634   634 False\n",
            "635   635  True\n",
            "636   636  True\n",
            "637   637 False\n",
            "638   638  True\n",
            "639   639  True\n",
            "640   640 False\n",
            "641   641  True\n",
            "642   642 False\n",
            "643   643 False\n",
            "644   644 False\n",
            "645   645  True\n",
            "646   646 False\n",
            "647   647  True\n",
            "648   648  True\n",
            "649   649  True\n",
            "650   650  True\n",
            "651   651 False\n",
            "652   652  True\n",
            "653   653  True\n",
            "654   654  True\n",
            "655   655 False\n",
            "656   656 False\n",
            "657   657 False\n",
            "658   658 False\n",
            "659   659  True\n",
            "660   660 False\n",
            "661   661 False\n",
            "662   662 False\n",
            "663   663  True\n",
            "664   664 False\n",
            "665   665  True\n",
            "666   666  True\n",
            "667   667  True\n",
            "668   668 False\n",
            "669   669  True\n",
            "670   670  True\n",
            "671   671  True\n",
            "672   672  True\n",
            "673   673 False\n",
            "674   674 False\n",
            "675   675 False\n",
            "676   676  True\n",
            "677   677  True\n",
            "678   678 False\n",
            "679   679  True\n",
            "680   680  True\n",
            "681   681  True\n",
            "682   682  True\n",
            "683   683 False\n",
            "684   684 False\n",
            "685   685 False\n",
            "686   686 False\n",
            "687   687 False\n",
            "688   688 False\n",
            "689   689 False\n",
            "690   690  True\n",
            "691   691  True\n",
            "692   692 False\n",
            "693   693  True\n",
            "694   694  True\n",
            "695   695 False\n",
            "696   696  True\n",
            "697   697  True\n",
            "698   698 False\n",
            "699   699  True\n",
            "700   700  True\n",
            "701   701  True\n",
            "702   702  True\n",
            "703   703  True\n",
            "704   704  True\n",
            "705   705 False\n",
            "706   706  True\n",
            "707   707 False\n",
            "708   708  True\n",
            "709   709 False\n",
            "710   710 False\n",
            "711   711  True\n",
            "712   712  True\n",
            "713   713 False\n",
            "714   714 False\n",
            "715   715  True\n",
            "716   716 False\n",
            "717   717  True\n",
            "718   718 False\n",
            "719   719  True\n",
            "720   720 False\n",
            "721   721  True\n",
            "722   722  True\n",
            "723   723  True\n",
            "724   724 False\n",
            "725   725 False\n",
            "726   726 False\n",
            "727   727 False\n",
            "728   728 False\n",
            "729   729 False\n",
            "730   730  True\n",
            "731   731 False\n",
            "732   732  True\n",
            "733   733 False\n",
            "734   734 False\n",
            "735   735  True\n",
            "736   736  True\n",
            "737   737  True\n",
            "738   738 False\n",
            "739   739 False\n",
            "740   740  True\n",
            "741   741  True\n",
            "742   742  True\n",
            "743   743  True\n",
            "744   744 False\n",
            "745   745 False\n",
            "746   746 False\n",
            "747   747 False\n",
            "748   748 False\n",
            "749   749  True\n",
            "750   750 False\n",
            "751   751  True\n",
            "752   752 False\n",
            "753   753 False\n",
            "754   754  True\n",
            "755   755  True\n",
            "756   756  True\n",
            "757   757  True\n",
            "758   758 False\n",
            "759   759 False\n",
            "760   760 False\n",
            "761   761 False\n",
            "762   762  True\n",
            "763   763 False\n",
            "764   764 False\n",
            "765   765  True\n",
            "766   766  True\n",
            "767   767 False\n",
            "768   768  True\n",
            "769   769  True\n",
            "770   770  True\n",
            "771   771 False\n",
            "772   772  True\n",
            "773   773 False\n",
            "774   774 False\n",
            "775   775  True\n",
            "776   776  True\n",
            "777   777  True\n",
            "778   778  True\n",
            "779   779 False\n",
            "780   780  True\n",
            "781   781  True\n",
            "782   782 False\n",
            "783   783  True\n",
            "784   784 False\n",
            "785   785 False\n",
            "786   786 False\n",
            "787   787 False\n",
            "788   788 False\n",
            "789   789  True\n",
            "790   790  True\n",
            "791   791 False\n",
            "792   792 False\n",
            "793   793 False\n",
            "794   794  True\n",
            "795   795 False\n",
            "796   796 False\n",
            "797   797  True\n",
            "798   798 False\n",
            "799   799 False\n",
            "800   800 False\n",
            "801   801 False\n",
            "802   802 False\n",
            "803   803  True\n",
            "804   804 False\n",
            "805   805 False\n",
            "806   806 False\n",
            "807   807  True\n",
            "808   808  True\n",
            "809   809 False\n",
            "810   810  True\n",
            "811   811 False\n",
            "812   812  True\n",
            "813   813 False\n",
            "814   814 False\n",
            "815   815 False\n",
            "816   816 False\n",
            "817   817  True\n",
            "818   818  True\n",
            "819   819  True\n",
            "820   820  True\n",
            "821   821 False\n",
            "822   822  True\n",
            "823   823  True\n",
            "824   824 False\n",
            "825   825  True\n",
            "826   826  True\n",
            "827   827 False\n",
            "828   828 False\n",
            "829   829 False\n",
            "830   830 False\n",
            "831   831  True\n",
            "832   832 False\n",
            "833   833 False\n",
            "834   834 False\n",
            "835   835  True\n",
            "836   836  True\n",
            "837   837 False\n",
            "838   838  True\n",
            "839   839  True\n",
            "840   840 False\n",
            "841   841  True\n",
            "842   842 False\n",
            "843   843  True\n",
            "844   844  True\n",
            "845   845  True\n",
            "846   846 False\n",
            "847   847  True\n",
            "848   848 False\n",
            "849   849  True\n",
            "850   850 False\n",
            "851   851  True\n",
            "852   852 False\n",
            "853   853 False\n",
            "854   854  True\n",
            "855   855 False\n",
            "856   856  True\n",
            "857   857  True\n",
            "858   858  True\n",
            "859   859 False\n",
            "860   860 False\n",
            "861   861  True\n",
            "862   862  True\n",
            "863   863  True\n",
            "864   864 False\n",
            "865   865  True\n",
            "866   866 False\n",
            "867   867  True\n",
            "868   868 False\n",
            "869   869  True\n",
            "870   870 False\n",
            "871   871  True\n",
            "872   872  True\n",
            "873   873 False\n",
            "874   874  True\n",
            "875   875 False\n",
            "876   876  True\n",
            "877   877 False\n",
            "878   878  True\n",
            "879   879 False\n",
            "880   880 False\n",
            "881   881  True\n",
            "882   882 False\n",
            "883   883  True\n",
            "884   884  True\n",
            "885   885  True\n",
            "886   886 False\n",
            "887   887 False\n",
            "888   888 False\n",
            "889   889  True\n",
            "890   890  True\n",
            "891   891  True\n",
            "892   892  True\n",
            "893   893 False\n",
            "894   894  True\n",
            "895   895  True\n",
            "896   896 False\n",
            "897   897  True\n",
            "898   898 False\n",
            "899   899  True\n",
            "900   900  True\n",
            "901   901 False\n",
            "902   902  True\n",
            "903   903 False\n",
            "904   904 False\n",
            "905   905 False\n",
            "906   906  True\n",
            "907   907 False\n",
            "908   908  True\n",
            "909   909 False\n",
            "910   910  True\n",
            "911   911  True\n",
            "912   912 False\n",
            "913   913 False\n",
            "914   914  True\n",
            "915   915  True\n",
            "916   916  True\n",
            "917   917 False\n",
            "918   918  True\n",
            "919   919  True\n",
            "920   920  True\n",
            "921   921 False\n",
            "922   922 False\n",
            "923   923 False\n",
            "924   924  True\n",
            "925   925  True\n",
            "926   926 False\n",
            "927   927 False\n",
            "928   928 False\n",
            "929   929 False\n",
            "930   930  True\n",
            "931   931  True\n",
            "932   932 False\n",
            "933   933 False\n",
            "934   934  True\n",
            "935   935 False\n",
            "936   936  True\n",
            "937   937 False\n",
            "938   938 False\n",
            "939   939 False\n",
            "940   940  True\n",
            "941   941 False\n",
            "942   942 False\n",
            "943   943 False\n",
            "944   944  True\n",
            "945   945  True\n",
            "946   946  True\n",
            "947   947  True\n",
            "948   948 False\n",
            "949   949 False\n",
            "950   950  True\n",
            "951   951 False\n",
            "952   952 False\n",
            "953   953  True\n",
            "954   954  True\n",
            "955   955  True\n",
            "956   956 False\n",
            "957   957 False\n",
            "958   958 False\n",
            "959   959 False\n",
            "960   960  True\n",
            "961   961  True\n",
            "962   962 False\n",
            "963   963  True\n",
            "964   964  True\n",
            "965   965  True\n",
            "966   966  True\n",
            "967   967  True\n",
            "968   968  True\n",
            "969   969 False\n",
            "970   970 False\n",
            "971   971  True\n",
            "972   972  True\n",
            "973   973  True\n",
            "974   974  True\n",
            "975   975 False\n",
            "976   976  True\n",
            "977   977 False\n",
            "978   978  True\n",
            "979   979  True\n",
            "980   980 False\n",
            "981   981  True\n",
            "982   982  True\n",
            "983   983 False\n",
            "984   984  True\n",
            "985   985  True\n",
            "986   986 False\n",
            "987   987 False\n",
            "988   988 False\n",
            "989   989 False\n",
            "990   990  True\n",
            "991   991 False\n",
            "992   992 False\n",
            "993   993 False\n",
            "994   994 False\n",
            "995   995 False\n",
            "996   996 False\n",
            "997   997 False\n",
            "998   998 False\n",
            "999   999 False\n",
            "1000 1000  True\n"
          ]
        }
      ]
    },
    {
      "cell_type": "markdown",
      "source": [
        "\n",
        "**(iii) In <u>**subsetting**</u>, `[` always returns another tibble while dataframes sometimes return a data frame or vector**"
      ],
      "metadata": {
        "id": "RekvPJgBOZ13"
      }
    },
    {
      "cell_type": "code",
      "source": [
        "## (1) Subsetting just a column using [\n",
        "tdf[, 2] # the tibble outputs another tibble\n",
        "df[, 2]  # dataframe returns a vector"
      ],
      "metadata": {
        "id": "_uOB4ZE3O285",
        "outputId": "c1282870-8a33-4593-955f-fb7540876443",
        "colab": {
          "base_uri": "https://localhost:8080/",
          "height": 258
        }
      },
      "execution_count": null,
      "outputs": [
        {
          "output_type": "display_data",
          "data": {
            "text/plain": [
              "  age\n",
              "1 10 \n",
              "2  7 \n",
              "3  5 \n",
              "4  6 "
            ],
            "text/latex": "A tibble: 4 × 1\n\\begin{tabular}{l}\n age\\\\\n <dbl>\\\\\n\\hline\n\t 10\\\\\n\t  7\\\\\n\t  5\\\\\n\t  6\\\\\n\\end{tabular}\n",
            "text/markdown": "\nA tibble: 4 × 1\n\n| age &lt;dbl&gt; |\n|---|\n| 10 |\n|  7 |\n|  5 |\n|  6 |\n\n",
            "text/html": [
              "<table class=\"dataframe\">\n",
              "<caption>A tibble: 4 × 1</caption>\n",
              "<thead>\n",
              "\t<tr><th scope=col>age</th></tr>\n",
              "\t<tr><th scope=col>&lt;dbl&gt;</th></tr>\n",
              "</thead>\n",
              "<tbody>\n",
              "\t<tr><td>10</td></tr>\n",
              "\t<tr><td> 7</td></tr>\n",
              "\t<tr><td> 5</td></tr>\n",
              "\t<tr><td> 6</td></tr>\n",
              "</tbody>\n",
              "</table>\n"
            ]
          },
          "metadata": {}
        },
        {
          "output_type": "display_data",
          "data": {
            "text/plain": [
              "[1] 10  7  5  6"
            ],
            "text/latex": "\\begin{enumerate*}\n\\item 10\n\\item 7\n\\item 5\n\\item 6\n\\end{enumerate*}\n",
            "text/markdown": "1. 10\n2. 7\n3. 5\n4. 6\n\n\n",
            "text/html": [
              "<style>\n",
              ".list-inline {list-style: none; margin:0; padding: 0}\n",
              ".list-inline>li {display: inline-block}\n",
              ".list-inline>li:not(:last-child)::after {content: \"\\00b7\"; padding: 0 .5ex}\n",
              "</style>\n",
              "<ol class=list-inline><li>10</li><li>7</li><li>5</li><li>6</li></ol>\n"
            ]
          },
          "metadata": {}
        }
      ]
    },
    {
      "cell_type": "code",
      "source": [
        "## (2) Subsetting just a column using [[ or $\n",
        "\n",
        "# this gives us vector in both cases\n",
        "tdf[[2]]\n",
        "df[[2]]\n",
        "\n",
        "tdf$age\n",
        "df$age"
      ],
      "metadata": {
        "id": "VHti7EzdQDaY",
        "outputId": "efb17d39-4318-4d64-a50b-b37bab1811c4",
        "colab": {
          "base_uri": "https://localhost:8080/",
          "height": 86
        }
      },
      "execution_count": null,
      "outputs": [
        {
          "output_type": "display_data",
          "data": {
            "text/plain": [
              "[1] 10  7  5  6"
            ],
            "text/latex": "\\begin{enumerate*}\n\\item 10\n\\item 7\n\\item 5\n\\item 6\n\\end{enumerate*}\n",
            "text/markdown": "1. 10\n2. 7\n3. 5\n4. 6\n\n\n",
            "text/html": [
              "<style>\n",
              ".list-inline {list-style: none; margin:0; padding: 0}\n",
              ".list-inline>li {display: inline-block}\n",
              ".list-inline>li:not(:last-child)::after {content: \"\\00b7\"; padding: 0 .5ex}\n",
              "</style>\n",
              "<ol class=list-inline><li>10</li><li>7</li><li>5</li><li>6</li></ol>\n"
            ]
          },
          "metadata": {}
        },
        {
          "output_type": "display_data",
          "data": {
            "text/plain": [
              "[1] 10  7  5  6"
            ],
            "text/latex": "\\begin{enumerate*}\n\\item 10\n\\item 7\n\\item 5\n\\item 6\n\\end{enumerate*}\n",
            "text/markdown": "1. 10\n2. 7\n3. 5\n4. 6\n\n\n",
            "text/html": [
              "<style>\n",
              ".list-inline {list-style: none; margin:0; padding: 0}\n",
              ".list-inline>li {display: inline-block}\n",
              ".list-inline>li:not(:last-child)::after {content: \"\\00b7\"; padding: 0 .5ex}\n",
              "</style>\n",
              "<ol class=list-inline><li>10</li><li>7</li><li>5</li><li>6</li></ol>\n"
            ]
          },
          "metadata": {}
        },
        {
          "output_type": "display_data",
          "data": {
            "text/plain": [
              "[1] 10  7  5  6"
            ],
            "text/latex": "\\begin{enumerate*}\n\\item 10\n\\item 7\n\\item 5\n\\item 6\n\\end{enumerate*}\n",
            "text/markdown": "1. 10\n2. 7\n3. 5\n4. 6\n\n\n",
            "text/html": [
              "<style>\n",
              ".list-inline {list-style: none; margin:0; padding: 0}\n",
              ".list-inline>li {display: inline-block}\n",
              ".list-inline>li:not(:last-child)::after {content: \"\\00b7\"; padding: 0 .5ex}\n",
              "</style>\n",
              "<ol class=list-inline><li>10</li><li>7</li><li>5</li><li>6</li></ol>\n"
            ]
          },
          "metadata": {}
        },
        {
          "output_type": "display_data",
          "data": {
            "text/plain": [
              "[1] 10  7  5  6"
            ],
            "text/latex": "\\begin{enumerate*}\n\\item 10\n\\item 7\n\\item 5\n\\item 6\n\\end{enumerate*}\n",
            "text/markdown": "1. 10\n2. 7\n3. 5\n4. 6\n\n\n",
            "text/html": [
              "<style>\n",
              ".list-inline {list-style: none; margin:0; padding: 0}\n",
              ".list-inline>li {display: inline-block}\n",
              ".list-inline>li:not(:last-child)::after {content: \"\\00b7\"; padding: 0 .5ex}\n",
              "</style>\n",
              "<ol class=list-inline><li>10</li><li>7</li><li>5</li><li>6</li></ol>\n"
            ]
          },
          "metadata": {}
        }
      ]
    },
    {
      "cell_type": "markdown",
      "source": [
        "**(iv) In <u>**subsetting**</u>, dataframes allow for partial matching; tibbles do not!**"
      ],
      "metadata": {
        "id": "l8hyjmyjRHJa"
      }
    },
    {
      "cell_type": "code",
      "source": [
        "tdf$age ## tibble\n"
      ],
      "metadata": {
        "id": "ZHhioB_0R4Qz",
        "outputId": "d9bf4a34-b2d4-4d54-eede-1b784d9cb965",
        "colab": {
          "base_uri": "https://localhost:8080/",
          "height": 34
        }
      },
      "execution_count": null,
      "outputs": [
        {
          "output_type": "display_data",
          "data": {
            "text/plain": [
              "[1] 10  7  5  6"
            ],
            "text/latex": "\\begin{enumerate*}\n\\item 10\n\\item 7\n\\item 5\n\\item 6\n\\end{enumerate*}\n",
            "text/markdown": "1. 10\n2. 7\n3. 5\n4. 6\n\n\n",
            "text/html": [
              "<style>\n",
              ".list-inline {list-style: none; margin:0; padding: 0}\n",
              ".list-inline>li {display: inline-block}\n",
              ".list-inline>li:not(:last-child)::after {content: \"\\00b7\"; padding: 0 .5ex}\n",
              "</style>\n",
              "<ol class=list-inline><li>10</li><li>7</li><li>5</li><li>6</li></ol>\n"
            ]
          },
          "metadata": {}
        }
      ]
    },
    {
      "cell_type": "code",
      "source": [
        "df$w  ## dataframe"
      ],
      "metadata": {
        "id": "DWyE4TiGJQQo",
        "outputId": "4f17f435-948e-4dce-ab45-c6850613b791",
        "colab": {
          "base_uri": "https://localhost:8080/",
          "height": 34
        }
      },
      "execution_count": null,
      "outputs": [
        {
          "output_type": "display_data",
          "data": {
            "text/plain": [
              "[1] 24 16 12 18"
            ],
            "text/latex": "\\begin{enumerate*}\n\\item 24\n\\item 16\n\\item 12\n\\item 18\n\\end{enumerate*}\n",
            "text/markdown": "1. 24\n2. 16\n3. 12\n4. 18\n\n\n",
            "text/html": [
              "<style>\n",
              ".list-inline {list-style: none; margin:0; padding: 0}\n",
              ".list-inline>li {display: inline-block}\n",
              ".list-inline>li:not(:last-child)::after {content: \"\\00b7\"; padding: 0 .5ex}\n",
              "</style>\n",
              "<ol class=list-inline><li>24</li><li>16</li><li>12</li><li>18</li></ol>\n"
            ]
          },
          "metadata": {}
        }
      ]
    },
    {
      "cell_type": "markdown",
      "source": [
        "**(v) They permit the use of invalid R variable names for column naming while dataframes do not!**"
      ],
      "metadata": {
        "id": "oC4L25VwSP5M"
      }
    },
    {
      "cell_type": "code",
      "source": [
        "tibble(\n",
        "  `😁`   = c('Nikita', 'Simons', 'Pockets', 'Eres'),    \n",
        "  `_`    = c(10, 7, 5, 6),\n",
        "  weight = c(24, 16, 12, 18),                          \n",
        "  `@`  = c('dog', 'cat', 'cat', 'dog')\n",
        ")"
      ],
      "metadata": {
        "id": "M54i0TM_SbJt",
        "outputId": "fdc01319-37e0-44c8-a69d-32aaa87aa034",
        "colab": {
          "base_uri": "https://localhost:8080/",
          "height": 224
        }
      },
      "execution_count": null,
      "outputs": [
        {
          "output_type": "display_data",
          "data": {
            "text/plain": [
              "  😁      _  weight @  \n",
              "1 Nikita  10 24     dog\n",
              "2 Simons   7 16     cat\n",
              "3 Pockets  5 12     cat\n",
              "4 Eres     6 18     dog"
            ],
            "text/latex": "A tibble: 4 × 4\n\\begin{tabular}{llll}\n 😁 & \\_ & weight & @\\\\\n <chr> & <dbl> & <dbl> & <chr>\\\\\n\\hline\n\t Nikita  & 10 & 24 & dog\\\\\n\t Simons  &  7 & 16 & cat\\\\\n\t Pockets &  5 & 12 & cat\\\\\n\t Eres    &  6 & 18 & dog\\\\\n\\end{tabular}\n",
            "text/markdown": "\nA tibble: 4 × 4\n\n| 😁 &lt;chr&gt; | _ &lt;dbl&gt; | weight &lt;dbl&gt; | @ &lt;chr&gt; |\n|---|---|---|---|\n| Nikita  | 10 | 24 | dog |\n| Simons  |  7 | 16 | cat |\n| Pockets |  5 | 12 | cat |\n| Eres    |  6 | 18 | dog |\n\n",
            "text/html": [
              "<table class=\"dataframe\">\n",
              "<caption>A tibble: 4 × 4</caption>\n",
              "<thead>\n",
              "\t<tr><th scope=col>😁</th><th scope=col>_</th><th scope=col>weight</th><th scope=col>@</th></tr>\n",
              "\t<tr><th scope=col>&lt;chr&gt;</th><th scope=col>&lt;dbl&gt;</th><th scope=col>&lt;dbl&gt;</th><th scope=col>&lt;chr&gt;</th></tr>\n",
              "</thead>\n",
              "<tbody>\n",
              "\t<tr><td>Nikita </td><td>10</td><td>24</td><td>dog</td></tr>\n",
              "\t<tr><td>Simons </td><td> 7</td><td>16</td><td>cat</td></tr>\n",
              "\t<tr><td>Pockets</td><td> 5</td><td>12</td><td>cat</td></tr>\n",
              "\t<tr><td>Eres   </td><td> 6</td><td>18</td><td>dog</td></tr>\n",
              "</tbody>\n",
              "</table>\n"
            ]
          },
          "metadata": {}
        }
      ]
    },
    {
      "cell_type": "code",
      "source": [
        "data.frame(\n",
        "  `:`   = c('Nikita', 'Simons', 'Pockets', 'Eres'),    \n",
        "  `_`    = c(10, 7, 5, 6),\n",
        "  weight = c(24, 16, 12, 18),                          \n",
        "  `@`  = c('dog', 'cat', 'cat', 'dog')\n",
        ")"
      ],
      "metadata": {
        "id": "9eXpJuzFSoJg",
        "outputId": "8b894572-ad56-4b29-d133-09077c2e3e34",
        "colab": {
          "base_uri": "https://localhost:8080/",
          "height": 224
        }
      },
      "execution_count": null,
      "outputs": [
        {
          "output_type": "display_data",
          "data": {
            "text/plain": [
              "  X.      X_ weight X..1\n",
              "1 Nikita  10 24     dog \n",
              "2 Simons   7 16     cat \n",
              "3 Pockets  5 12     cat \n",
              "4 Eres     6 18     dog "
            ],
            "text/latex": "A data.frame: 4 × 4\n\\begin{tabular}{llll}\n X. & X\\_ & weight & X..1\\\\\n <chr> & <dbl> & <dbl> & <chr>\\\\\n\\hline\n\t Nikita  & 10 & 24 & dog\\\\\n\t Simons  &  7 & 16 & cat\\\\\n\t Pockets &  5 & 12 & cat\\\\\n\t Eres    &  6 & 18 & dog\\\\\n\\end{tabular}\n",
            "text/markdown": "\nA data.frame: 4 × 4\n\n| X. &lt;chr&gt; | X_ &lt;dbl&gt; | weight &lt;dbl&gt; | X..1 &lt;chr&gt; |\n|---|---|---|---|\n| Nikita  | 10 | 24 | dog |\n| Simons  |  7 | 16 | cat |\n| Pockets |  5 | 12 | cat |\n| Eres    |  6 | 18 | dog |\n\n",
            "text/html": [
              "<table class=\"dataframe\">\n",
              "<caption>A data.frame: 4 × 4</caption>\n",
              "<thead>\n",
              "\t<tr><th scope=col>X.</th><th scope=col>X_</th><th scope=col>weight</th><th scope=col>X..1</th></tr>\n",
              "\t<tr><th scope=col>&lt;chr&gt;</th><th scope=col>&lt;dbl&gt;</th><th scope=col>&lt;dbl&gt;</th><th scope=col>&lt;chr&gt;</th></tr>\n",
              "</thead>\n",
              "<tbody>\n",
              "\t<tr><td>Nikita </td><td>10</td><td>24</td><td>dog</td></tr>\n",
              "\t<tr><td>Simons </td><td> 7</td><td>16</td><td>cat</td></tr>\n",
              "\t<tr><td>Pockets</td><td> 5</td><td>12</td><td>cat</td></tr>\n",
              "\t<tr><td>Eres   </td><td> 6</td><td>18</td><td>dog</td></tr>\n",
              "</tbody>\n",
              "</table>\n"
            ]
          },
          "metadata": {}
        }
      ]
    },
    {
      "cell_type": "markdown",
      "source": [
        "**(vi) Tibbles allow for creating multiple columns, some of which may depend on those being created at the same time; dataframes do not allow this!**"
      ],
      "metadata": {
        "id": "dzVhg7SuS0SB"
      }
    },
    {
      "cell_type": "code",
      "source": [
        "## tibble\n",
        "(tbl_df <- tibble(\n",
        "  x = 1:5,\n",
        "  y = 5,\n",
        "  z = x^3 + 5*y\n",
        "))"
      ],
      "metadata": {
        "id": "EsR3SKR8S6Oc",
        "outputId": "78cb0926-a1e7-43fe-bc50-9fa32b7d018b",
        "colab": {
          "base_uri": "https://localhost:8080/",
          "height": 255
        }
      },
      "execution_count": null,
      "outputs": [
        {
          "output_type": "display_data",
          "data": {
            "text/plain": [
              "  x y z  \n",
              "1 1 5  26\n",
              "2 2 5  33\n",
              "3 3 5  52\n",
              "4 4 5  89\n",
              "5 5 5 150"
            ],
            "text/latex": "A tibble: 5 × 3\n\\begin{tabular}{lll}\n x & y & z\\\\\n <int> & <dbl> & <dbl>\\\\\n\\hline\n\t 1 & 5 &  26\\\\\n\t 2 & 5 &  33\\\\\n\t 3 & 5 &  52\\\\\n\t 4 & 5 &  89\\\\\n\t 5 & 5 & 150\\\\\n\\end{tabular}\n",
            "text/markdown": "\nA tibble: 5 × 3\n\n| x &lt;int&gt; | y &lt;dbl&gt; | z &lt;dbl&gt; |\n|---|---|---|\n| 1 | 5 |  26 |\n| 2 | 5 |  33 |\n| 3 | 5 |  52 |\n| 4 | 5 |  89 |\n| 5 | 5 | 150 |\n\n",
            "text/html": [
              "<table class=\"dataframe\">\n",
              "<caption>A tibble: 5 × 3</caption>\n",
              "<thead>\n",
              "\t<tr><th scope=col>x</th><th scope=col>y</th><th scope=col>z</th></tr>\n",
              "\t<tr><th scope=col>&lt;int&gt;</th><th scope=col>&lt;dbl&gt;</th><th scope=col>&lt;dbl&gt;</th></tr>\n",
              "</thead>\n",
              "<tbody>\n",
              "\t<tr><td>1</td><td>5</td><td> 26</td></tr>\n",
              "\t<tr><td>2</td><td>5</td><td> 33</td></tr>\n",
              "\t<tr><td>3</td><td>5</td><td> 52</td></tr>\n",
              "\t<tr><td>4</td><td>5</td><td> 89</td></tr>\n",
              "\t<tr><td>5</td><td>5</td><td>150</td></tr>\n",
              "</tbody>\n",
              "</table>\n"
            ]
          },
          "metadata": {}
        }
      ]
    },
    {
      "cell_type": "code",
      "source": [
        "## dataframe\n",
        "(df <- data.frame(\n",
        "  x = 1:5,\n",
        "  y = 5,\n",
        "  z = x^3 + 5*y\n",
        "))"
      ],
      "metadata": {
        "id": "mQxeJs_wTc5c",
        "outputId": "1647573f-e7a4-420d-fdea-76f644cd6be5",
        "colab": {
          "base_uri": "https://localhost:8080/",
          "height": 134
        }
      },
      "execution_count": null,
      "outputs": [
        {
          "output_type": "error",
          "ename": "ERROR",
          "evalue": "ignored",
          "traceback": [
            "Error in data.frame(x = 1:5, y = 5, z = x^3 + 5 * y): object 'x' not found\nTraceback:\n",
            "1. data.frame(x = 1:5, y = 5, z = x^3 + 5 * y)"
          ]
        }
      ]
    },
    {
      "cell_type": "markdown",
      "source": [
        "**(vii) Tibbles do not support arithmetic operations on columns. They silently get converted to dataframes**"
      ],
      "metadata": {
        "id": "4DsWL7_eTx0V"
      }
    },
    {
      "cell_type": "code",
      "source": [
        "tbl_df <- tibble(\n",
        "  x = 1:5,\n",
        "  y = 5,\n",
        "  z = x^3 + 5*y\n",
        ")\n",
        "\n",
        "as_tibble(tbl_df^2)\n",
        "#tbl_df^2 ## that the output becomes dataframe"
      ],
      "metadata": {
        "id": "NMEBziOyUup7",
        "outputId": "9445016b-d12b-4fa7-bfd9-90968336f53b",
        "colab": {
          "base_uri": "https://localhost:8080/",
          "height": 255
        }
      },
      "execution_count": null,
      "outputs": [
        {
          "output_type": "display_data",
          "data": {
            "text/plain": [
              "  x  y  z    \n",
              "1  1 25   676\n",
              "2  4 25  1089\n",
              "3  9 25  2704\n",
              "4 16 25  7921\n",
              "5 25 25 22500"
            ],
            "text/latex": "A tibble: 5 × 3\n\\begin{tabular}{lll}\n x & y & z\\\\\n <dbl> & <dbl> & <dbl>\\\\\n\\hline\n\t  1 & 25 &   676\\\\\n\t  4 & 25 &  1089\\\\\n\t  9 & 25 &  2704\\\\\n\t 16 & 25 &  7921\\\\\n\t 25 & 25 & 22500\\\\\n\\end{tabular}\n",
            "text/markdown": "\nA tibble: 5 × 3\n\n| x &lt;dbl&gt; | y &lt;dbl&gt; | z &lt;dbl&gt; |\n|---|---|---|\n|  1 | 25 |   676 |\n|  4 | 25 |  1089 |\n|  9 | 25 |  2704 |\n| 16 | 25 |  7921 |\n| 25 | 25 | 22500 |\n\n",
            "text/html": [
              "<table class=\"dataframe\">\n",
              "<caption>A tibble: 5 × 3</caption>\n",
              "<thead>\n",
              "\t<tr><th scope=col>x</th><th scope=col>y</th><th scope=col>z</th></tr>\n",
              "\t<tr><th scope=col>&lt;dbl&gt;</th><th scope=col>&lt;dbl&gt;</th><th scope=col>&lt;dbl&gt;</th></tr>\n",
              "</thead>\n",
              "<tbody>\n",
              "\t<tr><td> 1</td><td>25</td><td>  676</td></tr>\n",
              "\t<tr><td> 4</td><td>25</td><td> 1089</td></tr>\n",
              "\t<tr><td> 9</td><td>25</td><td> 2704</td></tr>\n",
              "\t<tr><td>16</td><td>25</td><td> 7921</td></tr>\n",
              "\t<tr><td>25</td><td>25</td><td>22500</td></tr>\n",
              "</tbody>\n",
              "</table>\n"
            ]
          },
          "metadata": {}
        }
      ]
    },
    {
      "cell_type": "markdown",
      "source": [
        "<br><br>\n",
        "## 2. Data Importation\n",
        "As discussed earlier, data typically comes in 5 types namely:\n",
        "<br><br>\n",
        "\n",
        "![image.png](data:image/png;base64,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)\n",
        "\n",
        "_[Source: Datacamp]_\n",
        "\n",
        "Our job is to learn how to read and write data in some of these file formats as needed. Most of these file formats require special packages. Below are a few:\n",
        "\n",
        "- **readr** - comma seperated values, tab seperated values and other delimiters (.csv, .txt)\n",
        "- **readxl** - excel files (.xls and .xlsx)\n",
        "- **haven** - SPSS, Stata, and SAS files\n",
        "- **DBI** - databases\n",
        "- **jsonlite** - JSON ((JavaScript Object Notation) \n",
        "- **xml2** - XML\n",
        "- **httr** - Web APIs\n",
        "- **rvest** - HTML (Web Scraping)\n",
        "\n",
        "For the purpose of this lab, we will explore reading and writing delimiters (`readr`) and excel files (`readxl`) as they are arguably the most popular file formats for data."
      ],
      "metadata": {
        "id": "pFHiURMcBD-j"
      }
    },
    {
      "cell_type": "markdown",
      "source": [
        "<br>   \n",
        "## 2.1 Flat Files\n",
        "## **(1) Reading Delimiters**\n",
        "We use the functions:\n",
        "- `read_csv` - for comma separated values\n",
        "- `read_tsv` - for tab separated values\n",
        "- `read_delim` - for general delimiters (could be comma, semi-colon, tab, pipe or any delimiter).\n",
        "\n",
        "General structure arguments for these functions include:   \n",
        "![image.png](data:image/png;base64,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)\n",
        "\n",
        "We will explore a few examples below"
      ],
      "metadata": {
        "id": "HYFtTJChKFV5"
      }
    },
    {
      "cell_type": "markdown",
      "source": [
        "#### **(i) Reading csvs and txts**"
      ],
      "metadata": {
        "id": "hrx-XMsAYIF_"
      }
    },
    {
      "cell_type": "code",
      "source": [
        "## (1) Reading CSV\n",
        "file_path = \"https://raw.githubusercontent.com/bosafoagyare/web-academic/master/content/courses/stats306-W22/Lab-Notes/lab6_data/chicks.csv\"\n",
        "chicks_df = read_csv(file = file_path) \n",
        "head(chicks_df)"
      ],
      "metadata": {
        "id": "aVpc00JcNT7C",
        "outputId": "1bfff20e-c8ff-460a-d6b6-cf849d39ca74",
        "colab": {
          "base_uri": "https://localhost:8080/",
          "height": 488
        }
      },
      "execution_count": null,
      "outputs": [
        {
          "output_type": "stream",
          "name": "stderr",
          "text": [
            "New names:\n",
            "* `` -> ...1\n",
            "\n",
            "\u001b[1mRows: \u001b[22m\u001b[34m71\u001b[39m \u001b[1mColumns: \u001b[22m\u001b[34m3\u001b[39m\n",
            "\u001b[36m──\u001b[39m \u001b[1mColumn specification\u001b[22m \u001b[36m────────────────────────────────────────────────────────\u001b[39m\n",
            "\u001b[1mDelimiter:\u001b[22m \",\"\n",
            "\u001b[31mchr\u001b[39m (1): feed\n",
            "\u001b[32mdbl\u001b[39m (2): ...1, weight\n",
            "\n",
            "\u001b[36mℹ\u001b[39m Use \u001b[30m\u001b[47m\u001b[30m\u001b[47m`spec()`\u001b[47m\u001b[30m\u001b[49m\u001b[39m to retrieve the full column specification for this data.\n",
            "\u001b[36mℹ\u001b[39m Specify the column types or set \u001b[30m\u001b[47m\u001b[30m\u001b[47m`show_col_types = FALSE`\u001b[47m\u001b[30m\u001b[49m\u001b[39m to quiet this message.\n"
          ]
        },
        {
          "output_type": "display_data",
          "data": {
            "text/plain": [
              "  ...1 weight feed     \n",
              "1 1    179    horsebean\n",
              "2 2    160    horsebean\n",
              "3 3    136    horsebean\n",
              "4 4    227    horsebean\n",
              "5 5    217    horsebean\n",
              "6 6    168    horsebean"
            ],
            "text/latex": "A tibble: 6 × 3\n\\begin{tabular}{lll}\n ...1 & weight & feed\\\\\n <dbl> & <dbl> & <chr>\\\\\n\\hline\n\t 1 & 179 & horsebean\\\\\n\t 2 & 160 & horsebean\\\\\n\t 3 & 136 & horsebean\\\\\n\t 4 & 227 & horsebean\\\\\n\t 5 & 217 & horsebean\\\\\n\t 6 & 168 & horsebean\\\\\n\\end{tabular}\n",
            "text/markdown": "\nA tibble: 6 × 3\n\n| ...1 &lt;dbl&gt; | weight &lt;dbl&gt; | feed &lt;chr&gt; |\n|---|---|---|\n| 1 | 179 | horsebean |\n| 2 | 160 | horsebean |\n| 3 | 136 | horsebean |\n| 4 | 227 | horsebean |\n| 5 | 217 | horsebean |\n| 6 | 168 | horsebean |\n\n",
            "text/html": [
              "<table class=\"dataframe\">\n",
              "<caption>A tibble: 6 × 3</caption>\n",
              "<thead>\n",
              "\t<tr><th scope=col>...1</th><th scope=col>weight</th><th scope=col>feed</th></tr>\n",
              "\t<tr><th scope=col>&lt;dbl&gt;</th><th scope=col>&lt;dbl&gt;</th><th scope=col>&lt;chr&gt;</th></tr>\n",
              "</thead>\n",
              "<tbody>\n",
              "\t<tr><td>1</td><td>179</td><td>horsebean</td></tr>\n",
              "\t<tr><td>2</td><td>160</td><td>horsebean</td></tr>\n",
              "\t<tr><td>3</td><td>136</td><td>horsebean</td></tr>\n",
              "\t<tr><td>4</td><td>227</td><td>horsebean</td></tr>\n",
              "\t<tr><td>5</td><td>217</td><td>horsebean</td></tr>\n",
              "\t<tr><td>6</td><td>168</td><td>horsebean</td></tr>\n",
              "</tbody>\n",
              "</table>\n"
            ]
          },
          "metadata": {}
        }
      ]
    },
    {
      "cell_type": "code",
      "source": [
        "## (2) Reading Tab separated file\n",
        "file_path = \"https://raw.githubusercontent.com/bosafoagyare/web-academic/master/content/courses/stats306-W22/Lab-Notes/lab6_data/chicks.txt\"\n",
        "chicks_df_tab = read_tsv(file = file_path) \n",
        "head(chicks_df_tab)"
      ],
      "metadata": {
        "id": "04qIH41TWfNj",
        "outputId": "9a96c4f7-8d97-42a5-b845-b11d85e96154",
        "colab": {
          "base_uri": "https://localhost:8080/",
          "height": 433
        }
      },
      "execution_count": null,
      "outputs": [
        {
          "output_type": "stream",
          "name": "stderr",
          "text": [
            "\u001b[1mRows: \u001b[22m\u001b[34m71\u001b[39m \u001b[1mColumns: \u001b[22m\u001b[34m2\u001b[39m\n",
            "\u001b[36m──\u001b[39m \u001b[1mColumn specification\u001b[22m \u001b[36m────────────────────────────────────────────────────────\u001b[39m\n",
            "\u001b[1mDelimiter:\u001b[22m \"\\t\"\n",
            "\u001b[31mchr\u001b[39m (1): feed\n",
            "\u001b[32mdbl\u001b[39m (1): weight\n",
            "\n",
            "\u001b[36mℹ\u001b[39m Use \u001b[30m\u001b[47m\u001b[30m\u001b[47m`spec()`\u001b[47m\u001b[30m\u001b[49m\u001b[39m to retrieve the full column specification for this data.\n",
            "\u001b[36mℹ\u001b[39m Specify the column types or set \u001b[30m\u001b[47m\u001b[30m\u001b[47m`show_col_types = FALSE`\u001b[47m\u001b[30m\u001b[49m\u001b[39m to quiet this message.\n"
          ]
        },
        {
          "output_type": "display_data",
          "data": {
            "text/plain": [
              "  weight feed     \n",
              "1 179    horsebean\n",
              "2 160    horsebean\n",
              "3 136    horsebean\n",
              "4 227    horsebean\n",
              "5 217    horsebean\n",
              "6 168    horsebean"
            ],
            "text/latex": "A tibble: 6 × 2\n\\begin{tabular}{ll}\n weight & feed\\\\\n <dbl> & <chr>\\\\\n\\hline\n\t 179 & horsebean\\\\\n\t 160 & horsebean\\\\\n\t 136 & horsebean\\\\\n\t 227 & horsebean\\\\\n\t 217 & horsebean\\\\\n\t 168 & horsebean\\\\\n\\end{tabular}\n",
            "text/markdown": "\nA tibble: 6 × 2\n\n| weight &lt;dbl&gt; | feed &lt;chr&gt; |\n|---|---|\n| 179 | horsebean |\n| 160 | horsebean |\n| 136 | horsebean |\n| 227 | horsebean |\n| 217 | horsebean |\n| 168 | horsebean |\n\n",
            "text/html": [
              "<table class=\"dataframe\">\n",
              "<caption>A tibble: 6 × 2</caption>\n",
              "<thead>\n",
              "\t<tr><th scope=col>weight</th><th scope=col>feed</th></tr>\n",
              "\t<tr><th scope=col>&lt;dbl&gt;</th><th scope=col>&lt;chr&gt;</th></tr>\n",
              "</thead>\n",
              "<tbody>\n",
              "\t<tr><td>179</td><td>horsebean</td></tr>\n",
              "\t<tr><td>160</td><td>horsebean</td></tr>\n",
              "\t<tr><td>136</td><td>horsebean</td></tr>\n",
              "\t<tr><td>227</td><td>horsebean</td></tr>\n",
              "\t<tr><td>217</td><td>horsebean</td></tr>\n",
              "\t<tr><td>168</td><td>horsebean</td></tr>\n",
              "</tbody>\n",
              "</table>\n"
            ]
          },
          "metadata": {}
        }
      ]
    },
    {
      "cell_type": "markdown",
      "source": [
        "**_Challenge:_** How would you read the `chicks2.txt` file found [here](\"https://github.com/bosafoagyare/web-academic/tree/master/content/courses/stats306-W22/Lab-Notes/lab6_data\")?"
      ],
      "metadata": {
        "id": "A9XjJHxcXJDu"
      }
    },
    {
      "cell_type": "code",
      "source": [
        "## (3) Reading pipe separated file\n",
        "## your code here\n",
        "data <- read_delim(file = \"https://raw.githubusercontent.com/bosafoagyare/web-academic/master/content/courses/stats306-W22/Lab-Notes/lab6_data/chicks2.txt\")\n",
        "data"
      ],
      "metadata": {
        "id": "_4XCH4buWxFA",
        "outputId": "92459811-e699-48cc-f23f-bcddaef4fe5f",
        "colab": {
          "base_uri": "https://localhost:8080/",
          "height": 1000
        }
      },
      "execution_count": null,
      "outputs": [
        {
          "output_type": "stream",
          "name": "stderr",
          "text": [
            "\u001b[1mRows: \u001b[22m\u001b[34m71\u001b[39m \u001b[1mColumns: \u001b[22m\u001b[34m2\u001b[39m\n",
            "\u001b[36m──\u001b[39m \u001b[1mColumn specification\u001b[22m \u001b[36m────────────────────────────────────────────────────────\u001b[39m\n",
            "\u001b[1mDelimiter:\u001b[22m \"|\"\n",
            "\u001b[31mchr\u001b[39m (1): feed\n",
            "\u001b[32mdbl\u001b[39m (1): weight\n",
            "\n",
            "\u001b[36mℹ\u001b[39m Use \u001b[30m\u001b[47m\u001b[30m\u001b[47m`spec()`\u001b[47m\u001b[30m\u001b[49m\u001b[39m to retrieve the full column specification for this data.\n",
            "\u001b[36mℹ\u001b[39m Specify the column types or set \u001b[30m\u001b[47m\u001b[30m\u001b[47m`show_col_types = FALSE`\u001b[47m\u001b[30m\u001b[49m\u001b[39m to quiet this message.\n"
          ]
        },
        {
          "output_type": "display_data",
          "data": {
            "text/plain": [
              "   weight feed     \n",
              "1  179    horsebean\n",
              "2  160    horsebean\n",
              "3  136    horsebean\n",
              "4  227    horsebean\n",
              "5  217    horsebean\n",
              "6  168    horsebean\n",
              "7  108    horsebean\n",
              "8  124    horsebean\n",
              "9  143    horsebean\n",
              "10 140    horsebean\n",
              "11 309    linseed  \n",
              "12 229    linseed  \n",
              "13 181    linseed  \n",
              "14 141    linseed  \n",
              "15 260    linseed  \n",
              "16 203    linseed  \n",
              "17 148    linseed  \n",
              "18 169    linseed  \n",
              "19 213    linseed  \n",
              "20 257    linseed  \n",
              "21 244    linseed  \n",
              "22 271    linseed  \n",
              "23 243    soybean  \n",
              "24 230    soybean  \n",
              "25 248    soybean  \n",
              "26 327    soybean  \n",
              "27 329    soybean  \n",
              "28 250    soybean  \n",
              "29 193    soybean  \n",
              "30 271    soybean  \n",
              "⋮  ⋮      ⋮        \n",
              "42 226    sunflower\n",
              "43 320    sunflower\n",
              "44 295    sunflower\n",
              "45 334    sunflower\n",
              "46 322    sunflower\n",
              "47 297    sunflower\n",
              "48 318    sunflower\n",
              "49 325    meatmeal \n",
              "50 257    meatmeal \n",
              "51 303    meatmeal \n",
              "52 315    meatmeal \n",
              "53 380    meatmeal \n",
              "54 153    meatmeal \n",
              "55 263    meatmeal \n",
              "56 242    meatmeal \n",
              "57 206    meatmeal \n",
              "58 344    meatmeal \n",
              "59 258    meatmeal \n",
              "60 368    casein   \n",
              "61 390    casein   \n",
              "62 379    casein   \n",
              "63 260    casein   \n",
              "64 404    casein   \n",
              "65 318    casein   \n",
              "66 352    casein   \n",
              "67 359    casein   \n",
              "68 216    casein   \n",
              "69 222    casein   \n",
              "70 283    casein   \n",
              "71 332    casein   "
            ],
            "text/latex": "A spec\\_tbl\\_df: 71 × 2\n\\begin{tabular}{ll}\n weight & feed\\\\\n <dbl> & <chr>\\\\\n\\hline\n\t 179 & horsebean\\\\\n\t 160 & horsebean\\\\\n\t 136 & horsebean\\\\\n\t 227 & horsebean\\\\\n\t 217 & horsebean\\\\\n\t 168 & horsebean\\\\\n\t 108 & horsebean\\\\\n\t 124 & horsebean\\\\\n\t 143 & horsebean\\\\\n\t 140 & horsebean\\\\\n\t 309 & linseed  \\\\\n\t 229 & linseed  \\\\\n\t 181 & linseed  \\\\\n\t 141 & linseed  \\\\\n\t 260 & linseed  \\\\\n\t 203 & linseed  \\\\\n\t 148 & linseed  \\\\\n\t 169 & linseed  \\\\\n\t 213 & linseed  \\\\\n\t 257 & linseed  \\\\\n\t 244 & linseed  \\\\\n\t 271 & linseed  \\\\\n\t 243 & soybean  \\\\\n\t 230 & soybean  \\\\\n\t 248 & soybean  \\\\\n\t 327 & soybean  \\\\\n\t 329 & soybean  \\\\\n\t 250 & soybean  \\\\\n\t 193 & soybean  \\\\\n\t 271 & soybean  \\\\\n\t ⋮ & ⋮\\\\\n\t 226 & sunflower\\\\\n\t 320 & sunflower\\\\\n\t 295 & sunflower\\\\\n\t 334 & sunflower\\\\\n\t 322 & sunflower\\\\\n\t 297 & sunflower\\\\\n\t 318 & sunflower\\\\\n\t 325 & meatmeal \\\\\n\t 257 & meatmeal \\\\\n\t 303 & meatmeal \\\\\n\t 315 & meatmeal \\\\\n\t 380 & meatmeal \\\\\n\t 153 & meatmeal \\\\\n\t 263 & meatmeal \\\\\n\t 242 & meatmeal \\\\\n\t 206 & meatmeal \\\\\n\t 344 & meatmeal \\\\\n\t 258 & meatmeal \\\\\n\t 368 & casein   \\\\\n\t 390 & casein   \\\\\n\t 379 & casein   \\\\\n\t 260 & casein   \\\\\n\t 404 & casein   \\\\\n\t 318 & casein   \\\\\n\t 352 & casein   \\\\\n\t 359 & casein   \\\\\n\t 216 & casein   \\\\\n\t 222 & casein   \\\\\n\t 283 & casein   \\\\\n\t 332 & casein   \\\\\n\\end{tabular}\n",
            "text/markdown": "\nA spec_tbl_df: 71 × 2\n\n| weight &lt;dbl&gt; | feed &lt;chr&gt; |\n|---|---|\n| 179 | horsebean |\n| 160 | horsebean |\n| 136 | horsebean |\n| 227 | horsebean |\n| 217 | horsebean |\n| 168 | horsebean |\n| 108 | horsebean |\n| 124 | horsebean |\n| 143 | horsebean |\n| 140 | horsebean |\n| 309 | linseed   |\n| 229 | linseed   |\n| 181 | linseed   |\n| 141 | linseed   |\n| 260 | linseed   |\n| 203 | linseed   |\n| 148 | linseed   |\n| 169 | linseed   |\n| 213 | linseed   |\n| 257 | linseed   |\n| 244 | linseed   |\n| 271 | linseed   |\n| 243 | soybean   |\n| 230 | soybean   |\n| 248 | soybean   |\n| 327 | soybean   |\n| 329 | soybean   |\n| 250 | soybean   |\n| 193 | soybean   |\n| 271 | soybean   |\n| ⋮ | ⋮ |\n| 226 | sunflower |\n| 320 | sunflower |\n| 295 | sunflower |\n| 334 | sunflower |\n| 322 | sunflower |\n| 297 | sunflower |\n| 318 | sunflower |\n| 325 | meatmeal  |\n| 257 | meatmeal  |\n| 303 | meatmeal  |\n| 315 | meatmeal  |\n| 380 | meatmeal  |\n| 153 | meatmeal  |\n| 263 | meatmeal  |\n| 242 | meatmeal  |\n| 206 | meatmeal  |\n| 344 | meatmeal  |\n| 258 | meatmeal  |\n| 368 | casein    |\n| 390 | casein    |\n| 379 | casein    |\n| 260 | casein    |\n| 404 | casein    |\n| 318 | casein    |\n| 352 | casein    |\n| 359 | casein    |\n| 216 | casein    |\n| 222 | casein    |\n| 283 | casein    |\n| 332 | casein    |\n\n",
            "text/html": [
              "<table class=\"dataframe\">\n",
              "<caption>A spec_tbl_df: 71 × 2</caption>\n",
              "<thead>\n",
              "\t<tr><th scope=col>weight</th><th scope=col>feed</th></tr>\n",
              "\t<tr><th scope=col>&lt;dbl&gt;</th><th scope=col>&lt;chr&gt;</th></tr>\n",
              "</thead>\n",
              "<tbody>\n",
              "\t<tr><td>179</td><td>horsebean</td></tr>\n",
              "\t<tr><td>160</td><td>horsebean</td></tr>\n",
              "\t<tr><td>136</td><td>horsebean</td></tr>\n",
              "\t<tr><td>227</td><td>horsebean</td></tr>\n",
              "\t<tr><td>217</td><td>horsebean</td></tr>\n",
              "\t<tr><td>168</td><td>horsebean</td></tr>\n",
              "\t<tr><td>108</td><td>horsebean</td></tr>\n",
              "\t<tr><td>124</td><td>horsebean</td></tr>\n",
              "\t<tr><td>143</td><td>horsebean</td></tr>\n",
              "\t<tr><td>140</td><td>horsebean</td></tr>\n",
              "\t<tr><td>309</td><td>linseed  </td></tr>\n",
              "\t<tr><td>229</td><td>linseed  </td></tr>\n",
              "\t<tr><td>181</td><td>linseed  </td></tr>\n",
              "\t<tr><td>141</td><td>linseed  </td></tr>\n",
              "\t<tr><td>260</td><td>linseed  </td></tr>\n",
              "\t<tr><td>203</td><td>linseed  </td></tr>\n",
              "\t<tr><td>148</td><td>linseed  </td></tr>\n",
              "\t<tr><td>169</td><td>linseed  </td></tr>\n",
              "\t<tr><td>213</td><td>linseed  </td></tr>\n",
              "\t<tr><td>257</td><td>linseed  </td></tr>\n",
              "\t<tr><td>244</td><td>linseed  </td></tr>\n",
              "\t<tr><td>271</td><td>linseed  </td></tr>\n",
              "\t<tr><td>243</td><td>soybean  </td></tr>\n",
              "\t<tr><td>230</td><td>soybean  </td></tr>\n",
              "\t<tr><td>248</td><td>soybean  </td></tr>\n",
              "\t<tr><td>327</td><td>soybean  </td></tr>\n",
              "\t<tr><td>329</td><td>soybean  </td></tr>\n",
              "\t<tr><td>250</td><td>soybean  </td></tr>\n",
              "\t<tr><td>193</td><td>soybean  </td></tr>\n",
              "\t<tr><td>271</td><td>soybean  </td></tr>\n",
              "\t<tr><td>⋮</td><td>⋮</td></tr>\n",
              "\t<tr><td>226</td><td>sunflower</td></tr>\n",
              "\t<tr><td>320</td><td>sunflower</td></tr>\n",
              "\t<tr><td>295</td><td>sunflower</td></tr>\n",
              "\t<tr><td>334</td><td>sunflower</td></tr>\n",
              "\t<tr><td>322</td><td>sunflower</td></tr>\n",
              "\t<tr><td>297</td><td>sunflower</td></tr>\n",
              "\t<tr><td>318</td><td>sunflower</td></tr>\n",
              "\t<tr><td>325</td><td>meatmeal </td></tr>\n",
              "\t<tr><td>257</td><td>meatmeal </td></tr>\n",
              "\t<tr><td>303</td><td>meatmeal </td></tr>\n",
              "\t<tr><td>315</td><td>meatmeal </td></tr>\n",
              "\t<tr><td>380</td><td>meatmeal </td></tr>\n",
              "\t<tr><td>153</td><td>meatmeal </td></tr>\n",
              "\t<tr><td>263</td><td>meatmeal </td></tr>\n",
              "\t<tr><td>242</td><td>meatmeal </td></tr>\n",
              "\t<tr><td>206</td><td>meatmeal </td></tr>\n",
              "\t<tr><td>344</td><td>meatmeal </td></tr>\n",
              "\t<tr><td>258</td><td>meatmeal </td></tr>\n",
              "\t<tr><td>368</td><td>casein   </td></tr>\n",
              "\t<tr><td>390</td><td>casein   </td></tr>\n",
              "\t<tr><td>379</td><td>casein   </td></tr>\n",
              "\t<tr><td>260</td><td>casein   </td></tr>\n",
              "\t<tr><td>404</td><td>casein   </td></tr>\n",
              "\t<tr><td>318</td><td>casein   </td></tr>\n",
              "\t<tr><td>352</td><td>casein   </td></tr>\n",
              "\t<tr><td>359</td><td>casein   </td></tr>\n",
              "\t<tr><td>216</td><td>casein   </td></tr>\n",
              "\t<tr><td>222</td><td>casein   </td></tr>\n",
              "\t<tr><td>283</td><td>casein   </td></tr>\n",
              "\t<tr><td>332</td><td>casein   </td></tr>\n",
              "</tbody>\n",
              "</table>\n"
            ]
          },
          "metadata": {}
        }
      ]
    },
    {
      "cell_type": "markdown",
      "source": [
        "#### **(ii) Column names**\n",
        "\n",
        "\n",
        "\n",
        "\n"
      ],
      "metadata": {
        "id": "n0MB6j5vYQTr"
      }
    },
    {
      "cell_type": "code",
      "source": [
        "## (4) Discarding column names in reading the data\n",
        "## R automatically sets column names for the data\n",
        "file_path = \"https://raw.githubusercontent.com/bosafoagyare/web-academic/master/content/courses/stats306-W22/Lab-Notes/lab6_data/chicks.txt\"\n",
        "chicks_df_tab = read_tsv(file = file_path, col_names = FALSE) \n",
        "head(chicks_df_tab)"
      ],
      "metadata": {
        "id": "Pis-NYmcYaSg",
        "outputId": "aa88491d-fb3f-42f9-b252-5dbeb03836e1",
        "colab": {
          "base_uri": "https://localhost:8080/",
          "height": 415
        }
      },
      "execution_count": null,
      "outputs": [
        {
          "output_type": "stream",
          "name": "stderr",
          "text": [
            "\u001b[1mRows: \u001b[22m\u001b[34m72\u001b[39m \u001b[1mColumns: \u001b[22m\u001b[34m2\u001b[39m\n",
            "\u001b[36m──\u001b[39m \u001b[1mColumn specification\u001b[22m \u001b[36m────────────────────────────────────────────────────────\u001b[39m\n",
            "\u001b[1mDelimiter:\u001b[22m \"\\t\"\n",
            "\u001b[31mchr\u001b[39m (2): X1, X2\n",
            "\n",
            "\u001b[36mℹ\u001b[39m Use \u001b[30m\u001b[47m\u001b[30m\u001b[47m`spec()`\u001b[47m\u001b[30m\u001b[49m\u001b[39m to retrieve the full column specification for this data.\n",
            "\u001b[36mℹ\u001b[39m Specify the column types or set \u001b[30m\u001b[47m\u001b[30m\u001b[47m`show_col_types = FALSE`\u001b[47m\u001b[30m\u001b[49m\u001b[39m to quiet this message.\n"
          ]
        },
        {
          "output_type": "display_data",
          "data": {
            "text/plain": [
              "  X1     X2       \n",
              "1 weight feed     \n",
              "2 179    horsebean\n",
              "3 160    horsebean\n",
              "4 136    horsebean\n",
              "5 227    horsebean\n",
              "6 217    horsebean"
            ],
            "text/latex": "A tibble: 6 × 2\n\\begin{tabular}{ll}\n X1 & X2\\\\\n <chr> & <chr>\\\\\n\\hline\n\t weight & feed     \\\\\n\t 179    & horsebean\\\\\n\t 160    & horsebean\\\\\n\t 136    & horsebean\\\\\n\t 227    & horsebean\\\\\n\t 217    & horsebean\\\\\n\\end{tabular}\n",
            "text/markdown": "\nA tibble: 6 × 2\n\n| X1 &lt;chr&gt; | X2 &lt;chr&gt; |\n|---|---|\n| weight | feed      |\n| 179    | horsebean |\n| 160    | horsebean |\n| 136    | horsebean |\n| 227    | horsebean |\n| 217    | horsebean |\n\n",
            "text/html": [
              "<table class=\"dataframe\">\n",
              "<caption>A tibble: 6 × 2</caption>\n",
              "<thead>\n",
              "\t<tr><th scope=col>X1</th><th scope=col>X2</th></tr>\n",
              "\t<tr><th scope=col>&lt;chr&gt;</th><th scope=col>&lt;chr&gt;</th></tr>\n",
              "</thead>\n",
              "<tbody>\n",
              "\t<tr><td>weight</td><td>feed     </td></tr>\n",
              "\t<tr><td>179   </td><td>horsebean</td></tr>\n",
              "\t<tr><td>160   </td><td>horsebean</td></tr>\n",
              "\t<tr><td>136   </td><td>horsebean</td></tr>\n",
              "\t<tr><td>227   </td><td>horsebean</td></tr>\n",
              "\t<tr><td>217   </td><td>horsebean</td></tr>\n",
              "</tbody>\n",
              "</table>\n"
            ]
          },
          "metadata": {}
        }
      ]
    },
    {
      "cell_type": "code",
      "source": [
        "## (6) Adding or renaming column names\n",
        "file_path = \"https://raw.githubusercontent.com/bosafoagyare/web-academic/master/content/courses/stats306-W22/Lab-Notes/lab6_data/chicks.txt\"\n",
        "chicks_df_tab = read_tsv(file = file_path,\n",
        "                         col_names = c(\"weight in lb\", \"feed type\"), \n",
        "                         show_col_types = FALSE) ## hides warning message\n",
        "head(chicks_df_tab)"
      ],
      "metadata": {
        "id": "0Rdn-rsdYy7K",
        "outputId": "24718819-2317-40c2-c7f1-aa447a0cdde6",
        "colab": {
          "base_uri": "https://localhost:8080/",
          "height": 286
        }
      },
      "execution_count": null,
      "outputs": [
        {
          "output_type": "display_data",
          "data": {
            "text/plain": [
              "  weight in lb feed type\n",
              "1 weight       feed     \n",
              "2 179          horsebean\n",
              "3 160          horsebean\n",
              "4 136          horsebean\n",
              "5 227          horsebean\n",
              "6 217          horsebean"
            ],
            "text/latex": "A tibble: 6 × 2\n\\begin{tabular}{ll}\n weight in lb & feed type\\\\\n <chr> & <chr>\\\\\n\\hline\n\t weight & feed     \\\\\n\t 179    & horsebean\\\\\n\t 160    & horsebean\\\\\n\t 136    & horsebean\\\\\n\t 227    & horsebean\\\\\n\t 217    & horsebean\\\\\n\\end{tabular}\n",
            "text/markdown": "\nA tibble: 6 × 2\n\n| weight in lb &lt;chr&gt; | feed type &lt;chr&gt; |\n|---|---|\n| weight | feed      |\n| 179    | horsebean |\n| 160    | horsebean |\n| 136    | horsebean |\n| 227    | horsebean |\n| 217    | horsebean |\n\n",
            "text/html": [
              "<table class=\"dataframe\">\n",
              "<caption>A tibble: 6 × 2</caption>\n",
              "<thead>\n",
              "\t<tr><th scope=col>weight in lb</th><th scope=col>feed type</th></tr>\n",
              "\t<tr><th scope=col>&lt;chr&gt;</th><th scope=col>&lt;chr&gt;</th></tr>\n",
              "</thead>\n",
              "<tbody>\n",
              "\t<tr><td>weight</td><td>feed     </td></tr>\n",
              "\t<tr><td>179   </td><td>horsebean</td></tr>\n",
              "\t<tr><td>160   </td><td>horsebean</td></tr>\n",
              "\t<tr><td>136   </td><td>horsebean</td></tr>\n",
              "\t<tr><td>227   </td><td>horsebean</td></tr>\n",
              "\t<tr><td>217   </td><td>horsebean</td></tr>\n",
              "</tbody>\n",
              "</table>\n"
            ]
          },
          "metadata": {}
        }
      ]
    },
    {
      "cell_type": "markdown",
      "source": [
        "#### **(iii) Column tpes**\n",
        "The column types include:    \n",
        "- `c` = character\n",
        "\n",
        "- `i` = integer\n",
        "\n",
        "- `n` = number\n",
        "\n",
        "- `d` = double\n",
        "\n",
        "- `l` = logical\n",
        "\n",
        "- `f` = factor\n",
        "\n",
        "- `D` = date\n",
        "\n",
        "- `T` = date time\n",
        "\n",
        "- `t` = time\n",
        "\n",
        "- `?` = guess\n",
        "\n",
        "- `_ `or `-` = skip"
      ],
      "metadata": {
        "id": "Y65HRMTIavcy"
      }
    },
    {
      "cell_type": "code",
      "source": [
        "## (7) Change default column types to integer and factor respectively\n",
        "file_path = \"https://raw.githubusercontent.com/bosafoagyare/web-academic/master/content/courses/stats306-W22/Lab-Notes/lab6_data/chicks.txt\"\n",
        "chicks_df_tab = read_tsv(file = file_path, col_types = \"if\") ## i for inter, f for factor \n",
        "head(chicks_df_tab)"
      ],
      "metadata": {
        "id": "WTLJQWUiZOoK",
        "outputId": "b7170274-1ee6-48db-f462-3d2a6044a124",
        "colab": {
          "base_uri": "https://localhost:8080/",
          "height": 286
        }
      },
      "execution_count": null,
      "outputs": [
        {
          "output_type": "display_data",
          "data": {
            "text/plain": [
              "  weight feed     \n",
              "1 179    horsebean\n",
              "2 160    horsebean\n",
              "3 136    horsebean\n",
              "4 227    horsebean\n",
              "5 217    horsebean\n",
              "6 168    horsebean"
            ],
            "text/latex": "A tibble: 6 × 2\n\\begin{tabular}{ll}\n weight & feed\\\\\n <int> & <fct>\\\\\n\\hline\n\t 179 & horsebean\\\\\n\t 160 & horsebean\\\\\n\t 136 & horsebean\\\\\n\t 227 & horsebean\\\\\n\t 217 & horsebean\\\\\n\t 168 & horsebean\\\\\n\\end{tabular}\n",
            "text/markdown": "\nA tibble: 6 × 2\n\n| weight &lt;int&gt; | feed &lt;fct&gt; |\n|---|---|\n| 179 | horsebean |\n| 160 | horsebean |\n| 136 | horsebean |\n| 227 | horsebean |\n| 217 | horsebean |\n| 168 | horsebean |\n\n",
            "text/html": [
              "<table class=\"dataframe\">\n",
              "<caption>A tibble: 6 × 2</caption>\n",
              "<thead>\n",
              "\t<tr><th scope=col>weight</th><th scope=col>feed</th></tr>\n",
              "\t<tr><th scope=col>&lt;int&gt;</th><th scope=col>&lt;fct&gt;</th></tr>\n",
              "</thead>\n",
              "<tbody>\n",
              "\t<tr><td>179</td><td>horsebean</td></tr>\n",
              "\t<tr><td>160</td><td>horsebean</td></tr>\n",
              "\t<tr><td>136</td><td>horsebean</td></tr>\n",
              "\t<tr><td>227</td><td>horsebean</td></tr>\n",
              "\t<tr><td>217</td><td>horsebean</td></tr>\n",
              "\t<tr><td>168</td><td>horsebean</td></tr>\n",
              "</tbody>\n",
              "</table>\n"
            ]
          },
          "metadata": {}
        }
      ]
    },
    {
      "cell_type": "markdown",
      "source": [
        "#### **(iv) Skip rows and select row limits**"
      ],
      "metadata": {
        "id": "pynUikaicahJ"
      }
    },
    {
      "cell_type": "code",
      "source": [
        "## (8) skip first 3 rows and set maximum imported rows to 4\n",
        "file_path = \"https://raw.githubusercontent.com/bosafoagyare/web-academic/master/content/courses/stats306-W22/Lab-Notes/lab6_data/chicks.txt\"\n",
        "chicks_df_tab = read_tsv(file = file_path,\n",
        "                         col_names = c(\"weight in lb\", \"feed type\"), \n",
        "                         skip = 3,\n",
        "                         n_max = 4,\n",
        "                         show_col_types = FALSE) ## hides warning message\n",
        "chicks_df_tab"
      ],
      "metadata": {
        "id": "HPE_9NtccDl2",
        "outputId": "90037859-4820-4390-dad9-852c2f172464",
        "colab": {
          "base_uri": "https://localhost:8080/",
          "height": 224
        }
      },
      "execution_count": null,
      "outputs": [
        {
          "output_type": "display_data",
          "data": {
            "text/plain": [
              "  weight in lb feed type\n",
              "1 136          horsebean\n",
              "2 227          horsebean\n",
              "3 217          horsebean\n",
              "4 168          horsebean"
            ],
            "text/latex": "A spec\\_tbl\\_df: 4 × 2\n\\begin{tabular}{ll}\n weight in lb & feed type\\\\\n <dbl> & <chr>\\\\\n\\hline\n\t 136 & horsebean\\\\\n\t 227 & horsebean\\\\\n\t 217 & horsebean\\\\\n\t 168 & horsebean\\\\\n\\end{tabular}\n",
            "text/markdown": "\nA spec_tbl_df: 4 × 2\n\n| weight in lb &lt;dbl&gt; | feed type &lt;chr&gt; |\n|---|---|\n| 136 | horsebean |\n| 227 | horsebean |\n| 217 | horsebean |\n| 168 | horsebean |\n\n",
            "text/html": [
              "<table class=\"dataframe\">\n",
              "<caption>A spec_tbl_df: 4 × 2</caption>\n",
              "<thead>\n",
              "\t<tr><th scope=col>weight in lb</th><th scope=col>feed type</th></tr>\n",
              "\t<tr><th scope=col>&lt;dbl&gt;</th><th scope=col>&lt;chr&gt;</th></tr>\n",
              "</thead>\n",
              "<tbody>\n",
              "\t<tr><td>136</td><td>horsebean</td></tr>\n",
              "\t<tr><td>227</td><td>horsebean</td></tr>\n",
              "\t<tr><td>217</td><td>horsebean</td></tr>\n",
              "\t<tr><td>168</td><td>horsebean</td></tr>\n",
              "</tbody>\n",
              "</table>\n"
            ]
          },
          "metadata": {}
        }
      ]
    },
    {
      "cell_type": "markdown",
      "source": [
        "<br>   \n",
        "## **(2) Writing Delimiters**\n",
        "Much like reading delimited files, we can equally write to files (create files) in R using functions such as:\n",
        "\n",
        "- `write_csv` - for comma separated values\n",
        "- `write_tsv` - for tab separated values\n",
        "- `write_delim` - for general delimiters (could be comma, semi-colon, tab, pipe or any delimiter).\n",
        "\n",
        "**NB:** When writing to file on the file, we use `write_file`\n",
        "\n",
        "The general structure includes:\n",
        "\n",
        "![image.png](data:image/png;base64,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)\n",
        "\n",
        "We will explore a few examples below:"
      ],
      "metadata": {
        "id": "tFeOigyCd1ox"
      }
    },
    {
      "cell_type": "markdown",
      "source": [
        "#### **(i) Writing to delimiters on the fly**\n",
        "**NB:** When writing to file on the file, we use `write_file`"
      ],
      "metadata": {
        "id": "A_Zr-2VwfgQS"
      }
    },
    {
      "cell_type": "code",
      "source": [
        "## (1) Writing to comma delimited\n",
        "write_file(x = \"a,b,c\\n1,2,3\\n4,5,NA\", path = \"file.csv\") # we use \\n to signify new line (next line)\n",
        "\n",
        "## now let's take a look\n",
        "read_csv(file = \"file.csv\")"
      ],
      "metadata": {
        "id": "1NzxsTild6Ff",
        "outputId": "df3e9a81-218e-4ccd-d794-7436b30c62c1",
        "colab": {
          "base_uri": "https://localhost:8080/",
          "height": 381
        }
      },
      "execution_count": null,
      "outputs": [
        {
          "output_type": "stream",
          "name": "stderr",
          "text": [
            "Warning message:\n",
            "“The `path` argument of `write_file()` is deprecated as of readr 1.4.0.\n",
            "Please use the `file` argument instead.\n",
            "\u001b[90mThis warning is displayed once every 8 hours.\u001b[39m\n",
            "\u001b[90mCall `lifecycle::last_lifecycle_warnings()` to see where this warning was generated.\u001b[39m”\n",
            "\u001b[1mRows: \u001b[22m\u001b[34m2\u001b[39m \u001b[1mColumns: \u001b[22m\u001b[34m3\u001b[39m\n",
            "\u001b[36m──\u001b[39m \u001b[1mColumn specification\u001b[22m \u001b[36m────────────────────────────────────────────────────────\u001b[39m\n",
            "\u001b[1mDelimiter:\u001b[22m \",\"\n",
            "\u001b[32mdbl\u001b[39m (3): a, b, c\n",
            "\n",
            "\u001b[36mℹ\u001b[39m Use \u001b[30m\u001b[47m\u001b[30m\u001b[47m`spec()`\u001b[47m\u001b[30m\u001b[49m\u001b[39m to retrieve the full column specification for this data.\n",
            "\u001b[36mℹ\u001b[39m Specify the column types or set \u001b[30m\u001b[47m\u001b[30m\u001b[47m`show_col_types = FALSE`\u001b[47m\u001b[30m\u001b[49m\u001b[39m to quiet this message.\n"
          ]
        },
        {
          "output_type": "display_data",
          "data": {
            "text/plain": [
              "  a b c \n",
              "1 1 2  3\n",
              "2 4 5 NA"
            ],
            "text/latex": "A spec\\_tbl\\_df: 2 × 3\n\\begin{tabular}{lll}\n a & b & c\\\\\n <dbl> & <dbl> & <dbl>\\\\\n\\hline\n\t 1 & 2 &  3\\\\\n\t 4 & 5 & NA\\\\\n\\end{tabular}\n",
            "text/markdown": "\nA spec_tbl_df: 2 × 3\n\n| a &lt;dbl&gt; | b &lt;dbl&gt; | c &lt;dbl&gt; |\n|---|---|---|\n| 1 | 2 |  3 |\n| 4 | 5 | NA |\n\n",
            "text/html": [
              "<table class=\"dataframe\">\n",
              "<caption>A spec_tbl_df: 2 × 3</caption>\n",
              "<thead>\n",
              "\t<tr><th scope=col>a</th><th scope=col>b</th><th scope=col>c</th></tr>\n",
              "\t<tr><th scope=col>&lt;dbl&gt;</th><th scope=col>&lt;dbl&gt;</th><th scope=col>&lt;dbl&gt;</th></tr>\n",
              "</thead>\n",
              "<tbody>\n",
              "\t<tr><td>1</td><td>2</td><td> 3</td></tr>\n",
              "\t<tr><td>4</td><td>5</td><td>NA</td></tr>\n",
              "</tbody>\n",
              "</table>\n"
            ]
          },
          "metadata": {}
        }
      ]
    },
    {
      "cell_type": "code",
      "source": [
        "## (2) Writing to tab delimited\n",
        "write_file(x = \"a\\tb\\tc\\n1\\t2\\t3\\n4\\t5\\tNA\", path = \"file.tsv\")\n",
        "\n",
        "## now let's take a look\n",
        "read_tsv(file = \"file.tsv\")\n"
      ],
      "metadata": {
        "id": "sXirVk_8fxf6",
        "outputId": "a659db53-e6dd-4374-9f19-2f4b82fb50f6",
        "colab": {
          "base_uri": "https://localhost:8080/",
          "height": 289
        }
      },
      "execution_count": null,
      "outputs": [
        {
          "output_type": "stream",
          "name": "stderr",
          "text": [
            "\u001b[1mRows: \u001b[22m\u001b[34m2\u001b[39m \u001b[1mColumns: \u001b[22m\u001b[34m3\u001b[39m\n",
            "\u001b[36m──\u001b[39m \u001b[1mColumn specification\u001b[22m \u001b[36m────────────────────────────────────────────────────────\u001b[39m\n",
            "\u001b[1mDelimiter:\u001b[22m \"\\t\"\n",
            "\u001b[32mdbl\u001b[39m (3): a, b, c\n",
            "\n",
            "\u001b[36mℹ\u001b[39m Use \u001b[30m\u001b[47m\u001b[30m\u001b[47m`spec()`\u001b[47m\u001b[30m\u001b[49m\u001b[39m to retrieve the full column specification for this data.\n",
            "\u001b[36mℹ\u001b[39m Specify the column types or set \u001b[30m\u001b[47m\u001b[30m\u001b[47m`show_col_types = FALSE`\u001b[47m\u001b[30m\u001b[49m\u001b[39m to quiet this message.\n"
          ]
        },
        {
          "output_type": "display_data",
          "data": {
            "text/plain": [
              "  a b c \n",
              "1 1 2  3\n",
              "2 4 5 NA"
            ],
            "text/latex": "A spec\\_tbl\\_df: 2 × 3\n\\begin{tabular}{lll}\n a & b & c\\\\\n <dbl> & <dbl> & <dbl>\\\\\n\\hline\n\t 1 & 2 &  3\\\\\n\t 4 & 5 & NA\\\\\n\\end{tabular}\n",
            "text/markdown": "\nA spec_tbl_df: 2 × 3\n\n| a &lt;dbl&gt; | b &lt;dbl&gt; | c &lt;dbl&gt; |\n|---|---|---|\n| 1 | 2 |  3 |\n| 4 | 5 | NA |\n\n",
            "text/html": [
              "<table class=\"dataframe\">\n",
              "<caption>A spec_tbl_df: 2 × 3</caption>\n",
              "<thead>\n",
              "\t<tr><th scope=col>a</th><th scope=col>b</th><th scope=col>c</th></tr>\n",
              "\t<tr><th scope=col>&lt;dbl&gt;</th><th scope=col>&lt;dbl&gt;</th><th scope=col>&lt;dbl&gt;</th></tr>\n",
              "</thead>\n",
              "<tbody>\n",
              "\t<tr><td>1</td><td>2</td><td> 3</td></tr>\n",
              "\t<tr><td>4</td><td>5</td><td>NA</td></tr>\n",
              "</tbody>\n",
              "</table>\n"
            ]
          },
          "metadata": {}
        }
      ]
    },
    {
      "cell_type": "code",
      "source": [
        "## (3) Writing to pipe-delimited\n",
        "write_file(x = \"a|b|c\\n1|2|3\\n4|5|NA\", path = \"file.txt\")\n",
        "\n",
        "## now let's take a look\n",
        "read_delim(file = \"file.txt\", delim = \"|\")"
      ],
      "metadata": {
        "id": "MekYsclNhQXt",
        "outputId": "37477b39-cc4c-410d-b220-325967049464",
        "colab": {
          "base_uri": "https://localhost:8080/",
          "height": 289
        }
      },
      "execution_count": null,
      "outputs": [
        {
          "output_type": "stream",
          "name": "stderr",
          "text": [
            "\u001b[1mRows: \u001b[22m\u001b[34m2\u001b[39m \u001b[1mColumns: \u001b[22m\u001b[34m3\u001b[39m\n",
            "\u001b[36m──\u001b[39m \u001b[1mColumn specification\u001b[22m \u001b[36m────────────────────────────────────────────────────────\u001b[39m\n",
            "\u001b[1mDelimiter:\u001b[22m \"|\"\n",
            "\u001b[32mdbl\u001b[39m (3): a, b, c\n",
            "\n",
            "\u001b[36mℹ\u001b[39m Use \u001b[30m\u001b[47m\u001b[30m\u001b[47m`spec()`\u001b[47m\u001b[30m\u001b[49m\u001b[39m to retrieve the full column specification for this data.\n",
            "\u001b[36mℹ\u001b[39m Specify the column types or set \u001b[30m\u001b[47m\u001b[30m\u001b[47m`show_col_types = FALSE`\u001b[47m\u001b[30m\u001b[49m\u001b[39m to quiet this message.\n"
          ]
        },
        {
          "output_type": "display_data",
          "data": {
            "text/plain": [
              "  a b c \n",
              "1 1 2  3\n",
              "2 4 5 NA"
            ],
            "text/latex": "A spec\\_tbl\\_df: 2 × 3\n\\begin{tabular}{lll}\n a & b & c\\\\\n <dbl> & <dbl> & <dbl>\\\\\n\\hline\n\t 1 & 2 &  3\\\\\n\t 4 & 5 & NA\\\\\n\\end{tabular}\n",
            "text/markdown": "\nA spec_tbl_df: 2 × 3\n\n| a &lt;dbl&gt; | b &lt;dbl&gt; | c &lt;dbl&gt; |\n|---|---|---|\n| 1 | 2 |  3 |\n| 4 | 5 | NA |\n\n",
            "text/html": [
              "<table class=\"dataframe\">\n",
              "<caption>A spec_tbl_df: 2 × 3</caption>\n",
              "<thead>\n",
              "\t<tr><th scope=col>a</th><th scope=col>b</th><th scope=col>c</th></tr>\n",
              "\t<tr><th scope=col>&lt;dbl&gt;</th><th scope=col>&lt;dbl&gt;</th><th scope=col>&lt;dbl&gt;</th></tr>\n",
              "</thead>\n",
              "<tbody>\n",
              "\t<tr><td>1</td><td>2</td><td> 3</td></tr>\n",
              "\t<tr><td>4</td><td>5</td><td>NA</td></tr>\n",
              "</tbody>\n",
              "</table>\n"
            ]
          },
          "metadata": {}
        }
      ]
    },
    {
      "cell_type": "markdown",
      "source": [
        "#### **(ii) Writing to delimiters from already exixting data**\n",
        "Recall our pets data. We are going to save this to csv, tab and pipe-delimited"
      ],
      "metadata": {
        "id": "vp_VjuuLhnLM"
      }
    },
    {
      "cell_type": "code",
      "source": [
        "## Reacll the pets data\n",
        "tdf"
      ],
      "metadata": {
        "colab": {
          "base_uri": "https://localhost:8080/",
          "height": 224
        },
        "id": "G06wOXDVh5er",
        "outputId": "ff08440e-89cc-4504-87de-bb64910119f4"
      },
      "execution_count": null,
      "outputs": [
        {
          "output_type": "display_data",
          "data": {
            "text/plain": [
              "  name    age weight class\n",
              "1 Nikita  10  24     dog  \n",
              "2 Simons   7  16     cat  \n",
              "3 Pockets  5  12     cat  \n",
              "4 Eres     6  18     dog  "
            ],
            "text/latex": "A tibble: 4 × 4\n\\begin{tabular}{llll}\n name & age & weight & class\\\\\n <chr> & <dbl> & <dbl> & <chr>\\\\\n\\hline\n\t Nikita  & 10 & 24 & dog\\\\\n\t Simons  &  7 & 16 & cat\\\\\n\t Pockets &  5 & 12 & cat\\\\\n\t Eres    &  6 & 18 & dog\\\\\n\\end{tabular}\n",
            "text/markdown": "\nA tibble: 4 × 4\n\n| name &lt;chr&gt; | age &lt;dbl&gt; | weight &lt;dbl&gt; | class &lt;chr&gt; |\n|---|---|---|---|\n| Nikita  | 10 | 24 | dog |\n| Simons  |  7 | 16 | cat |\n| Pockets |  5 | 12 | cat |\n| Eres    |  6 | 18 | dog |\n\n",
            "text/html": [
              "<table class=\"dataframe\">\n",
              "<caption>A tibble: 4 × 4</caption>\n",
              "<thead>\n",
              "\t<tr><th scope=col>name</th><th scope=col>age</th><th scope=col>weight</th><th scope=col>class</th></tr>\n",
              "\t<tr><th scope=col>&lt;chr&gt;</th><th scope=col>&lt;dbl&gt;</th><th scope=col>&lt;dbl&gt;</th><th scope=col>&lt;chr&gt;</th></tr>\n",
              "</thead>\n",
              "<tbody>\n",
              "\t<tr><td>Nikita </td><td>10</td><td>24</td><td>dog</td></tr>\n",
              "\t<tr><td>Simons </td><td> 7</td><td>16</td><td>cat</td></tr>\n",
              "\t<tr><td>Pockets</td><td> 5</td><td>12</td><td>cat</td></tr>\n",
              "\t<tr><td>Eres   </td><td> 6</td><td>18</td><td>dog</td></tr>\n",
              "</tbody>\n",
              "</table>\n"
            ]
          },
          "metadata": {}
        }
      ]
    },
    {
      "cell_type": "code",
      "source": [
        "## (1) Write to csv\n",
        "write_csv(tdf, file = \"pet1.csv\")"
      ],
      "metadata": {
        "id": "f2v9JF6dh9p5"
      },
      "execution_count": null,
      "outputs": []
    },
    {
      "cell_type": "code",
      "source": [
        "## (2) Write to tab delimited\n",
        "write_tsv(tdf, file = \"pet2.tsv\")"
      ],
      "metadata": {
        "id": "TNaAN_xGiPB3"
      },
      "execution_count": null,
      "outputs": []
    },
    {
      "cell_type": "code",
      "source": [
        "## (3) Write to pipe delimited\n",
        "write_delim(tdf, file = \"pet3.txt\", delim = \"|\")"
      ],
      "metadata": {
        "id": "MCaiIU9eiZpU"
      },
      "execution_count": null,
      "outputs": []
    },
    {
      "cell_type": "markdown",
      "source": [
        "<br><br>\n",
        "# 3. Challenge\n",
        "Complete the following tasks:\n",
        "## 3.1 Pets Data\n",
        "- Import the `pets.txt` data from [here](https://github.com/bosafoagyare/web-academic/tree/master/content/courses/stats306-W22/Lab-Notes/lab6_data)\n",
        "- How many rows for each class has no missing values for age?\n",
        "- Create a tibble for the resulting data in task two and save this data to a \"/\" delimited file with name: `compete_pets_df`\n",
        "- Make a bar chart with proportion for this new tibble.\n",
        "- Which class has most pet counts?\n"
      ],
      "metadata": {
        "id": "FLIOgIjOiu0y"
      }
    },
    {
      "cell_type": "code",
      "source": [
        "## your code here\n",
        "\n",
        "## Import the data\n",
        "path_to_file = \"https://raw.githubusercontent.com/bosafoagyare/web-academic/master/content/courses/stats306-W22/Lab-Notes/lab6_data/pets.txt\"\n",
        "data = read_tsv(file = path_to_file, show_col_types = FALSE)\n",
        "\n"
      ],
      "metadata": {
        "id": "J1zJ4nTTm6JN"
      },
      "execution_count": null,
      "outputs": []
    },
    {
      "cell_type": "code",
      "source": [
        "## Create a tibble \n",
        "compete_pets_df <- data %>% \n",
        "       filter(!is.na(age)) %>%\n",
        "       group_by(class) %>% \n",
        "       count()\n",
        "\n",
        "## Export the tible to the file name `compete_pets_df.txt` using forward slash delimiter\n",
        "write_delim(x = compete_pets_df, file = \"compete_pets_df.txt\", delim = \"/\")    "
      ],
      "metadata": {
        "id": "1rOTky2uSEmY"
      },
      "execution_count": null,
      "outputs": []
    },
    {
      "cell_type": "code",
      "source": [
        "compete_pets_df %>%\n",
        "     ggplot() +\n",
        "     geom_bar(aes(x = class, y = n, fill = class), stat=\"identity\")"
      ],
      "metadata": {
        "id": "fOfa-hrgSgCF",
        "outputId": "4ad1af90-2bbb-4e48-89a5-67e72649e821",
        "colab": {
          "base_uri": "https://localhost:8080/",
          "height": 497
        }
      },
      "execution_count": null,
      "outputs": [
        {
          "output_type": "display_data",
          "data": {
            "image/png": "[encoded data removed]",
            "text/plain": [
              "plot without title"
            ]
          },
          "metadata": {
            "image/png": {
              "width": 600,
              "height": 480
            }
          }
        }
      ]
    },
    {
      "cell_type": "markdown",
      "source": [
        "## 3.2 NHANES Data\n",
        "In your job as a data scientist, you would most likely ever download data from a website. We have learned that data can be stored in several formats. One popular language for data analysis, especially in health is SAS. In this challenge, we are going to learn to read a wave of the NHANES (National Health and Nutrition Examination Survey) from the CDC (Centre for Disease and Control) [website](https://www.cdc.gov/).\n",
        "\n",
        "<br>    \n",
        "**(a)**    \n",
        "\n",
        "- First, install and load the `haven` package. (This may already come with Tidyverse). \n",
        "- Import the `Demographics Data` dataset for the year 2015 [here](https://wwwn.cdc.gov/Nchs/Nhanes/continuousnhanes/default.aspx?BeginYear=2015) (DEMO_I.XPT) using the [`read_xpt()`](https://haven.tidyverse.org/reference/read_xpt.html) function (Note that this is a SAS data storage extension). Feel free to read about the documentation of the variables (column names) to get a good idea of what the dataset is about. _[hint: [source here](https://wwwn.cdc.gov/Nchs/Nhanes/2015-2016/DEMO_I.htm)]_\n",
        "- Create a tibble containing only  `RIAGENDR` - Gender, `RIDAGEYR` - Age in years at screening and `DMDEDUC3` - Education level - Children/Youth 6-19. \n",
        "- Construct a histogram and a density plot using appropriate binwidth for the `RIDAGEYR` (Age in years at screening) variable.    \n",
        "\n",
        "🤔 **Question:** What type of distribution best explains the data.\n",
        "\n",
        "\n",
        "**(b)**\n",
        "- Convert the `RIAGENDR` Gender variable to factor _[hint: `as.factor()`]_. Note that this is coded as 1=male and 2=female.\n",
        "- We wish to compare the distribution of age for each gender. What appropriate visuallization tool should be used to explore this problem? Which gender appears to be older based on your plot?\n",
        "- Finally, use an appropriate visualization tool to explore the distribution of the `DMDEDUC3` - Education level variable. Please refer to https://wwwn.cdc.gov/Nchs/Nhanes/2015-2016/DEMO_I.htm#DMDEDUC3 to inspect the coding for this variable. Based on your plot, which grade level has the highest frequency?"
      ],
      "metadata": {
        "id": "p1CzBBTenAoV"
      }
    },
    {
      "cell_type": "markdown",
      "source": [
        "#### **Solution (a)**"
      ],
      "metadata": {
        "id": "MGfD6zo7TAa9"
      }
    },
    {
      "cell_type": "code",
      "source": [
        "## your code here\n",
        "\n",
        "## Install and load haven\n",
        "install.packages(\"haven\")\n",
        "library(haven)\n",
        "\n",
        "## Import Data\n",
        "file_path <- \"https://wwwn.cdc.gov/Nchs/Nhanes/2015-2016/DEMO_I.XPT\"\n",
        "Demo_df   <- read_xpt(file = file_path)\n",
        "\n",
        "## Take a look at the entire data\n",
        "head(Demo_df)"
      ],
      "metadata": {
        "id": "yvdh71qkxKIZ",
        "outputId": "6884ba00-b31d-460e-a990-453ff3ad7972",
        "colab": {
          "base_uri": "https://localhost:8080/",
          "height": 361
        }
      },
      "execution_count": null,
      "outputs": [
        {
          "output_type": "stream",
          "name": "stderr",
          "text": [
            "Installing package into ‘/usr/local/lib/R/site-library’\n",
            "(as ‘lib’ is unspecified)\n",
            "\n"
          ]
        },
        {
          "output_type": "display_data",
          "data": {
            "text/plain": [
              "  SEQN  SDDSRVYR RIDSTATR RIAGENDR RIDAGEYR RIDAGEMN RIDRETH1 RIDRETH3 RIDEXMON\n",
              "1 83732 9        2        1        62       NA       3        3        1       \n",
              "2 83733 9        2        1        53       NA       3        3        1       \n",
              "3 83734 9        2        1        78       NA       3        3        2       \n",
              "4 83735 9        2        2        56       NA       3        3        2       \n",
              "5 83736 9        2        2        42       NA       4        4        2       \n",
              "6 83737 9        2        2        72       NA       1        1        1       \n",
              "  RIDEXAGM ⋯ DMDHREDU DMDHRMAR DMDHSEDU WTINT2YR  WTMEC2YR  SDMVPSU SDMVSTRA\n",
              "1 NA       ⋯ 5        1         3       134671.37 135629.51 1       125     \n",
              "2 NA       ⋯ 3        3        NA        24328.56  25282.43 1       125     \n",
              "3 NA       ⋯ 3        1         3        12400.01  12575.84 1       131     \n",
              "4 NA       ⋯ 5        6        NA       102718.00 102078.63 1       131     \n",
              "5 NA       ⋯ 4        3        NA        17627.67  18234.74 2       126     \n",
              "6 NA       ⋯ 5        1         5        11252.31  10878.68 1       128     \n",
              "  INDHHIN2 INDFMIN2 INDFMPIR\n",
              "1 10       10       4.39    \n",
              "2  4        4       1.32    \n",
              "3  5        5       1.51    \n",
              "4 10       10       5.00    \n",
              "5  7        7       1.23    \n",
              "6 14       14       2.82    "
            ],
            "text/latex": "A tibble: 6 × 47\n\\begin{tabular}{lllllllllllllllllllll}\n SEQN & SDDSRVYR & RIDSTATR & RIAGENDR & RIDAGEYR & RIDAGEMN & RIDRETH1 & RIDRETH3 & RIDEXMON & RIDEXAGM & ⋯ & DMDHREDU & DMDHRMAR & DMDHSEDU & WTINT2YR & WTMEC2YR & SDMVPSU & SDMVSTRA & INDHHIN2 & INDFMIN2 & INDFMPIR\\\\\n <dbl> & <dbl> & <dbl> & <dbl> & <dbl> & <dbl> & <dbl> & <dbl> & <dbl> & <dbl> & ⋯ & <dbl> & <dbl> & <dbl> & <dbl> & <dbl> & <dbl> & <dbl> & <dbl> & <dbl> & <dbl>\\\\\n\\hline\n\t 83732 & 9 & 2 & 1 & 62 & NA & 3 & 3 & 1 & NA & ⋯ & 5 & 1 &  3 & 134671.37 & 135629.51 & 1 & 125 & 10 & 10 & 4.39\\\\\n\t 83733 & 9 & 2 & 1 & 53 & NA & 3 & 3 & 1 & NA & ⋯ & 3 & 3 & NA &  24328.56 &  25282.43 & 1 & 125 &  4 &  4 & 1.32\\\\\n\t 83734 & 9 & 2 & 1 & 78 & NA & 3 & 3 & 2 & NA & ⋯ & 3 & 1 &  3 &  12400.01 &  12575.84 & 1 & 131 &  5 &  5 & 1.51\\\\\n\t 83735 & 9 & 2 & 2 & 56 & NA & 3 & 3 & 2 & NA & ⋯ & 5 & 6 & NA & 102718.00 & 102078.63 & 1 & 131 & 10 & 10 & 5.00\\\\\n\t 83736 & 9 & 2 & 2 & 42 & NA & 4 & 4 & 2 & NA & ⋯ & 4 & 3 & NA &  17627.67 &  18234.74 & 2 & 126 &  7 &  7 & 1.23\\\\\n\t 83737 & 9 & 2 & 2 & 72 & NA & 1 & 1 & 1 & NA & ⋯ & 5 & 1 &  5 &  11252.31 &  10878.68 & 1 & 128 & 14 & 14 & 2.82\\\\\n\\end{tabular}\n",
            "text/markdown": "\nA tibble: 6 × 47\n\n| SEQN &lt;dbl&gt; | SDDSRVYR &lt;dbl&gt; | RIDSTATR &lt;dbl&gt; | RIAGENDR &lt;dbl&gt; | RIDAGEYR &lt;dbl&gt; | RIDAGEMN &lt;dbl&gt; | RIDRETH1 &lt;dbl&gt; | RIDRETH3 &lt;dbl&gt; | RIDEXMON &lt;dbl&gt; | RIDEXAGM &lt;dbl&gt; | ⋯ ⋯ | DMDHREDU &lt;dbl&gt; | DMDHRMAR &lt;dbl&gt; | DMDHSEDU &lt;dbl&gt; | WTINT2YR &lt;dbl&gt; | WTMEC2YR &lt;dbl&gt; | SDMVPSU &lt;dbl&gt; | SDMVSTRA &lt;dbl&gt; | INDHHIN2 &lt;dbl&gt; | INDFMIN2 &lt;dbl&gt; | INDFMPIR &lt;dbl&gt; |\n|---|---|---|---|---|---|---|---|---|---|---|---|---|---|---|---|---|---|---|---|---|\n| 83732 | 9 | 2 | 1 | 62 | NA | 3 | 3 | 1 | NA | ⋯ | 5 | 1 |  3 | 134671.37 | 135629.51 | 1 | 125 | 10 | 10 | 4.39 |\n| 83733 | 9 | 2 | 1 | 53 | NA | 3 | 3 | 1 | NA | ⋯ | 3 | 3 | NA |  24328.56 |  25282.43 | 1 | 125 |  4 |  4 | 1.32 |\n| 83734 | 9 | 2 | 1 | 78 | NA | 3 | 3 | 2 | NA | ⋯ | 3 | 1 |  3 |  12400.01 |  12575.84 | 1 | 131 |  5 |  5 | 1.51 |\n| 83735 | 9 | 2 | 2 | 56 | NA | 3 | 3 | 2 | NA | ⋯ | 5 | 6 | NA | 102718.00 | 102078.63 | 1 | 131 | 10 | 10 | 5.00 |\n| 83736 | 9 | 2 | 2 | 42 | NA | 4 | 4 | 2 | NA | ⋯ | 4 | 3 | NA |  17627.67 |  18234.74 | 2 | 126 |  7 |  7 | 1.23 |\n| 83737 | 9 | 2 | 2 | 72 | NA | 1 | 1 | 1 | NA | ⋯ | 5 | 1 |  5 |  11252.31 |  10878.68 | 1 | 128 | 14 | 14 | 2.82 |\n\n",
            "text/html": [
              "<table class=\"dataframe\">\n",
              "<caption>A tibble: 6 × 47</caption>\n",
              "<thead>\n",
              "\t<tr><th scope=col>SEQN</th><th scope=col>SDDSRVYR</th><th scope=col>RIDSTATR</th><th scope=col>RIAGENDR</th><th scope=col>RIDAGEYR</th><th scope=col>RIDAGEMN</th><th scope=col>RIDRETH1</th><th scope=col>RIDRETH3</th><th scope=col>RIDEXMON</th><th scope=col>RIDEXAGM</th><th scope=col>⋯</th><th scope=col>DMDHREDU</th><th scope=col>DMDHRMAR</th><th scope=col>DMDHSEDU</th><th scope=col>WTINT2YR</th><th scope=col>WTMEC2YR</th><th scope=col>SDMVPSU</th><th scope=col>SDMVSTRA</th><th scope=col>INDHHIN2</th><th scope=col>INDFMIN2</th><th scope=col>INDFMPIR</th></tr>\n",
              "\t<tr><th scope=col>&lt;dbl&gt;</th><th scope=col>&lt;dbl&gt;</th><th scope=col>&lt;dbl&gt;</th><th scope=col>&lt;dbl&gt;</th><th scope=col>&lt;dbl&gt;</th><th scope=col>&lt;dbl&gt;</th><th scope=col>&lt;dbl&gt;</th><th scope=col>&lt;dbl&gt;</th><th scope=col>&lt;dbl&gt;</th><th scope=col>&lt;dbl&gt;</th><th scope=col>⋯</th><th scope=col>&lt;dbl&gt;</th><th scope=col>&lt;dbl&gt;</th><th scope=col>&lt;dbl&gt;</th><th scope=col>&lt;dbl&gt;</th><th scope=col>&lt;dbl&gt;</th><th scope=col>&lt;dbl&gt;</th><th scope=col>&lt;dbl&gt;</th><th scope=col>&lt;dbl&gt;</th><th scope=col>&lt;dbl&gt;</th><th scope=col>&lt;dbl&gt;</th></tr>\n",
              "</thead>\n",
              "<tbody>\n",
              "\t<tr><td>83732</td><td>9</td><td>2</td><td>1</td><td>62</td><td>NA</td><td>3</td><td>3</td><td>1</td><td>NA</td><td>⋯</td><td>5</td><td>1</td><td> 3</td><td>134671.37</td><td>135629.51</td><td>1</td><td>125</td><td>10</td><td>10</td><td>4.39</td></tr>\n",
              "\t<tr><td>83733</td><td>9</td><td>2</td><td>1</td><td>53</td><td>NA</td><td>3</td><td>3</td><td>1</td><td>NA</td><td>⋯</td><td>3</td><td>3</td><td>NA</td><td> 24328.56</td><td> 25282.43</td><td>1</td><td>125</td><td> 4</td><td> 4</td><td>1.32</td></tr>\n",
              "\t<tr><td>83734</td><td>9</td><td>2</td><td>1</td><td>78</td><td>NA</td><td>3</td><td>3</td><td>2</td><td>NA</td><td>⋯</td><td>3</td><td>1</td><td> 3</td><td> 12400.01</td><td> 12575.84</td><td>1</td><td>131</td><td> 5</td><td> 5</td><td>1.51</td></tr>\n",
              "\t<tr><td>83735</td><td>9</td><td>2</td><td>2</td><td>56</td><td>NA</td><td>3</td><td>3</td><td>2</td><td>NA</td><td>⋯</td><td>5</td><td>6</td><td>NA</td><td>102718.00</td><td>102078.63</td><td>1</td><td>131</td><td>10</td><td>10</td><td>5.00</td></tr>\n",
              "\t<tr><td>83736</td><td>9</td><td>2</td><td>2</td><td>42</td><td>NA</td><td>4</td><td>4</td><td>2</td><td>NA</td><td>⋯</td><td>4</td><td>3</td><td>NA</td><td> 17627.67</td><td> 18234.74</td><td>2</td><td>126</td><td> 7</td><td> 7</td><td>1.23</td></tr>\n",
              "\t<tr><td>83737</td><td>9</td><td>2</td><td>2</td><td>72</td><td>NA</td><td>1</td><td>1</td><td>1</td><td>NA</td><td>⋯</td><td>5</td><td>1</td><td> 5</td><td> 11252.31</td><td> 10878.68</td><td>1</td><td>128</td><td>14</td><td>14</td><td>2.82</td></tr>\n",
              "</tbody>\n",
              "</table>\n"
            ]
          },
          "metadata": {}
        }
      ]
    },
    {
      "cell_type": "code",
      "source": [
        "## Create the tibble for Age, Gender and Education level\n",
        "Basics <- Demo_df %>%\n",
        "            select(RIAGENDR, RIDAGEYR, DMDEDUC3)\n",
        "\n",
        "## Create a histogram and density plot\n",
        "Basics %>%\n",
        "   ggplot() +\n",
        "   geom_histogram(aes(x = RIDAGEYR, y = stat(density)), alpha = 0.3) +\n",
        "   geom_density(aes(x = RIDAGEYR), color = \"darkorange\", size = 2) +\n",
        "   theme_bw()           "
      ],
      "metadata": {
        "id": "A3Yo2HjaT3Lq",
        "outputId": "8094b257-5af4-4de8-892f-af441435ef78",
        "colab": {
          "base_uri": "https://localhost:8080/",
          "height": 534
        }
      },
      "execution_count": null,
      "outputs": [
        {
          "output_type": "stream",
          "name": "stderr",
          "text": [
            "`stat_bin()` using `bins = 30`. Pick better value with `binwidth`.\n",
            "\n"
          ]
        },
        {
          "output_type": "display_data",
          "data": {
            "image/png": "[encoded data removed]",
            "text/plain": [
              "plot without title"
            ]
          },
          "metadata": {
            "image/png": {
              "width": 600,
              "height": 480
            }
          }
        }
      ]
    },
    {
      "cell_type": "markdown",
      "source": [
        "✅ **Answer:** The data fairly exhibit a right tail distribition, with a spike around age 80. Generally, lots of people are within the age 0 to 18."
      ],
      "metadata": {
        "id": "g-hlP6axkABC"
      }
    },
    {
      "cell_type": "markdown",
      "source": [
        "#### **Solution (b)**"
      ],
      "metadata": {
        "id": "yIUjzk7jWMa3"
      }
    },
    {
      "cell_type": "code",
      "source": [
        "## Convert RIAGENDR to factor\n",
        "\n",
        "# OPTION 1\n",
        "Basics <- Basics %>%\n",
        "            mutate(RIAGENDR = factor(RIAGENDR)) ## This changes the data type from int to fct\n",
        "\n",
        "# OPTION 2\n",
        "## More appropriately, you may want to recode the values \n",
        "## Recall that 1 = male and 2 = female\n",
        "## I will store this as a new variable Gender\n",
        "Basics <- Basics %>%\n",
        "            mutate(Gender = factor(RIAGENDR,\n",
        "                                   levels = c(1,2), ## 1 for male, 2 for female\n",
        "                                   labels = c(\"male\", \"female\")\n",
        "            ))\n",
        "\n",
        "\n",
        "head(Basics)"
      ],
      "metadata": {
        "id": "LdnM300LU7-X",
        "outputId": "5ab380e5-3356-45c0-e89e-5231233f55a8",
        "colab": {
          "base_uri": "https://localhost:8080/",
          "height": 286
        }
      },
      "execution_count": null,
      "outputs": [
        {
          "output_type": "display_data",
          "data": {
            "text/plain": [
              "  RIAGENDR RIDAGEYR DMDEDUC3 Gender\n",
              "1 1        62       NA       male  \n",
              "2 1        53       NA       male  \n",
              "3 1        78       NA       male  \n",
              "4 2        56       NA       female\n",
              "5 2        42       NA       female\n",
              "6 2        72       NA       female"
            ],
            "text/latex": "A tibble: 6 × 4\n\\begin{tabular}{llll}\n RIAGENDR & RIDAGEYR & DMDEDUC3 & Gender\\\\\n <fct> & <dbl> & <dbl> & <fct>\\\\\n\\hline\n\t 1 & 62 & NA & male  \\\\\n\t 1 & 53 & NA & male  \\\\\n\t 1 & 78 & NA & male  \\\\\n\t 2 & 56 & NA & female\\\\\n\t 2 & 42 & NA & female\\\\\n\t 2 & 72 & NA & female\\\\\n\\end{tabular}\n",
            "text/markdown": "\nA tibble: 6 × 4\n\n| RIAGENDR &lt;fct&gt; | RIDAGEYR &lt;dbl&gt; | DMDEDUC3 &lt;dbl&gt; | Gender &lt;fct&gt; |\n|---|---|---|---|\n| 1 | 62 | NA | male   |\n| 1 | 53 | NA | male   |\n| 1 | 78 | NA | male   |\n| 2 | 56 | NA | female |\n| 2 | 42 | NA | female |\n| 2 | 72 | NA | female |\n\n",
            "text/html": [
              "<table class=\"dataframe\">\n",
              "<caption>A tibble: 6 × 4</caption>\n",
              "<thead>\n",
              "\t<tr><th scope=col>RIAGENDR</th><th scope=col>RIDAGEYR</th><th scope=col>DMDEDUC3</th><th scope=col>Gender</th></tr>\n",
              "\t<tr><th scope=col>&lt;fct&gt;</th><th scope=col>&lt;dbl&gt;</th><th scope=col>&lt;dbl&gt;</th><th scope=col>&lt;fct&gt;</th></tr>\n",
              "</thead>\n",
              "<tbody>\n",
              "\t<tr><td>1</td><td>62</td><td>NA</td><td>male  </td></tr>\n",
              "\t<tr><td>1</td><td>53</td><td>NA</td><td>male  </td></tr>\n",
              "\t<tr><td>1</td><td>78</td><td>NA</td><td>male  </td></tr>\n",
              "\t<tr><td>2</td><td>56</td><td>NA</td><td>female</td></tr>\n",
              "\t<tr><td>2</td><td>42</td><td>NA</td><td>female</td></tr>\n",
              "\t<tr><td>2</td><td>72</td><td>NA</td><td>female</td></tr>\n",
              "</tbody>\n",
              "</table>\n"
            ]
          },
          "metadata": {}
        }
      ]
    },
    {
      "cell_type": "code",
      "source": [
        "## Compare the distribution of AGE for GENDER\n",
        "Basics %>%\n",
        "  ggplot(mapping = aes(x = Gender, y = RIDAGEYR, fill = Gender)) +\n",
        "  geom_boxplot() + \n",
        "  theme_bw()"
      ],
      "metadata": {
        "id": "YMsoEe76lNJ5",
        "outputId": "2450d800-26b4-46f0-f691-0e87d24f9c6a",
        "colab": {
          "base_uri": "https://localhost:8080/",
          "height": 497
        }
      },
      "execution_count": null,
      "outputs": [
        {
          "output_type": "display_data",
          "data": {
            "image/png": "[encoded data removed]",
            "text/plain": [
              "plot without title"
            ]
          },
          "metadata": {
            "image/png": {
              "width": 600,
              "height": 480
            }
          }
        }
      ]
    },
    {
      "cell_type": "markdown",
      "source": [
        "✅ **Answer:** The data seem exhibits equal distribution for both Genders.   \n",
        "<br>"
      ],
      "metadata": {
        "id": "6Jm7WT_wnpr8"
      }
    },
    {
      "cell_type": "code",
      "source": [
        "## DMDEDUC3 - Education level - Children/Youth 6-19 is a categorical variable according to the documentation\n",
        "## Thus, I'll convert it to a factor data type and optionally add the labels according to the coding from the docs\n",
        "\n",
        "## Get all the unique coding for this variable\n",
        "## This saves me some time than looking it up from the documentation\n",
        "coding <- sort(unique(Basics$DMDEDUC3))\n",
        "coding <- c(coding, NA) #add NA to the coding since it exists in the documentation\n",
        "\n",
        "## Create a vector for the labels for the coding. See documentation\n",
        "label <- c(\"Never attended / kindergarten only\", \n",
        "           \"1st grade\", \"2nd grade\", \"3rd grade\",\n",
        "           \"4th grade\", \"5th grade\", \"6th grade\",\n",
        "           \"7th grade\", \"8th grade\", \"9th grade\",\n",
        "           \"10th grade\", \"11th grade\", \"12th grade, no diploma\",\n",
        "           \"High school graduate\", \"GED or equivalent\",\n",
        "           \"More than high school\", \"Less than 5th grade\",\n",
        "           \"Less than 9th grade\", \"Don't Know\")\n",
        "\n",
        "\n",
        "Basics <- Basics %>%\n",
        "            mutate(Education = factor(DMDEDUC3,\n",
        "                                     levels = coding,\n",
        "                                     labels = label\n",
        "            ))\n"
      ],
      "metadata": {
        "id": "vq_hOezgnO_r"
      },
      "execution_count": null,
      "outputs": []
    },
    {
      "cell_type": "code",
      "source": [
        "## Make a bar chart to visualze the distribution\n",
        "Basics %>% \n",
        "   ggplot(aes(x = Education, fill = Education)) +\n",
        "   geom_bar() + \n",
        "   theme_bw()"
      ],
      "metadata": {
        "id": "88fo1eeptoBJ",
        "outputId": "35311c43-6728-4e67-976d-4fa5225dce68",
        "colab": {
          "base_uri": "https://localhost:8080/",
          "height": 497
        }
      },
      "execution_count": null,
      "outputs": [
        {
          "output_type": "display_data",
          "data": {
            "image/png": "[encoded data removed]",
            "text/plain": [
              "plot without title"
            ]
          },
          "metadata": {
            "image/png": {
              "width": 600,
              "height": 480
            }
          }
        }
      ]
    },
    {
      "cell_type": "code",
      "source": [
        "## We notice two problems from the plot above:\n",
        "## (1) The NA overwhelms the rest of the data. It might be a good idea to remove all NAs\n",
        "## (2) The labels on the x-axis are overlapping. We should definitely fix this!\n",
        "Basics %>%\n",
        "   filter(!is.na(Education)) %>% ## remove the NAs\n",
        "   ggplot(aes(x = Education, fill = Education)) +\n",
        "   geom_bar() + \n",
        "   ## rotate the xlabels to angle of 45 degrees\n",
        "   theme(axis.text.x = element_text(angle = 45, hjust=1)) \n"
      ],
      "metadata": {
        "id": "WUEhiWAiuPPT",
        "outputId": "e371b098-4325-40d6-b2a4-6be77ede5fcf",
        "colab": {
          "base_uri": "https://localhost:8080/",
          "height": 497
        }
      },
      "execution_count": null,
      "outputs": [
        {
          "output_type": "display_data",
          "data": {
            "image/png": "[encoded data removed]",
            "text/plain": [
              "plot without title"
            ]
          },
          "metadata": {
            "image/png": {
              "width": 600,
              "height": 480
            }
          }
        }
      ]
    },
    {
      "cell_type": "markdown",
      "source": [
        "✅ **Answer:** From the graph, the 1st grade has most counts."
      ],
      "metadata": {
        "id": "FPWUV3vnzxwE"
      }
    }
  ]
}